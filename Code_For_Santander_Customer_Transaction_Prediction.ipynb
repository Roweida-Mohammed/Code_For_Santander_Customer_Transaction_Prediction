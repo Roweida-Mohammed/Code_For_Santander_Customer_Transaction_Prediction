{
  "nbformat": 4,
  "nbformat_minor": 0,
  "metadata": {
    "colab": {
      "name": "Code_For_Santander_Customer_Transaction_Prediction",
      "provenance": [],
      "collapsed_sections": [],
      "toc_visible": true,
      "include_colab_link": true
    },
    "kernelspec": {
      "name": "python3",
      "display_name": "Python 3"
    },
    "accelerator": "GPU"
  },
  "cells": [
    {
      "cell_type": "markdown",
      "metadata": {
        "id": "view-in-github",
        "colab_type": "text"
      },
      "source": [
        "<a href=\"https://colab.research.google.com/github/Roweida-Mohammed/Code_For_Santander_Customer_Transaction_Prediction/blob/master/Code_For_Santander_Customer_Transaction_Prediction.ipynb\" target=\"_parent\"><img src=\"https://colab.research.google.com/assets/colab-badge.svg\" alt=\"Open In Colab\"/></a>"
      ]
    },
    {
      "cell_type": "markdown",
      "metadata": {
        "id": "gYcrL4LDeOOk",
        "colab_type": "text"
      },
      "source": [
        "##Importing all the necessary libraries"
      ]
    },
    {
      "cell_type": "code",
      "metadata": {
        "id": "w4hr3vz2Y-Lk",
        "colab_type": "code",
        "colab": {}
      },
      "source": [
        "import numpy as np\n",
        "import pandas as pd\n",
        "from pandas import DataFrame as df \n",
        "import matplotlib.pyplot as plt\n",
        "import seaborn as sns\n",
        "from sklearn.model_selection import train_test_split\n",
        "from sklearn.preprocessing import StandardScaler\n",
        "from sklearn import svm\n",
        "from sklearn.model_selection import KFold\n",
        "from sklearn.model_selection import StratifiedKFold\n",
        "from sklearn.metrics import fbeta_score, make_scorer\n",
        "from sklearn.metrics import roc_auc_score\n",
        "from sklearn.metrics import roc_curve\n",
        "from sklearn.linear_model import LogisticRegression\n",
        "from sklearn import metrics\n",
        "from sklearn.utils import resample\n",
        "from sklearn.feature_selection import SelectFromModel \n",
        "from sklearn.model_selection import GridSearchCV \n",
        "from sklearn.naive_bayes import GaussianNB\n",
        "from sklearn.tree import DecisionTreeClassifier\n",
        "from sklearn.ensemble import RandomForestRegressor  \n",
        "from sklearn.ensemble import RandomForestClassifier, GradientBoostingClassifier, AdaBoostClassifier, BaggingClassifier, VotingClassifier"
      ],
      "execution_count": 0,
      "outputs": []
    },
    {
      "cell_type": "markdown",
      "metadata": {
        "id": "jCMaj4-dgyKQ",
        "colab_type": "text"
      },
      "source": [
        "##For plotting issues"
      ]
    },
    {
      "cell_type": "code",
      "metadata": {
        "id": "m6dHyQjDgizO",
        "colab_type": "code",
        "colab": {}
      },
      "source": [
        "acc = []; pre = [] ; rec = [] ; f = [] ; ro = []"
      ],
      "execution_count": 0,
      "outputs": []
    },
    {
      "cell_type": "markdown",
      "metadata": {
        "id": "8c-LWYOjg3ks",
        "colab_type": "text"
      },
      "source": [
        "##Reading the training dataset"
      ]
    },
    {
      "cell_type": "code",
      "metadata": {
        "id": "CMgVRKYehV_f",
        "colab_type": "code",
        "outputId": "70d8d891-a833-4cff-cd05-73fb7b41844a",
        "colab": {
          "base_uri": "https://localhost:8080/",
          "height": 253
        }
      },
      "source": [
        "trainDataSet = pd.read_csv(\"train.csv\")\n",
        "trainDataSet.head()"
      ],
      "execution_count": 0,
      "outputs": [
        {
          "output_type": "execute_result",
          "data": {
            "text/html": [
              "<div>\n",
              "<style scoped>\n",
              "    .dataframe tbody tr th:only-of-type {\n",
              "        vertical-align: middle;\n",
              "    }\n",
              "\n",
              "    .dataframe tbody tr th {\n",
              "        vertical-align: top;\n",
              "    }\n",
              "\n",
              "    .dataframe thead th {\n",
              "        text-align: right;\n",
              "    }\n",
              "</style>\n",
              "<table border=\"1\" class=\"dataframe\">\n",
              "  <thead>\n",
              "    <tr style=\"text-align: right;\">\n",
              "      <th></th>\n",
              "      <th>ID_code</th>\n",
              "      <th>target</th>\n",
              "      <th>var_0</th>\n",
              "      <th>var_1</th>\n",
              "      <th>var_2</th>\n",
              "      <th>var_3</th>\n",
              "      <th>var_4</th>\n",
              "      <th>var_5</th>\n",
              "      <th>var_6</th>\n",
              "      <th>var_7</th>\n",
              "      <th>var_8</th>\n",
              "      <th>var_9</th>\n",
              "      <th>var_10</th>\n",
              "      <th>var_11</th>\n",
              "      <th>var_12</th>\n",
              "      <th>var_13</th>\n",
              "      <th>var_14</th>\n",
              "      <th>var_15</th>\n",
              "      <th>var_16</th>\n",
              "      <th>var_17</th>\n",
              "      <th>var_18</th>\n",
              "      <th>var_19</th>\n",
              "      <th>var_20</th>\n",
              "      <th>var_21</th>\n",
              "      <th>var_22</th>\n",
              "      <th>var_23</th>\n",
              "      <th>var_24</th>\n",
              "      <th>var_25</th>\n",
              "      <th>var_26</th>\n",
              "      <th>var_27</th>\n",
              "      <th>var_28</th>\n",
              "      <th>var_29</th>\n",
              "      <th>var_30</th>\n",
              "      <th>var_31</th>\n",
              "      <th>var_32</th>\n",
              "      <th>var_33</th>\n",
              "      <th>var_34</th>\n",
              "      <th>var_35</th>\n",
              "      <th>var_36</th>\n",
              "      <th>var_37</th>\n",
              "      <th>...</th>\n",
              "      <th>var_160</th>\n",
              "      <th>var_161</th>\n",
              "      <th>var_162</th>\n",
              "      <th>var_163</th>\n",
              "      <th>var_164</th>\n",
              "      <th>var_165</th>\n",
              "      <th>var_166</th>\n",
              "      <th>var_167</th>\n",
              "      <th>var_168</th>\n",
              "      <th>var_169</th>\n",
              "      <th>var_170</th>\n",
              "      <th>var_171</th>\n",
              "      <th>var_172</th>\n",
              "      <th>var_173</th>\n",
              "      <th>var_174</th>\n",
              "      <th>var_175</th>\n",
              "      <th>var_176</th>\n",
              "      <th>var_177</th>\n",
              "      <th>var_178</th>\n",
              "      <th>var_179</th>\n",
              "      <th>var_180</th>\n",
              "      <th>var_181</th>\n",
              "      <th>var_182</th>\n",
              "      <th>var_183</th>\n",
              "      <th>var_184</th>\n",
              "      <th>var_185</th>\n",
              "      <th>var_186</th>\n",
              "      <th>var_187</th>\n",
              "      <th>var_188</th>\n",
              "      <th>var_189</th>\n",
              "      <th>var_190</th>\n",
              "      <th>var_191</th>\n",
              "      <th>var_192</th>\n",
              "      <th>var_193</th>\n",
              "      <th>var_194</th>\n",
              "      <th>var_195</th>\n",
              "      <th>var_196</th>\n",
              "      <th>var_197</th>\n",
              "      <th>var_198</th>\n",
              "      <th>var_199</th>\n",
              "    </tr>\n",
              "  </thead>\n",
              "  <tbody>\n",
              "    <tr>\n",
              "      <th>0</th>\n",
              "      <td>train_0</td>\n",
              "      <td>0</td>\n",
              "      <td>8.9255</td>\n",
              "      <td>-6.7863</td>\n",
              "      <td>11.9081</td>\n",
              "      <td>5.0930</td>\n",
              "      <td>11.4607</td>\n",
              "      <td>-9.2834</td>\n",
              "      <td>5.1187</td>\n",
              "      <td>18.6266</td>\n",
              "      <td>-4.9200</td>\n",
              "      <td>5.7470</td>\n",
              "      <td>2.9252</td>\n",
              "      <td>3.1821</td>\n",
              "      <td>14.0137</td>\n",
              "      <td>0.5745</td>\n",
              "      <td>8.7989</td>\n",
              "      <td>14.5691</td>\n",
              "      <td>5.7487</td>\n",
              "      <td>-7.2393</td>\n",
              "      <td>4.2840</td>\n",
              "      <td>30.7133</td>\n",
              "      <td>10.5350</td>\n",
              "      <td>16.2191</td>\n",
              "      <td>2.5791</td>\n",
              "      <td>2.4716</td>\n",
              "      <td>14.3831</td>\n",
              "      <td>13.4325</td>\n",
              "      <td>-5.1488</td>\n",
              "      <td>-0.4073</td>\n",
              "      <td>4.9306</td>\n",
              "      <td>5.9965</td>\n",
              "      <td>-0.3085</td>\n",
              "      <td>12.9041</td>\n",
              "      <td>-3.8766</td>\n",
              "      <td>16.8911</td>\n",
              "      <td>11.1920</td>\n",
              "      <td>10.5785</td>\n",
              "      <td>0.6764</td>\n",
              "      <td>7.8871</td>\n",
              "      <td>...</td>\n",
              "      <td>15.4576</td>\n",
              "      <td>5.3133</td>\n",
              "      <td>3.6159</td>\n",
              "      <td>5.0384</td>\n",
              "      <td>6.6760</td>\n",
              "      <td>12.6644</td>\n",
              "      <td>2.7004</td>\n",
              "      <td>-0.6975</td>\n",
              "      <td>9.5981</td>\n",
              "      <td>5.4879</td>\n",
              "      <td>-4.7645</td>\n",
              "      <td>-8.4254</td>\n",
              "      <td>20.8773</td>\n",
              "      <td>3.1531</td>\n",
              "      <td>18.5618</td>\n",
              "      <td>7.7423</td>\n",
              "      <td>-10.1245</td>\n",
              "      <td>13.7241</td>\n",
              "      <td>-3.5189</td>\n",
              "      <td>1.7202</td>\n",
              "      <td>-8.4051</td>\n",
              "      <td>9.0164</td>\n",
              "      <td>3.0657</td>\n",
              "      <td>14.3691</td>\n",
              "      <td>25.8398</td>\n",
              "      <td>5.8764</td>\n",
              "      <td>11.8411</td>\n",
              "      <td>-19.7159</td>\n",
              "      <td>17.5743</td>\n",
              "      <td>0.5857</td>\n",
              "      <td>4.4354</td>\n",
              "      <td>3.9642</td>\n",
              "      <td>3.1364</td>\n",
              "      <td>1.6910</td>\n",
              "      <td>18.5227</td>\n",
              "      <td>-2.3978</td>\n",
              "      <td>7.8784</td>\n",
              "      <td>8.5635</td>\n",
              "      <td>12.7803</td>\n",
              "      <td>-1.0914</td>\n",
              "    </tr>\n",
              "    <tr>\n",
              "      <th>1</th>\n",
              "      <td>train_1</td>\n",
              "      <td>0</td>\n",
              "      <td>11.5006</td>\n",
              "      <td>-4.1473</td>\n",
              "      <td>13.8588</td>\n",
              "      <td>5.3890</td>\n",
              "      <td>12.3622</td>\n",
              "      <td>7.0433</td>\n",
              "      <td>5.6208</td>\n",
              "      <td>16.5338</td>\n",
              "      <td>3.1468</td>\n",
              "      <td>8.0851</td>\n",
              "      <td>-0.4032</td>\n",
              "      <td>8.0585</td>\n",
              "      <td>14.0239</td>\n",
              "      <td>8.4135</td>\n",
              "      <td>5.4345</td>\n",
              "      <td>13.7003</td>\n",
              "      <td>13.8275</td>\n",
              "      <td>-15.5849</td>\n",
              "      <td>7.8000</td>\n",
              "      <td>28.5708</td>\n",
              "      <td>3.4287</td>\n",
              "      <td>2.7407</td>\n",
              "      <td>8.5524</td>\n",
              "      <td>3.3716</td>\n",
              "      <td>6.9779</td>\n",
              "      <td>13.8910</td>\n",
              "      <td>-11.7684</td>\n",
              "      <td>-2.5586</td>\n",
              "      <td>5.0464</td>\n",
              "      <td>0.5481</td>\n",
              "      <td>-9.2987</td>\n",
              "      <td>7.8755</td>\n",
              "      <td>1.2859</td>\n",
              "      <td>19.3710</td>\n",
              "      <td>11.3702</td>\n",
              "      <td>0.7399</td>\n",
              "      <td>2.7995</td>\n",
              "      <td>5.8434</td>\n",
              "      <td>...</td>\n",
              "      <td>29.4846</td>\n",
              "      <td>5.8683</td>\n",
              "      <td>3.8208</td>\n",
              "      <td>15.8348</td>\n",
              "      <td>-5.0121</td>\n",
              "      <td>15.1345</td>\n",
              "      <td>3.2003</td>\n",
              "      <td>9.3192</td>\n",
              "      <td>3.8821</td>\n",
              "      <td>5.7999</td>\n",
              "      <td>5.5378</td>\n",
              "      <td>5.0988</td>\n",
              "      <td>22.0330</td>\n",
              "      <td>5.5134</td>\n",
              "      <td>30.2645</td>\n",
              "      <td>10.4968</td>\n",
              "      <td>-7.2352</td>\n",
              "      <td>16.5721</td>\n",
              "      <td>-7.3477</td>\n",
              "      <td>11.0752</td>\n",
              "      <td>-5.5937</td>\n",
              "      <td>9.4878</td>\n",
              "      <td>-14.9100</td>\n",
              "      <td>9.4245</td>\n",
              "      <td>22.5441</td>\n",
              "      <td>-4.8622</td>\n",
              "      <td>7.6543</td>\n",
              "      <td>-15.9319</td>\n",
              "      <td>13.3175</td>\n",
              "      <td>-0.3566</td>\n",
              "      <td>7.6421</td>\n",
              "      <td>7.7214</td>\n",
              "      <td>2.5837</td>\n",
              "      <td>10.9516</td>\n",
              "      <td>15.4305</td>\n",
              "      <td>2.0339</td>\n",
              "      <td>8.1267</td>\n",
              "      <td>8.7889</td>\n",
              "      <td>18.3560</td>\n",
              "      <td>1.9518</td>\n",
              "    </tr>\n",
              "    <tr>\n",
              "      <th>2</th>\n",
              "      <td>train_2</td>\n",
              "      <td>0</td>\n",
              "      <td>8.6093</td>\n",
              "      <td>-2.7457</td>\n",
              "      <td>12.0805</td>\n",
              "      <td>7.8928</td>\n",
              "      <td>10.5825</td>\n",
              "      <td>-9.0837</td>\n",
              "      <td>6.9427</td>\n",
              "      <td>14.6155</td>\n",
              "      <td>-4.9193</td>\n",
              "      <td>5.9525</td>\n",
              "      <td>-0.3249</td>\n",
              "      <td>-11.2648</td>\n",
              "      <td>14.1929</td>\n",
              "      <td>7.3124</td>\n",
              "      <td>7.5244</td>\n",
              "      <td>14.6472</td>\n",
              "      <td>7.6782</td>\n",
              "      <td>-1.7395</td>\n",
              "      <td>4.7011</td>\n",
              "      <td>20.4775</td>\n",
              "      <td>17.7559</td>\n",
              "      <td>18.1377</td>\n",
              "      <td>1.2145</td>\n",
              "      <td>3.5137</td>\n",
              "      <td>5.6777</td>\n",
              "      <td>13.2177</td>\n",
              "      <td>-7.9940</td>\n",
              "      <td>-2.9029</td>\n",
              "      <td>5.8463</td>\n",
              "      <td>6.1439</td>\n",
              "      <td>-11.1025</td>\n",
              "      <td>12.4858</td>\n",
              "      <td>-2.2871</td>\n",
              "      <td>19.0422</td>\n",
              "      <td>11.0449</td>\n",
              "      <td>4.1087</td>\n",
              "      <td>4.6974</td>\n",
              "      <td>6.9346</td>\n",
              "      <td>...</td>\n",
              "      <td>13.2070</td>\n",
              "      <td>5.8442</td>\n",
              "      <td>4.7086</td>\n",
              "      <td>5.7141</td>\n",
              "      <td>-1.0410</td>\n",
              "      <td>20.5092</td>\n",
              "      <td>3.2790</td>\n",
              "      <td>-5.5952</td>\n",
              "      <td>7.3176</td>\n",
              "      <td>5.7690</td>\n",
              "      <td>-7.0927</td>\n",
              "      <td>-3.9116</td>\n",
              "      <td>7.2569</td>\n",
              "      <td>-5.8234</td>\n",
              "      <td>25.6820</td>\n",
              "      <td>10.9202</td>\n",
              "      <td>-0.3104</td>\n",
              "      <td>8.8438</td>\n",
              "      <td>-9.7009</td>\n",
              "      <td>2.4013</td>\n",
              "      <td>-4.2935</td>\n",
              "      <td>9.3908</td>\n",
              "      <td>-13.2648</td>\n",
              "      <td>3.1545</td>\n",
              "      <td>23.0866</td>\n",
              "      <td>-5.3000</td>\n",
              "      <td>5.3745</td>\n",
              "      <td>-6.2660</td>\n",
              "      <td>10.1934</td>\n",
              "      <td>-0.8417</td>\n",
              "      <td>2.9057</td>\n",
              "      <td>9.7905</td>\n",
              "      <td>1.6704</td>\n",
              "      <td>1.6858</td>\n",
              "      <td>21.6042</td>\n",
              "      <td>3.1417</td>\n",
              "      <td>-6.5213</td>\n",
              "      <td>8.2675</td>\n",
              "      <td>14.7222</td>\n",
              "      <td>0.3965</td>\n",
              "    </tr>\n",
              "    <tr>\n",
              "      <th>3</th>\n",
              "      <td>train_3</td>\n",
              "      <td>0</td>\n",
              "      <td>11.0604</td>\n",
              "      <td>-2.1518</td>\n",
              "      <td>8.9522</td>\n",
              "      <td>7.1957</td>\n",
              "      <td>12.5846</td>\n",
              "      <td>-1.8361</td>\n",
              "      <td>5.8428</td>\n",
              "      <td>14.9250</td>\n",
              "      <td>-5.8609</td>\n",
              "      <td>8.2450</td>\n",
              "      <td>2.3061</td>\n",
              "      <td>2.8102</td>\n",
              "      <td>13.8463</td>\n",
              "      <td>11.9704</td>\n",
              "      <td>6.4569</td>\n",
              "      <td>14.8372</td>\n",
              "      <td>10.7430</td>\n",
              "      <td>-0.4299</td>\n",
              "      <td>15.9426</td>\n",
              "      <td>13.7257</td>\n",
              "      <td>20.3010</td>\n",
              "      <td>12.5579</td>\n",
              "      <td>6.8202</td>\n",
              "      <td>2.7229</td>\n",
              "      <td>12.1354</td>\n",
              "      <td>13.7367</td>\n",
              "      <td>0.8135</td>\n",
              "      <td>-0.9059</td>\n",
              "      <td>5.9070</td>\n",
              "      <td>2.8407</td>\n",
              "      <td>-15.2398</td>\n",
              "      <td>10.4407</td>\n",
              "      <td>-2.5731</td>\n",
              "      <td>6.1796</td>\n",
              "      <td>10.6093</td>\n",
              "      <td>-5.9158</td>\n",
              "      <td>8.1723</td>\n",
              "      <td>2.8521</td>\n",
              "      <td>...</td>\n",
              "      <td>31.8833</td>\n",
              "      <td>5.9684</td>\n",
              "      <td>7.2084</td>\n",
              "      <td>3.8899</td>\n",
              "      <td>-11.0882</td>\n",
              "      <td>17.2502</td>\n",
              "      <td>2.5881</td>\n",
              "      <td>-2.7018</td>\n",
              "      <td>0.5641</td>\n",
              "      <td>5.3430</td>\n",
              "      <td>-7.1541</td>\n",
              "      <td>-6.1920</td>\n",
              "      <td>18.2366</td>\n",
              "      <td>11.7134</td>\n",
              "      <td>14.7483</td>\n",
              "      <td>8.1013</td>\n",
              "      <td>11.8771</td>\n",
              "      <td>13.9552</td>\n",
              "      <td>-10.4701</td>\n",
              "      <td>5.6961</td>\n",
              "      <td>-3.7546</td>\n",
              "      <td>8.4117</td>\n",
              "      <td>1.8986</td>\n",
              "      <td>7.2601</td>\n",
              "      <td>-0.4639</td>\n",
              "      <td>-0.0498</td>\n",
              "      <td>7.9336</td>\n",
              "      <td>-12.8279</td>\n",
              "      <td>12.4124</td>\n",
              "      <td>1.8489</td>\n",
              "      <td>4.4666</td>\n",
              "      <td>4.7433</td>\n",
              "      <td>0.7178</td>\n",
              "      <td>1.4214</td>\n",
              "      <td>23.0347</td>\n",
              "      <td>-1.2706</td>\n",
              "      <td>-2.9275</td>\n",
              "      <td>10.2922</td>\n",
              "      <td>17.9697</td>\n",
              "      <td>-8.9996</td>\n",
              "    </tr>\n",
              "    <tr>\n",
              "      <th>4</th>\n",
              "      <td>train_4</td>\n",
              "      <td>0</td>\n",
              "      <td>9.8369</td>\n",
              "      <td>-1.4834</td>\n",
              "      <td>12.8746</td>\n",
              "      <td>6.6375</td>\n",
              "      <td>12.2772</td>\n",
              "      <td>2.4486</td>\n",
              "      <td>5.9405</td>\n",
              "      <td>19.2514</td>\n",
              "      <td>6.2654</td>\n",
              "      <td>7.6784</td>\n",
              "      <td>-9.4458</td>\n",
              "      <td>-12.1419</td>\n",
              "      <td>13.8481</td>\n",
              "      <td>7.8895</td>\n",
              "      <td>7.7894</td>\n",
              "      <td>15.0553</td>\n",
              "      <td>8.4871</td>\n",
              "      <td>-3.0680</td>\n",
              "      <td>6.5263</td>\n",
              "      <td>11.3152</td>\n",
              "      <td>21.4246</td>\n",
              "      <td>18.9608</td>\n",
              "      <td>10.1102</td>\n",
              "      <td>2.7142</td>\n",
              "      <td>14.2080</td>\n",
              "      <td>13.5433</td>\n",
              "      <td>3.1736</td>\n",
              "      <td>-3.3423</td>\n",
              "      <td>5.9015</td>\n",
              "      <td>7.9352</td>\n",
              "      <td>-3.1582</td>\n",
              "      <td>9.4668</td>\n",
              "      <td>-0.0083</td>\n",
              "      <td>19.3239</td>\n",
              "      <td>12.4057</td>\n",
              "      <td>0.6329</td>\n",
              "      <td>2.7922</td>\n",
              "      <td>5.8184</td>\n",
              "      <td>...</td>\n",
              "      <td>33.5107</td>\n",
              "      <td>5.6953</td>\n",
              "      <td>5.4663</td>\n",
              "      <td>18.2201</td>\n",
              "      <td>6.5769</td>\n",
              "      <td>21.2607</td>\n",
              "      <td>3.2304</td>\n",
              "      <td>-1.7759</td>\n",
              "      <td>3.1283</td>\n",
              "      <td>5.5518</td>\n",
              "      <td>1.4493</td>\n",
              "      <td>-2.6627</td>\n",
              "      <td>19.8056</td>\n",
              "      <td>2.3705</td>\n",
              "      <td>18.4685</td>\n",
              "      <td>16.3309</td>\n",
              "      <td>-3.3456</td>\n",
              "      <td>13.5261</td>\n",
              "      <td>1.7189</td>\n",
              "      <td>5.1743</td>\n",
              "      <td>-7.6938</td>\n",
              "      <td>9.7685</td>\n",
              "      <td>4.8910</td>\n",
              "      <td>12.2198</td>\n",
              "      <td>11.8503</td>\n",
              "      <td>-7.8931</td>\n",
              "      <td>6.4209</td>\n",
              "      <td>5.9270</td>\n",
              "      <td>16.0201</td>\n",
              "      <td>-0.2829</td>\n",
              "      <td>-1.4905</td>\n",
              "      <td>9.5214</td>\n",
              "      <td>-0.1508</td>\n",
              "      <td>9.1942</td>\n",
              "      <td>13.2876</td>\n",
              "      <td>-1.5121</td>\n",
              "      <td>3.9267</td>\n",
              "      <td>9.5031</td>\n",
              "      <td>17.9974</td>\n",
              "      <td>-8.8104</td>\n",
              "    </tr>\n",
              "  </tbody>\n",
              "</table>\n",
              "<p>5 rows × 202 columns</p>\n",
              "</div>"
            ],
            "text/plain": [
              "   ID_code  target    var_0   var_1  ...  var_196  var_197  var_198  var_199\n",
              "0  train_0       0   8.9255 -6.7863  ...   7.8784   8.5635  12.7803  -1.0914\n",
              "1  train_1       0  11.5006 -4.1473  ...   8.1267   8.7889  18.3560   1.9518\n",
              "2  train_2       0   8.6093 -2.7457  ...  -6.5213   8.2675  14.7222   0.3965\n",
              "3  train_3       0  11.0604 -2.1518  ...  -2.9275  10.2922  17.9697  -8.9996\n",
              "4  train_4       0   9.8369 -1.4834  ...   3.9267   9.5031  17.9974  -8.8104\n",
              "\n",
              "[5 rows x 202 columns]"
            ]
          },
          "metadata": {
            "tags": []
          },
          "execution_count": 6
        }
      ]
    },
    {
      "cell_type": "code",
      "metadata": {
        "id": "fobfgkFl8mVG",
        "colab_type": "code",
        "outputId": "03c18d16-8236-4ddf-ef11-0faf43329ebe",
        "colab": {
          "base_uri": "https://localhost:8080/",
          "height": 102
        }
      },
      "source": [
        "trainDataSet.info()"
      ],
      "execution_count": 0,
      "outputs": [
        {
          "output_type": "stream",
          "text": [
            "<class 'pandas.core.frame.DataFrame'>\n",
            "RangeIndex: 200000 entries, 0 to 199999\n",
            "Columns: 202 entries, ID_code to var_199\n",
            "dtypes: float64(200), int64(1), object(1)\n",
            "memory usage: 308.2+ MB\n"
          ],
          "name": "stdout"
        }
      ]
    },
    {
      "cell_type": "code",
      "metadata": {
        "id": "K0k4XlJ38yw5",
        "colab_type": "code",
        "outputId": "6f8b72dd-6ebe-42da-e826-6513c2ca46b4",
        "colab": {
          "base_uri": "https://localhost:8080/",
          "height": 346
        }
      },
      "source": [
        "trainDataSet.describe()"
      ],
      "execution_count": 0,
      "outputs": [
        {
          "output_type": "execute_result",
          "data": {
            "text/html": [
              "<div>\n",
              "<style scoped>\n",
              "    .dataframe tbody tr th:only-of-type {\n",
              "        vertical-align: middle;\n",
              "    }\n",
              "\n",
              "    .dataframe tbody tr th {\n",
              "        vertical-align: top;\n",
              "    }\n",
              "\n",
              "    .dataframe thead th {\n",
              "        text-align: right;\n",
              "    }\n",
              "</style>\n",
              "<table border=\"1\" class=\"dataframe\">\n",
              "  <thead>\n",
              "    <tr style=\"text-align: right;\">\n",
              "      <th></th>\n",
              "      <th>target</th>\n",
              "      <th>var_0</th>\n",
              "      <th>var_1</th>\n",
              "      <th>var_2</th>\n",
              "      <th>var_3</th>\n",
              "      <th>var_4</th>\n",
              "      <th>var_5</th>\n",
              "      <th>var_6</th>\n",
              "      <th>var_7</th>\n",
              "      <th>var_8</th>\n",
              "      <th>var_9</th>\n",
              "      <th>var_10</th>\n",
              "      <th>var_11</th>\n",
              "      <th>var_12</th>\n",
              "      <th>var_13</th>\n",
              "      <th>var_14</th>\n",
              "      <th>var_15</th>\n",
              "      <th>var_16</th>\n",
              "      <th>var_17</th>\n",
              "      <th>var_18</th>\n",
              "      <th>var_19</th>\n",
              "      <th>var_20</th>\n",
              "      <th>var_21</th>\n",
              "      <th>var_22</th>\n",
              "      <th>var_23</th>\n",
              "      <th>var_24</th>\n",
              "      <th>var_25</th>\n",
              "      <th>var_26</th>\n",
              "      <th>var_27</th>\n",
              "      <th>var_28</th>\n",
              "      <th>var_29</th>\n",
              "      <th>var_30</th>\n",
              "      <th>var_31</th>\n",
              "      <th>var_32</th>\n",
              "      <th>var_33</th>\n",
              "      <th>var_34</th>\n",
              "      <th>var_35</th>\n",
              "      <th>var_36</th>\n",
              "      <th>var_37</th>\n",
              "      <th>var_38</th>\n",
              "      <th>...</th>\n",
              "      <th>var_160</th>\n",
              "      <th>var_161</th>\n",
              "      <th>var_162</th>\n",
              "      <th>var_163</th>\n",
              "      <th>var_164</th>\n",
              "      <th>var_165</th>\n",
              "      <th>var_166</th>\n",
              "      <th>var_167</th>\n",
              "      <th>var_168</th>\n",
              "      <th>var_169</th>\n",
              "      <th>var_170</th>\n",
              "      <th>var_171</th>\n",
              "      <th>var_172</th>\n",
              "      <th>var_173</th>\n",
              "      <th>var_174</th>\n",
              "      <th>var_175</th>\n",
              "      <th>var_176</th>\n",
              "      <th>var_177</th>\n",
              "      <th>var_178</th>\n",
              "      <th>var_179</th>\n",
              "      <th>var_180</th>\n",
              "      <th>var_181</th>\n",
              "      <th>var_182</th>\n",
              "      <th>var_183</th>\n",
              "      <th>var_184</th>\n",
              "      <th>var_185</th>\n",
              "      <th>var_186</th>\n",
              "      <th>var_187</th>\n",
              "      <th>var_188</th>\n",
              "      <th>var_189</th>\n",
              "      <th>var_190</th>\n",
              "      <th>var_191</th>\n",
              "      <th>var_192</th>\n",
              "      <th>var_193</th>\n",
              "      <th>var_194</th>\n",
              "      <th>var_195</th>\n",
              "      <th>var_196</th>\n",
              "      <th>var_197</th>\n",
              "      <th>var_198</th>\n",
              "      <th>var_199</th>\n",
              "    </tr>\n",
              "  </thead>\n",
              "  <tbody>\n",
              "    <tr>\n",
              "      <th>count</th>\n",
              "      <td>200000.000000</td>\n",
              "      <td>200000.000000</td>\n",
              "      <td>200000.000000</td>\n",
              "      <td>200000.000000</td>\n",
              "      <td>200000.000000</td>\n",
              "      <td>200000.000000</td>\n",
              "      <td>200000.000000</td>\n",
              "      <td>200000.000000</td>\n",
              "      <td>200000.000000</td>\n",
              "      <td>200000.000000</td>\n",
              "      <td>200000.000000</td>\n",
              "      <td>200000.000000</td>\n",
              "      <td>200000.000000</td>\n",
              "      <td>200000.000000</td>\n",
              "      <td>200000.000000</td>\n",
              "      <td>200000.000000</td>\n",
              "      <td>200000.000000</td>\n",
              "      <td>200000.000000</td>\n",
              "      <td>200000.000000</td>\n",
              "      <td>200000.000000</td>\n",
              "      <td>200000.000000</td>\n",
              "      <td>200000.000000</td>\n",
              "      <td>200000.000000</td>\n",
              "      <td>200000.000000</td>\n",
              "      <td>200000.000000</td>\n",
              "      <td>200000.000000</td>\n",
              "      <td>200000.000000</td>\n",
              "      <td>200000.000000</td>\n",
              "      <td>200000.000000</td>\n",
              "      <td>200000.000000</td>\n",
              "      <td>200000.000000</td>\n",
              "      <td>200000.000000</td>\n",
              "      <td>200000.000000</td>\n",
              "      <td>200000.000000</td>\n",
              "      <td>200000.000000</td>\n",
              "      <td>200000.000000</td>\n",
              "      <td>200000.000000</td>\n",
              "      <td>200000.000000</td>\n",
              "      <td>200000.000000</td>\n",
              "      <td>200000.000000</td>\n",
              "      <td>...</td>\n",
              "      <td>200000.000000</td>\n",
              "      <td>200000.000000</td>\n",
              "      <td>200000.000000</td>\n",
              "      <td>200000.000000</td>\n",
              "      <td>200000.000000</td>\n",
              "      <td>200000.000000</td>\n",
              "      <td>200000.000000</td>\n",
              "      <td>200000.000000</td>\n",
              "      <td>200000.000000</td>\n",
              "      <td>200000.000000</td>\n",
              "      <td>200000.000000</td>\n",
              "      <td>200000.000000</td>\n",
              "      <td>200000.000000</td>\n",
              "      <td>200000.000000</td>\n",
              "      <td>200000.000000</td>\n",
              "      <td>200000.000000</td>\n",
              "      <td>200000.000000</td>\n",
              "      <td>200000.000000</td>\n",
              "      <td>200000.000000</td>\n",
              "      <td>200000.000000</td>\n",
              "      <td>200000.000000</td>\n",
              "      <td>200000.000000</td>\n",
              "      <td>200000.000000</td>\n",
              "      <td>200000.000000</td>\n",
              "      <td>200000.000000</td>\n",
              "      <td>200000.000000</td>\n",
              "      <td>200000.000000</td>\n",
              "      <td>200000.000000</td>\n",
              "      <td>200000.000000</td>\n",
              "      <td>200000.000000</td>\n",
              "      <td>200000.000000</td>\n",
              "      <td>200000.000000</td>\n",
              "      <td>200000.000000</td>\n",
              "      <td>200000.000000</td>\n",
              "      <td>200000.000000</td>\n",
              "      <td>200000.000000</td>\n",
              "      <td>200000.000000</td>\n",
              "      <td>200000.000000</td>\n",
              "      <td>200000.000000</td>\n",
              "      <td>200000.000000</td>\n",
              "    </tr>\n",
              "    <tr>\n",
              "      <th>mean</th>\n",
              "      <td>0.100490</td>\n",
              "      <td>10.679914</td>\n",
              "      <td>-1.627622</td>\n",
              "      <td>10.715192</td>\n",
              "      <td>6.796529</td>\n",
              "      <td>11.078333</td>\n",
              "      <td>-5.065317</td>\n",
              "      <td>5.408949</td>\n",
              "      <td>16.545850</td>\n",
              "      <td>0.284162</td>\n",
              "      <td>7.567236</td>\n",
              "      <td>0.394340</td>\n",
              "      <td>-3.245596</td>\n",
              "      <td>14.023978</td>\n",
              "      <td>8.530232</td>\n",
              "      <td>7.537606</td>\n",
              "      <td>14.573126</td>\n",
              "      <td>9.333264</td>\n",
              "      <td>-5.696731</td>\n",
              "      <td>15.244013</td>\n",
              "      <td>12.438567</td>\n",
              "      <td>13.290894</td>\n",
              "      <td>17.257883</td>\n",
              "      <td>4.305430</td>\n",
              "      <td>3.019540</td>\n",
              "      <td>10.584400</td>\n",
              "      <td>13.667496</td>\n",
              "      <td>-4.055133</td>\n",
              "      <td>-1.137908</td>\n",
              "      <td>5.532980</td>\n",
              "      <td>5.053874</td>\n",
              "      <td>-7.687740</td>\n",
              "      <td>10.393046</td>\n",
              "      <td>-0.512886</td>\n",
              "      <td>14.774147</td>\n",
              "      <td>11.434250</td>\n",
              "      <td>3.842499</td>\n",
              "      <td>2.187230</td>\n",
              "      <td>5.868899</td>\n",
              "      <td>10.642131</td>\n",
              "      <td>...</td>\n",
              "      <td>24.259300</td>\n",
              "      <td>5.633293</td>\n",
              "      <td>5.362896</td>\n",
              "      <td>11.002170</td>\n",
              "      <td>-2.871906</td>\n",
              "      <td>19.315753</td>\n",
              "      <td>2.963335</td>\n",
              "      <td>-4.151155</td>\n",
              "      <td>4.937124</td>\n",
              "      <td>5.636008</td>\n",
              "      <td>-0.004962</td>\n",
              "      <td>-0.831777</td>\n",
              "      <td>19.817094</td>\n",
              "      <td>-0.677967</td>\n",
              "      <td>20.210677</td>\n",
              "      <td>11.640613</td>\n",
              "      <td>-2.799585</td>\n",
              "      <td>11.882933</td>\n",
              "      <td>-1.014064</td>\n",
              "      <td>2.591444</td>\n",
              "      <td>-2.741666</td>\n",
              "      <td>10.085518</td>\n",
              "      <td>0.719109</td>\n",
              "      <td>8.769088</td>\n",
              "      <td>12.756676</td>\n",
              "      <td>-3.983261</td>\n",
              "      <td>8.970274</td>\n",
              "      <td>-10.335043</td>\n",
              "      <td>15.377174</td>\n",
              "      <td>0.746072</td>\n",
              "      <td>3.234440</td>\n",
              "      <td>7.438408</td>\n",
              "      <td>1.927839</td>\n",
              "      <td>3.331774</td>\n",
              "      <td>17.993784</td>\n",
              "      <td>-0.142088</td>\n",
              "      <td>2.303335</td>\n",
              "      <td>8.908158</td>\n",
              "      <td>15.870720</td>\n",
              "      <td>-3.326537</td>\n",
              "    </tr>\n",
              "    <tr>\n",
              "      <th>std</th>\n",
              "      <td>0.300653</td>\n",
              "      <td>3.040051</td>\n",
              "      <td>4.050044</td>\n",
              "      <td>2.640894</td>\n",
              "      <td>2.043319</td>\n",
              "      <td>1.623150</td>\n",
              "      <td>7.863267</td>\n",
              "      <td>0.866607</td>\n",
              "      <td>3.418076</td>\n",
              "      <td>3.332634</td>\n",
              "      <td>1.235070</td>\n",
              "      <td>5.500793</td>\n",
              "      <td>5.970253</td>\n",
              "      <td>0.190059</td>\n",
              "      <td>4.639536</td>\n",
              "      <td>2.247908</td>\n",
              "      <td>0.411711</td>\n",
              "      <td>2.557421</td>\n",
              "      <td>6.712612</td>\n",
              "      <td>7.851370</td>\n",
              "      <td>7.996694</td>\n",
              "      <td>5.876254</td>\n",
              "      <td>8.196564</td>\n",
              "      <td>2.847958</td>\n",
              "      <td>0.526893</td>\n",
              "      <td>3.777245</td>\n",
              "      <td>0.285535</td>\n",
              "      <td>5.922210</td>\n",
              "      <td>1.523714</td>\n",
              "      <td>0.783367</td>\n",
              "      <td>2.615942</td>\n",
              "      <td>7.965198</td>\n",
              "      <td>2.159891</td>\n",
              "      <td>2.587830</td>\n",
              "      <td>4.322325</td>\n",
              "      <td>0.541614</td>\n",
              "      <td>5.179559</td>\n",
              "      <td>3.119978</td>\n",
              "      <td>2.249730</td>\n",
              "      <td>4.278903</td>\n",
              "      <td>...</td>\n",
              "      <td>10.880263</td>\n",
              "      <td>0.217938</td>\n",
              "      <td>1.419612</td>\n",
              "      <td>5.262056</td>\n",
              "      <td>5.457784</td>\n",
              "      <td>5.024182</td>\n",
              "      <td>0.369684</td>\n",
              "      <td>7.798020</td>\n",
              "      <td>3.105986</td>\n",
              "      <td>0.369437</td>\n",
              "      <td>4.424621</td>\n",
              "      <td>5.378008</td>\n",
              "      <td>8.674171</td>\n",
              "      <td>5.966674</td>\n",
              "      <td>7.136427</td>\n",
              "      <td>2.892167</td>\n",
              "      <td>7.513939</td>\n",
              "      <td>2.628895</td>\n",
              "      <td>8.579810</td>\n",
              "      <td>2.798956</td>\n",
              "      <td>5.261243</td>\n",
              "      <td>1.371862</td>\n",
              "      <td>8.963434</td>\n",
              "      <td>4.474924</td>\n",
              "      <td>9.318280</td>\n",
              "      <td>4.725167</td>\n",
              "      <td>3.189759</td>\n",
              "      <td>11.574708</td>\n",
              "      <td>3.944604</td>\n",
              "      <td>0.976348</td>\n",
              "      <td>4.559922</td>\n",
              "      <td>3.023272</td>\n",
              "      <td>1.478423</td>\n",
              "      <td>3.992030</td>\n",
              "      <td>3.135162</td>\n",
              "      <td>1.429372</td>\n",
              "      <td>5.454369</td>\n",
              "      <td>0.921625</td>\n",
              "      <td>3.010945</td>\n",
              "      <td>10.438015</td>\n",
              "    </tr>\n",
              "    <tr>\n",
              "      <th>min</th>\n",
              "      <td>0.000000</td>\n",
              "      <td>0.408400</td>\n",
              "      <td>-15.043400</td>\n",
              "      <td>2.117100</td>\n",
              "      <td>-0.040200</td>\n",
              "      <td>5.074800</td>\n",
              "      <td>-32.562600</td>\n",
              "      <td>2.347300</td>\n",
              "      <td>5.349700</td>\n",
              "      <td>-10.505500</td>\n",
              "      <td>3.970500</td>\n",
              "      <td>-20.731300</td>\n",
              "      <td>-26.095000</td>\n",
              "      <td>13.434600</td>\n",
              "      <td>-6.011100</td>\n",
              "      <td>1.013300</td>\n",
              "      <td>13.076900</td>\n",
              "      <td>0.635100</td>\n",
              "      <td>-33.380200</td>\n",
              "      <td>-10.664200</td>\n",
              "      <td>-12.402500</td>\n",
              "      <td>-5.432200</td>\n",
              "      <td>-10.089000</td>\n",
              "      <td>-5.322500</td>\n",
              "      <td>1.209800</td>\n",
              "      <td>-0.678400</td>\n",
              "      <td>12.720000</td>\n",
              "      <td>-24.243100</td>\n",
              "      <td>-6.166800</td>\n",
              "      <td>2.089600</td>\n",
              "      <td>-4.787200</td>\n",
              "      <td>-34.798400</td>\n",
              "      <td>2.140600</td>\n",
              "      <td>-8.986100</td>\n",
              "      <td>1.508500</td>\n",
              "      <td>9.816900</td>\n",
              "      <td>-16.513600</td>\n",
              "      <td>-8.095100</td>\n",
              "      <td>-1.183400</td>\n",
              "      <td>-6.337100</td>\n",
              "      <td>...</td>\n",
              "      <td>-7.452200</td>\n",
              "      <td>4.852600</td>\n",
              "      <td>0.623100</td>\n",
              "      <td>-6.531700</td>\n",
              "      <td>-19.997700</td>\n",
              "      <td>3.816700</td>\n",
              "      <td>1.851200</td>\n",
              "      <td>-35.969500</td>\n",
              "      <td>-5.250200</td>\n",
              "      <td>4.258800</td>\n",
              "      <td>-14.506000</td>\n",
              "      <td>-22.479300</td>\n",
              "      <td>-11.453300</td>\n",
              "      <td>-22.748700</td>\n",
              "      <td>-2.995300</td>\n",
              "      <td>3.241500</td>\n",
              "      <td>-29.116500</td>\n",
              "      <td>4.952100</td>\n",
              "      <td>-29.273400</td>\n",
              "      <td>-7.856100</td>\n",
              "      <td>-22.037400</td>\n",
              "      <td>5.416500</td>\n",
              "      <td>-26.001100</td>\n",
              "      <td>-4.808200</td>\n",
              "      <td>-18.489700</td>\n",
              "      <td>-22.583300</td>\n",
              "      <td>-3.022300</td>\n",
              "      <td>-47.753600</td>\n",
              "      <td>4.412300</td>\n",
              "      <td>-2.554300</td>\n",
              "      <td>-14.093300</td>\n",
              "      <td>-2.691700</td>\n",
              "      <td>-3.814500</td>\n",
              "      <td>-11.783400</td>\n",
              "      <td>8.694400</td>\n",
              "      <td>-5.261000</td>\n",
              "      <td>-14.209600</td>\n",
              "      <td>5.960600</td>\n",
              "      <td>6.299300</td>\n",
              "      <td>-38.852800</td>\n",
              "    </tr>\n",
              "    <tr>\n",
              "      <th>25%</th>\n",
              "      <td>0.000000</td>\n",
              "      <td>8.453850</td>\n",
              "      <td>-4.740025</td>\n",
              "      <td>8.722475</td>\n",
              "      <td>5.254075</td>\n",
              "      <td>9.883175</td>\n",
              "      <td>-11.200350</td>\n",
              "      <td>4.767700</td>\n",
              "      <td>13.943800</td>\n",
              "      <td>-2.317800</td>\n",
              "      <td>6.618800</td>\n",
              "      <td>-3.594950</td>\n",
              "      <td>-7.510600</td>\n",
              "      <td>13.894000</td>\n",
              "      <td>5.072800</td>\n",
              "      <td>5.781875</td>\n",
              "      <td>14.262800</td>\n",
              "      <td>7.452275</td>\n",
              "      <td>-10.476225</td>\n",
              "      <td>9.177950</td>\n",
              "      <td>6.276475</td>\n",
              "      <td>8.627800</td>\n",
              "      <td>11.551000</td>\n",
              "      <td>2.182400</td>\n",
              "      <td>2.634100</td>\n",
              "      <td>7.613000</td>\n",
              "      <td>13.456400</td>\n",
              "      <td>-8.321725</td>\n",
              "      <td>-2.307900</td>\n",
              "      <td>4.992100</td>\n",
              "      <td>3.171700</td>\n",
              "      <td>-13.766175</td>\n",
              "      <td>8.870000</td>\n",
              "      <td>-2.500875</td>\n",
              "      <td>11.456300</td>\n",
              "      <td>11.032300</td>\n",
              "      <td>0.116975</td>\n",
              "      <td>-0.007125</td>\n",
              "      <td>4.125475</td>\n",
              "      <td>7.591050</td>\n",
              "      <td>...</td>\n",
              "      <td>15.696125</td>\n",
              "      <td>5.470500</td>\n",
              "      <td>4.326100</td>\n",
              "      <td>7.029600</td>\n",
              "      <td>-7.094025</td>\n",
              "      <td>15.744550</td>\n",
              "      <td>2.699000</td>\n",
              "      <td>-9.643100</td>\n",
              "      <td>2.703200</td>\n",
              "      <td>5.374600</td>\n",
              "      <td>-3.258500</td>\n",
              "      <td>-4.720350</td>\n",
              "      <td>13.731775</td>\n",
              "      <td>-5.009525</td>\n",
              "      <td>15.064600</td>\n",
              "      <td>9.371600</td>\n",
              "      <td>-8.386500</td>\n",
              "      <td>9.808675</td>\n",
              "      <td>-7.395700</td>\n",
              "      <td>0.625575</td>\n",
              "      <td>-6.673900</td>\n",
              "      <td>9.084700</td>\n",
              "      <td>-6.064425</td>\n",
              "      <td>5.423100</td>\n",
              "      <td>5.663300</td>\n",
              "      <td>-7.360000</td>\n",
              "      <td>6.715200</td>\n",
              "      <td>-19.205125</td>\n",
              "      <td>12.501550</td>\n",
              "      <td>0.014900</td>\n",
              "      <td>-0.058825</td>\n",
              "      <td>5.157400</td>\n",
              "      <td>0.889775</td>\n",
              "      <td>0.584600</td>\n",
              "      <td>15.629800</td>\n",
              "      <td>-1.170700</td>\n",
              "      <td>-1.946925</td>\n",
              "      <td>8.252800</td>\n",
              "      <td>13.829700</td>\n",
              "      <td>-11.208475</td>\n",
              "    </tr>\n",
              "    <tr>\n",
              "      <th>50%</th>\n",
              "      <td>0.000000</td>\n",
              "      <td>10.524750</td>\n",
              "      <td>-1.608050</td>\n",
              "      <td>10.580000</td>\n",
              "      <td>6.825000</td>\n",
              "      <td>11.108250</td>\n",
              "      <td>-4.833150</td>\n",
              "      <td>5.385100</td>\n",
              "      <td>16.456800</td>\n",
              "      <td>0.393700</td>\n",
              "      <td>7.629600</td>\n",
              "      <td>0.487300</td>\n",
              "      <td>-3.286950</td>\n",
              "      <td>14.025500</td>\n",
              "      <td>8.604250</td>\n",
              "      <td>7.520300</td>\n",
              "      <td>14.574100</td>\n",
              "      <td>9.232050</td>\n",
              "      <td>-5.666350</td>\n",
              "      <td>15.196250</td>\n",
              "      <td>12.453900</td>\n",
              "      <td>13.196800</td>\n",
              "      <td>17.234250</td>\n",
              "      <td>4.275150</td>\n",
              "      <td>3.008650</td>\n",
              "      <td>10.380350</td>\n",
              "      <td>13.662500</td>\n",
              "      <td>-4.196900</td>\n",
              "      <td>-1.132100</td>\n",
              "      <td>5.534850</td>\n",
              "      <td>4.950200</td>\n",
              "      <td>-7.411750</td>\n",
              "      <td>10.365650</td>\n",
              "      <td>-0.497650</td>\n",
              "      <td>14.576000</td>\n",
              "      <td>11.435200</td>\n",
              "      <td>3.917750</td>\n",
              "      <td>2.198000</td>\n",
              "      <td>5.900650</td>\n",
              "      <td>10.562700</td>\n",
              "      <td>...</td>\n",
              "      <td>23.864500</td>\n",
              "      <td>5.633500</td>\n",
              "      <td>5.359700</td>\n",
              "      <td>10.788700</td>\n",
              "      <td>-2.637800</td>\n",
              "      <td>19.270800</td>\n",
              "      <td>2.960200</td>\n",
              "      <td>-4.011600</td>\n",
              "      <td>4.761600</td>\n",
              "      <td>5.634300</td>\n",
              "      <td>0.002800</td>\n",
              "      <td>-0.807350</td>\n",
              "      <td>19.748000</td>\n",
              "      <td>-0.569750</td>\n",
              "      <td>20.206100</td>\n",
              "      <td>11.679800</td>\n",
              "      <td>-2.538450</td>\n",
              "      <td>11.737250</td>\n",
              "      <td>-0.942050</td>\n",
              "      <td>2.512300</td>\n",
              "      <td>-2.688800</td>\n",
              "      <td>10.036050</td>\n",
              "      <td>0.720200</td>\n",
              "      <td>8.600000</td>\n",
              "      <td>12.521000</td>\n",
              "      <td>-3.946950</td>\n",
              "      <td>8.902150</td>\n",
              "      <td>-10.209750</td>\n",
              "      <td>15.239450</td>\n",
              "      <td>0.742600</td>\n",
              "      <td>3.203600</td>\n",
              "      <td>7.347750</td>\n",
              "      <td>1.901300</td>\n",
              "      <td>3.396350</td>\n",
              "      <td>17.957950</td>\n",
              "      <td>-0.172700</td>\n",
              "      <td>2.408900</td>\n",
              "      <td>8.888200</td>\n",
              "      <td>15.934050</td>\n",
              "      <td>-2.819550</td>\n",
              "    </tr>\n",
              "    <tr>\n",
              "      <th>75%</th>\n",
              "      <td>0.000000</td>\n",
              "      <td>12.758200</td>\n",
              "      <td>1.358625</td>\n",
              "      <td>12.516700</td>\n",
              "      <td>8.324100</td>\n",
              "      <td>12.261125</td>\n",
              "      <td>0.924800</td>\n",
              "      <td>6.003000</td>\n",
              "      <td>19.102900</td>\n",
              "      <td>2.937900</td>\n",
              "      <td>8.584425</td>\n",
              "      <td>4.382925</td>\n",
              "      <td>0.852825</td>\n",
              "      <td>14.164200</td>\n",
              "      <td>12.274775</td>\n",
              "      <td>9.270425</td>\n",
              "      <td>14.874500</td>\n",
              "      <td>11.055900</td>\n",
              "      <td>-0.810775</td>\n",
              "      <td>21.013325</td>\n",
              "      <td>18.433300</td>\n",
              "      <td>17.879400</td>\n",
              "      <td>23.089050</td>\n",
              "      <td>6.293200</td>\n",
              "      <td>3.403800</td>\n",
              "      <td>13.479600</td>\n",
              "      <td>13.863700</td>\n",
              "      <td>-0.090200</td>\n",
              "      <td>0.015625</td>\n",
              "      <td>6.093700</td>\n",
              "      <td>6.798925</td>\n",
              "      <td>-1.443450</td>\n",
              "      <td>11.885000</td>\n",
              "      <td>1.469100</td>\n",
              "      <td>18.097125</td>\n",
              "      <td>11.844400</td>\n",
              "      <td>7.487725</td>\n",
              "      <td>4.460400</td>\n",
              "      <td>7.542400</td>\n",
              "      <td>13.598925</td>\n",
              "      <td>...</td>\n",
              "      <td>32.622850</td>\n",
              "      <td>5.792000</td>\n",
              "      <td>6.371200</td>\n",
              "      <td>14.623900</td>\n",
              "      <td>1.323600</td>\n",
              "      <td>23.024025</td>\n",
              "      <td>3.241500</td>\n",
              "      <td>1.318725</td>\n",
              "      <td>7.020025</td>\n",
              "      <td>5.905400</td>\n",
              "      <td>3.096400</td>\n",
              "      <td>2.956800</td>\n",
              "      <td>25.907725</td>\n",
              "      <td>3.619900</td>\n",
              "      <td>25.641225</td>\n",
              "      <td>13.745500</td>\n",
              "      <td>2.704400</td>\n",
              "      <td>13.931300</td>\n",
              "      <td>5.338750</td>\n",
              "      <td>4.391125</td>\n",
              "      <td>0.996200</td>\n",
              "      <td>11.011300</td>\n",
              "      <td>7.499175</td>\n",
              "      <td>12.127425</td>\n",
              "      <td>19.456150</td>\n",
              "      <td>-0.590650</td>\n",
              "      <td>11.193800</td>\n",
              "      <td>-1.466000</td>\n",
              "      <td>18.345225</td>\n",
              "      <td>1.482900</td>\n",
              "      <td>6.406200</td>\n",
              "      <td>9.512525</td>\n",
              "      <td>2.949500</td>\n",
              "      <td>6.205800</td>\n",
              "      <td>20.396525</td>\n",
              "      <td>0.829600</td>\n",
              "      <td>6.556725</td>\n",
              "      <td>9.593300</td>\n",
              "      <td>18.064725</td>\n",
              "      <td>4.836800</td>\n",
              "    </tr>\n",
              "    <tr>\n",
              "      <th>max</th>\n",
              "      <td>1.000000</td>\n",
              "      <td>20.315000</td>\n",
              "      <td>10.376800</td>\n",
              "      <td>19.353000</td>\n",
              "      <td>13.188300</td>\n",
              "      <td>16.671400</td>\n",
              "      <td>17.251600</td>\n",
              "      <td>8.447700</td>\n",
              "      <td>27.691800</td>\n",
              "      <td>10.151300</td>\n",
              "      <td>11.150600</td>\n",
              "      <td>18.670200</td>\n",
              "      <td>17.188700</td>\n",
              "      <td>14.654500</td>\n",
              "      <td>22.331500</td>\n",
              "      <td>14.937700</td>\n",
              "      <td>15.863300</td>\n",
              "      <td>17.950600</td>\n",
              "      <td>19.025900</td>\n",
              "      <td>41.748000</td>\n",
              "      <td>35.183000</td>\n",
              "      <td>31.285900</td>\n",
              "      <td>49.044300</td>\n",
              "      <td>14.594500</td>\n",
              "      <td>4.875200</td>\n",
              "      <td>25.446000</td>\n",
              "      <td>14.654600</td>\n",
              "      <td>15.675100</td>\n",
              "      <td>3.243100</td>\n",
              "      <td>8.787400</td>\n",
              "      <td>13.143100</td>\n",
              "      <td>15.651500</td>\n",
              "      <td>20.171900</td>\n",
              "      <td>6.787100</td>\n",
              "      <td>29.546600</td>\n",
              "      <td>13.287800</td>\n",
              "      <td>21.528900</td>\n",
              "      <td>14.245600</td>\n",
              "      <td>11.863800</td>\n",
              "      <td>29.823500</td>\n",
              "      <td>...</td>\n",
              "      <td>58.394200</td>\n",
              "      <td>6.309900</td>\n",
              "      <td>10.134400</td>\n",
              "      <td>27.564800</td>\n",
              "      <td>12.119300</td>\n",
              "      <td>38.332200</td>\n",
              "      <td>4.220400</td>\n",
              "      <td>21.276600</td>\n",
              "      <td>14.886100</td>\n",
              "      <td>7.089000</td>\n",
              "      <td>16.731900</td>\n",
              "      <td>17.917300</td>\n",
              "      <td>53.591900</td>\n",
              "      <td>18.855400</td>\n",
              "      <td>43.546800</td>\n",
              "      <td>20.854800</td>\n",
              "      <td>20.245200</td>\n",
              "      <td>20.596500</td>\n",
              "      <td>29.841300</td>\n",
              "      <td>13.448700</td>\n",
              "      <td>12.750500</td>\n",
              "      <td>14.393900</td>\n",
              "      <td>29.248700</td>\n",
              "      <td>23.704900</td>\n",
              "      <td>44.363400</td>\n",
              "      <td>12.997500</td>\n",
              "      <td>21.739200</td>\n",
              "      <td>22.786100</td>\n",
              "      <td>29.330300</td>\n",
              "      <td>4.034100</td>\n",
              "      <td>18.440900</td>\n",
              "      <td>16.716500</td>\n",
              "      <td>8.402400</td>\n",
              "      <td>18.281800</td>\n",
              "      <td>27.928800</td>\n",
              "      <td>4.272900</td>\n",
              "      <td>18.321500</td>\n",
              "      <td>12.000400</td>\n",
              "      <td>26.079100</td>\n",
              "      <td>28.500700</td>\n",
              "    </tr>\n",
              "  </tbody>\n",
              "</table>\n",
              "<p>8 rows × 201 columns</p>\n",
              "</div>"
            ],
            "text/plain": [
              "              target          var_0  ...        var_198        var_199\n",
              "count  200000.000000  200000.000000  ...  200000.000000  200000.000000\n",
              "mean        0.100490      10.679914  ...      15.870720      -3.326537\n",
              "std         0.300653       3.040051  ...       3.010945      10.438015\n",
              "min         0.000000       0.408400  ...       6.299300     -38.852800\n",
              "25%         0.000000       8.453850  ...      13.829700     -11.208475\n",
              "50%         0.000000      10.524750  ...      15.934050      -2.819550\n",
              "75%         0.000000      12.758200  ...      18.064725       4.836800\n",
              "max         1.000000      20.315000  ...      26.079100      28.500700\n",
              "\n",
              "[8 rows x 201 columns]"
            ]
          },
          "metadata": {
            "tags": []
          },
          "execution_count": 7
        }
      ]
    },
    {
      "cell_type": "markdown",
      "metadata": {
        "id": "-J8aIY1WugsE",
        "colab_type": "text"
      },
      "source": [
        "##Explore the data and fill the empty fields (features)"
      ]
    },
    {
      "cell_type": "code",
      "metadata": {
        "id": "dxItB7O-ulOy",
        "colab_type": "code",
        "outputId": "fe48f9a4-75b7-4497-f5b9-aac131100071",
        "colab": {
          "base_uri": "https://localhost:8080/",
          "height": 296
        }
      },
      "source": [
        "#checking target column \n",
        "sns.countplot(trainDataSet['target'])"
      ],
      "execution_count": 0,
      "outputs": [
        {
          "output_type": "execute_result",
          "data": {
            "text/plain": [
              "<matplotlib.axes._subplots.AxesSubplot at 0x7f364e19cac8>"
            ]
          },
          "metadata": {
            "tags": []
          },
          "execution_count": 8
        },
        {
          "output_type": "display_data",
          "data": {
            "image/png": "[encoded data removed]",
            "text/plain": [
              "<Figure size 432x288 with 1 Axes>"
            ]
          },
          "metadata": {
            "tags": []
          }
        }
      ]
    },
    {
      "cell_type": "code",
      "metadata": {
        "id": "2RRxSThY9ern",
        "colab_type": "code",
        "outputId": "d782a5d8-648a-4060-ca19-0bf2a39c859d",
        "colab": {
          "base_uri": "https://localhost:8080/",
          "height": 34
        }
      },
      "source": [
        "#checking for null values\n",
        "trainDataSet.columns[trainDataSet.isnull().values.any()]"
      ],
      "execution_count": 0,
      "outputs": [
        {
          "output_type": "execute_result",
          "data": {
            "text/plain": [
              "array([], shape=(0, 202), dtype=object)"
            ]
          },
          "metadata": {
            "tags": []
          },
          "execution_count": 9
        }
      ]
    },
    {
      "cell_type": "code",
      "metadata": {
        "id": "FtH4BlMP9xwV",
        "colab_type": "code",
        "outputId": "f5191e98-69b1-44e1-a66d-b00b9331cf95",
        "colab": {
          "base_uri": "https://localhost:8080/",
          "height": 85
        }
      },
      "source": [
        "#checking count for possible values of target\n",
        "trainDataSet.groupby('target').count()['ID_code']"
      ],
      "execution_count": 0,
      "outputs": [
        {
          "output_type": "execute_result",
          "data": {
            "text/plain": [
              "target\n",
              "0    179902\n",
              "1     20098\n",
              "Name: ID_code, dtype: int64"
            ]
          },
          "metadata": {
            "tags": []
          },
          "execution_count": 10
        }
      ]
    },
    {
      "cell_type": "code",
      "metadata": {
        "id": "pWAzKUQICPc8",
        "colab_type": "code",
        "outputId": "625ed828-1c29-49fd-b399-d167e96f6e9c",
        "colab": {
          "base_uri": "https://localhost:8080/",
          "height": 282
        }
      },
      "source": [
        "#Visualization of the underlying frequency distribution\n",
        "trainDataSet.var_0.hist(bins=20)"
      ],
      "execution_count": 0,
      "outputs": [
        {
          "output_type": "execute_result",
          "data": {
            "text/plain": [
              "<matplotlib.axes._subplots.AxesSubplot at 0x7f364e0f61d0>"
            ]
          },
          "metadata": {
            "tags": []
          },
          "execution_count": 11
        },
        {
          "output_type": "display_data",
          "data": {
            "image/png": "[encoded data removed]",
            "text/plain": [
              "<Figure size 432x288 with 1 Axes>"
            ]
          },
          "metadata": {
            "tags": []
          }
        }
      ]
    },
    {
      "cell_type": "code",
      "metadata": {
        "id": "m9cHK-P4Co0n",
        "colab_type": "code",
        "outputId": "87a7e89e-fae4-4998-e707-d8e7c248f6b2",
        "colab": {
          "base_uri": "https://localhost:8080/",
          "height": 282
        }
      },
      "source": [
        "trainDataSet.var_1.hist()"
      ],
      "execution_count": 0,
      "outputs": [
        {
          "output_type": "execute_result",
          "data": {
            "text/plain": [
              "<matplotlib.axes._subplots.AxesSubplot at 0x7f364dc5a5c0>"
            ]
          },
          "metadata": {
            "tags": []
          },
          "execution_count": 12
        },
        {
          "output_type": "display_data",
          "data": {
            "image/png": "[encoded data removed]",
            "text/plain": [
              "<Figure size 432x288 with 1 Axes>"
            ]
          },
          "metadata": {
            "tags": []
          }
        }
      ]
    },
    {
      "cell_type": "code",
      "metadata": {
        "id": "C0P8M9jZC-C1",
        "colab_type": "code",
        "colab": {}
      },
      "source": [
        "# Compute the Correlation matrix\n",
        "corr=trainDataSet.iloc[:,:20].corr()"
      ],
      "execution_count": 0,
      "outputs": []
    },
    {
      "cell_type": "code",
      "metadata": {
        "id": "THXcvPK2DGV1",
        "colab_type": "code",
        "outputId": "9c574cfb-6b68-4c2a-c643-600d1afaa4b8",
        "colab": {
          "base_uri": "https://localhost:8080/",
          "height": 1000
        }
      },
      "source": [
        "# Set the matplotlib figure \n",
        "fig, ax=plt.subplots(figsize=(20,20))\n",
        "# Generate a custom diverging colormap\n",
        "Cmap=sns.diverging_palette(220,10,as_cmap=True)\n",
        "\n",
        "# Draw the heatmap\n",
        "_= sns.heatmap(corr,  ax=ax, annot=True,   vmin=-1, linewidths=0.2)"
      ],
      "execution_count": 0,
      "outputs": [
        {
          "output_type": "display_data",
          "data": {
            "image/png": "[encoded data removed]",
            "text/plain": [
              "<Figure size 1440x1440 with 2 Axes>"
            ]
          },
          "metadata": {
            "tags": []
          }
        }
      ]
    },
    {
      "cell_type": "code",
      "metadata": {
        "id": "1F2J8kmmHptC",
        "colab_type": "code",
        "colab": {}
      },
      "source": [
        "#Spliting the dataset to train (x) and target (y)\n",
        "y = trainDataSet['target']\n",
        "X = trainDataSet.drop(['target', 'ID_code'], axis=1)"
      ],
      "execution_count": 0,
      "outputs": []
    },
    {
      "cell_type": "code",
      "metadata": {
        "id": "P4cTO6AyKn3r",
        "colab_type": "code",
        "outputId": "089e4f60-aa5b-47f7-a873-330867102237",
        "colab": {
          "base_uri": "https://localhost:8080/",
          "height": 253
        }
      },
      "source": [
        "#Scaling dataset\n",
        "sc = StandardScaler()\n",
        "sc.fit(X)\n",
        "x_scaled = sc.transform(X)\n",
        "x_scaled=pd.DataFrame(x_scaled,columns=X.columns)\n",
        "x_scaled.head()"
      ],
      "execution_count": 0,
      "outputs": [
        {
          "output_type": "execute_result",
          "data": {
            "text/html": [
              "<div>\n",
              "<style scoped>\n",
              "    .dataframe tbody tr th:only-of-type {\n",
              "        vertical-align: middle;\n",
              "    }\n",
              "\n",
              "    .dataframe tbody tr th {\n",
              "        vertical-align: top;\n",
              "    }\n",
              "\n",
              "    .dataframe thead th {\n",
              "        text-align: right;\n",
              "    }\n",
              "</style>\n",
              "<table border=\"1\" class=\"dataframe\">\n",
              "  <thead>\n",
              "    <tr style=\"text-align: right;\">\n",
              "      <th></th>\n",
              "      <th>var_0</th>\n",
              "      <th>var_1</th>\n",
              "      <th>var_2</th>\n",
              "      <th>var_3</th>\n",
              "      <th>var_4</th>\n",
              "      <th>var_5</th>\n",
              "      <th>var_6</th>\n",
              "      <th>var_7</th>\n",
              "      <th>var_8</th>\n",
              "      <th>var_9</th>\n",
              "      <th>var_10</th>\n",
              "      <th>var_11</th>\n",
              "      <th>var_12</th>\n",
              "      <th>var_13</th>\n",
              "      <th>var_14</th>\n",
              "      <th>var_15</th>\n",
              "      <th>var_16</th>\n",
              "      <th>var_17</th>\n",
              "      <th>var_18</th>\n",
              "      <th>var_19</th>\n",
              "      <th>var_20</th>\n",
              "      <th>var_21</th>\n",
              "      <th>var_22</th>\n",
              "      <th>var_23</th>\n",
              "      <th>var_24</th>\n",
              "      <th>var_25</th>\n",
              "      <th>var_26</th>\n",
              "      <th>var_27</th>\n",
              "      <th>var_28</th>\n",
              "      <th>var_29</th>\n",
              "      <th>var_30</th>\n",
              "      <th>var_31</th>\n",
              "      <th>var_32</th>\n",
              "      <th>var_33</th>\n",
              "      <th>var_34</th>\n",
              "      <th>var_35</th>\n",
              "      <th>var_36</th>\n",
              "      <th>var_37</th>\n",
              "      <th>var_38</th>\n",
              "      <th>var_39</th>\n",
              "      <th>...</th>\n",
              "      <th>var_160</th>\n",
              "      <th>var_161</th>\n",
              "      <th>var_162</th>\n",
              "      <th>var_163</th>\n",
              "      <th>var_164</th>\n",
              "      <th>var_165</th>\n",
              "      <th>var_166</th>\n",
              "      <th>var_167</th>\n",
              "      <th>var_168</th>\n",
              "      <th>var_169</th>\n",
              "      <th>var_170</th>\n",
              "      <th>var_171</th>\n",
              "      <th>var_172</th>\n",
              "      <th>var_173</th>\n",
              "      <th>var_174</th>\n",
              "      <th>var_175</th>\n",
              "      <th>var_176</th>\n",
              "      <th>var_177</th>\n",
              "      <th>var_178</th>\n",
              "      <th>var_179</th>\n",
              "      <th>var_180</th>\n",
              "      <th>var_181</th>\n",
              "      <th>var_182</th>\n",
              "      <th>var_183</th>\n",
              "      <th>var_184</th>\n",
              "      <th>var_185</th>\n",
              "      <th>var_186</th>\n",
              "      <th>var_187</th>\n",
              "      <th>var_188</th>\n",
              "      <th>var_189</th>\n",
              "      <th>var_190</th>\n",
              "      <th>var_191</th>\n",
              "      <th>var_192</th>\n",
              "      <th>var_193</th>\n",
              "      <th>var_194</th>\n",
              "      <th>var_195</th>\n",
              "      <th>var_196</th>\n",
              "      <th>var_197</th>\n",
              "      <th>var_198</th>\n",
              "      <th>var_199</th>\n",
              "    </tr>\n",
              "  </thead>\n",
              "  <tbody>\n",
              "    <tr>\n",
              "      <th>0</th>\n",
              "      <td>-0.577102</td>\n",
              "      <td>-1.273737</td>\n",
              "      <td>0.451707</td>\n",
              "      <td>-0.833709</td>\n",
              "      <td>0.235571</td>\n",
              "      <td>-0.536430</td>\n",
              "      <td>-0.334926</td>\n",
              "      <td>0.608751</td>\n",
              "      <td>-1.561580</td>\n",
              "      <td>-1.473796</td>\n",
              "      <td>0.460091</td>\n",
              "      <td>1.076623</td>\n",
              "      <td>-0.054077</td>\n",
              "      <td>-1.714773</td>\n",
              "      <td>0.561098</td>\n",
              "      <td>-0.009778</td>\n",
              "      <td>-1.401636</td>\n",
              "      <td>-0.229802</td>\n",
              "      <td>-1.395940</td>\n",
              "      <td>2.285292</td>\n",
              "      <td>-0.468989</td>\n",
              "      <td>-0.126734</td>\n",
              "      <td>-0.606166</td>\n",
              "      <td>-1.039947</td>\n",
              "      <td>1.005683</td>\n",
              "      <td>-0.823003</td>\n",
              "      <td>-0.184673</td>\n",
              "      <td>0.479492</td>\n",
              "      <td>-0.768964</td>\n",
              "      <td>0.360340</td>\n",
              "      <td>0.926437</td>\n",
              "      <td>1.162587</td>\n",
              "      <td>-1.299824</td>\n",
              "      <td>0.489773</td>\n",
              "      <td>-0.447275</td>\n",
              "      <td>1.300500</td>\n",
              "      <td>-0.484245</td>\n",
              "      <td>0.897088</td>\n",
              "      <td>-1.396490</td>\n",
              "      <td>0.789254</td>\n",
              "      <td>...</td>\n",
              "      <td>-0.808962</td>\n",
              "      <td>-1.468275</td>\n",
              "      <td>-1.230618</td>\n",
              "      <td>-1.133356</td>\n",
              "      <td>1.749415</td>\n",
              "      <td>-1.323871</td>\n",
              "      <td>-0.711244</td>\n",
              "      <td>0.442890</td>\n",
              "      <td>1.500647</td>\n",
              "      <td>-0.400904</td>\n",
              "      <td>-1.075697</td>\n",
              "      <td>-1.411980</td>\n",
              "      <td>0.122226</td>\n",
              "      <td>0.642079</td>\n",
              "      <td>-0.231051</td>\n",
              "      <td>-1.347890</td>\n",
              "      <td>-0.974846</td>\n",
              "      <td>0.700359</td>\n",
              "      <td>-0.291946</td>\n",
              "      <td>-0.311275</td>\n",
              "      <td>-1.076447</td>\n",
              "      <td>-0.779321</td>\n",
              "      <td>0.261797</td>\n",
              "      <td>1.251424</td>\n",
              "      <td>1.404031</td>\n",
              "      <td>2.086632</td>\n",
              "      <td>0.900016</td>\n",
              "      <td>-0.810464</td>\n",
              "      <td>0.556997</td>\n",
              "      <td>-0.164257</td>\n",
              "      <td>0.263374</td>\n",
              "      <td>-1.149158</td>\n",
              "      <td>0.817469</td>\n",
              "      <td>-0.411013</td>\n",
              "      <td>0.168705</td>\n",
              "      <td>-1.578117</td>\n",
              "      <td>1.022131</td>\n",
              "      <td>-0.373968</td>\n",
              "      <td>-1.026398</td>\n",
              "      <td>0.214135</td>\n",
              "    </tr>\n",
              "    <tr>\n",
              "      <th>1</th>\n",
              "      <td>0.269959</td>\n",
              "      <td>-0.622138</td>\n",
              "      <td>1.190360</td>\n",
              "      <td>-0.688846</td>\n",
              "      <td>0.790975</td>\n",
              "      <td>1.539900</td>\n",
              "      <td>0.244461</td>\n",
              "      <td>-0.003525</td>\n",
              "      <td>0.858974</td>\n",
              "      <td>0.419300</td>\n",
              "      <td>-0.144987</td>\n",
              "      <td>1.893408</td>\n",
              "      <td>-0.000409</td>\n",
              "      <td>-0.025160</td>\n",
              "      <td>-0.935586</td>\n",
              "      <td>-2.120000</td>\n",
              "      <td>1.757336</td>\n",
              "      <td>-1.473077</td>\n",
              "      <td>-0.948119</td>\n",
              "      <td>2.017368</td>\n",
              "      <td>-1.678317</td>\n",
              "      <td>-1.771135</td>\n",
              "      <td>1.491237</td>\n",
              "      <td>0.668183</td>\n",
              "      <td>-0.954799</td>\n",
              "      <td>0.782756</td>\n",
              "      <td>-1.302434</td>\n",
              "      <td>-0.932390</td>\n",
              "      <td>-0.621140</td>\n",
              "      <td>-1.722433</td>\n",
              "      <td>-0.202250</td>\n",
              "      <td>-1.165592</td>\n",
              "      <td>0.695096</td>\n",
              "      <td>1.063517</td>\n",
              "      <td>-0.118257</td>\n",
              "      <td>-0.599010</td>\n",
              "      <td>0.196242</td>\n",
              "      <td>-0.011334</td>\n",
              "      <td>0.040634</td>\n",
              "      <td>0.741083</td>\n",
              "      <td>...</td>\n",
              "      <td>0.480256</td>\n",
              "      <td>1.078324</td>\n",
              "      <td>-1.086283</td>\n",
              "      <td>0.918394</td>\n",
              "      <td>-0.392137</td>\n",
              "      <td>-0.832228</td>\n",
              "      <td>0.640994</td>\n",
              "      <td>1.727411</td>\n",
              "      <td>-0.339675</td>\n",
              "      <td>0.443627</td>\n",
              "      <td>1.252712</td>\n",
              "      <td>1.102749</td>\n",
              "      <td>0.255461</td>\n",
              "      <td>1.037661</td>\n",
              "      <td>1.408807</td>\n",
              "      <td>-0.395487</td>\n",
              "      <td>-0.590320</td>\n",
              "      <td>1.783707</td>\n",
              "      <td>-0.738204</td>\n",
              "      <td>3.031050</td>\n",
              "      <td>-0.542085</td>\n",
              "      <td>-0.435700</td>\n",
              "      <td>-1.743656</td>\n",
              "      <td>0.146464</td>\n",
              "      <td>1.050349</td>\n",
              "      <td>-0.186013</td>\n",
              "      <td>-0.412563</td>\n",
              "      <td>-0.483543</td>\n",
              "      <td>-0.522151</td>\n",
              "      <td>-1.129387</td>\n",
              "      <td>0.966611</td>\n",
              "      <td>0.093605</td>\n",
              "      <td>0.443623</td>\n",
              "      <td>1.908764</td>\n",
              "      <td>-0.817594</td>\n",
              "      <td>1.522342</td>\n",
              "      <td>1.067654</td>\n",
              "      <td>-0.129400</td>\n",
              "      <td>0.825417</td>\n",
              "      <td>0.505685</td>\n",
              "    </tr>\n",
              "    <tr>\n",
              "      <th>2</th>\n",
              "      <td>-0.681113</td>\n",
              "      <td>-0.276066</td>\n",
              "      <td>0.516988</td>\n",
              "      <td>0.536516</td>\n",
              "      <td>-0.305477</td>\n",
              "      <td>-0.511033</td>\n",
              "      <td>1.769839</td>\n",
              "      <td>-0.564749</td>\n",
              "      <td>-1.561370</td>\n",
              "      <td>-1.307408</td>\n",
              "      <td>-0.130752</td>\n",
              "      <td>-1.343197</td>\n",
              "      <td>0.888789</td>\n",
              "      <td>-0.262491</td>\n",
              "      <td>-0.005875</td>\n",
              "      <td>0.179918</td>\n",
              "      <td>-0.647163</td>\n",
              "      <td>0.589523</td>\n",
              "      <td>-1.342815</td>\n",
              "      <td>1.005285</td>\n",
              "      <td>0.759841</td>\n",
              "      <td>0.107340</td>\n",
              "      <td>-1.085317</td>\n",
              "      <td>0.937877</td>\n",
              "      <td>-1.299019</td>\n",
              "      <td>-1.575276</td>\n",
              "      <td>-0.665103</td>\n",
              "      <td>-1.158352</td>\n",
              "      <td>0.399967</td>\n",
              "      <td>0.416687</td>\n",
              "      <td>-0.428711</td>\n",
              "      <td>0.968919</td>\n",
              "      <td>-0.685601</td>\n",
              "      <td>0.987446</td>\n",
              "      <td>-0.718871</td>\n",
              "      <td>0.051395</td>\n",
              "      <td>0.804550</td>\n",
              "      <td>0.473703</td>\n",
              "      <td>0.058326</td>\n",
              "      <td>0.058332</td>\n",
              "      <td>...</td>\n",
              "      <td>-1.015814</td>\n",
              "      <td>0.967742</td>\n",
              "      <td>-0.460899</td>\n",
              "      <td>-1.004946</td>\n",
              "      <td>0.335468</td>\n",
              "      <td>0.237541</td>\n",
              "      <td>0.853879</td>\n",
              "      <td>-0.185182</td>\n",
              "      <td>0.766417</td>\n",
              "      <td>0.359986</td>\n",
              "      <td>-1.601890</td>\n",
              "      <td>-0.572671</td>\n",
              "      <td>-1.448003</td>\n",
              "      <td>-0.862364</td>\n",
              "      <td>0.766677</td>\n",
              "      <td>-0.249092</td>\n",
              "      <td>0.331276</td>\n",
              "      <td>-1.156053</td>\n",
              "      <td>-1.012477</td>\n",
              "      <td>-0.067934</td>\n",
              "      <td>-0.294957</td>\n",
              "      <td>-0.506407</td>\n",
              "      <td>-1.560110</td>\n",
              "      <td>-1.254681</td>\n",
              "      <td>1.108568</td>\n",
              "      <td>-0.278666</td>\n",
              "      <td>-1.127290</td>\n",
              "      <td>0.351547</td>\n",
              "      <td>-1.314146</td>\n",
              "      <td>-1.626240</td>\n",
              "      <td>-0.072093</td>\n",
              "      <td>0.777997</td>\n",
              "      <td>-0.174131</td>\n",
              "      <td>-0.412316</td>\n",
              "      <td>1.151591</td>\n",
              "      <td>2.297370</td>\n",
              "      <td>-1.617906</td>\n",
              "      <td>-0.695141</td>\n",
              "      <td>-0.381449</td>\n",
              "      <td>0.356681</td>\n",
              "    </tr>\n",
              "    <tr>\n",
              "      <th>3</th>\n",
              "      <td>0.125158</td>\n",
              "      <td>-0.129426</td>\n",
              "      <td>-0.667575</td>\n",
              "      <td>0.195355</td>\n",
              "      <td>0.927992</td>\n",
              "      <td>0.410672</td>\n",
              "      <td>0.500633</td>\n",
              "      <td>-0.474201</td>\n",
              "      <td>-1.843910</td>\n",
              "      <td>0.548767</td>\n",
              "      <td>0.347543</td>\n",
              "      <td>1.014331</td>\n",
              "      <td>-0.934857</td>\n",
              "      <td>0.741492</td>\n",
              "      <td>-0.480762</td>\n",
              "      <td>0.641408</td>\n",
              "      <td>0.551235</td>\n",
              "      <td>0.784619</td>\n",
              "      <td>0.088977</td>\n",
              "      <td>0.160959</td>\n",
              "      <td>1.192958</td>\n",
              "      <td>-0.573410</td>\n",
              "      <td>0.883010</td>\n",
              "      <td>-0.562999</td>\n",
              "      <td>0.410618</td>\n",
              "      <td>0.242366</td>\n",
              "      <td>0.822099</td>\n",
              "      <td>0.152265</td>\n",
              "      <td>0.477453</td>\n",
              "      <td>-0.846035</td>\n",
              "      <td>-0.948135</td>\n",
              "      <td>0.022063</td>\n",
              "      <td>-0.796119</td>\n",
              "      <td>-1.988413</td>\n",
              "      <td>-1.523135</td>\n",
              "      <td>-1.884007</td>\n",
              "      <td>1.918310</td>\n",
              "      <td>-1.340964</td>\n",
              "      <td>-0.343157</td>\n",
              "      <td>0.000871</td>\n",
              "      <td>...</td>\n",
              "      <td>0.700720</td>\n",
              "      <td>1.537629</td>\n",
              "      <td>1.300009</td>\n",
              "      <td>-1.351618</td>\n",
              "      <td>-1.505430</td>\n",
              "      <td>-0.411123</td>\n",
              "      <td>-1.015017</td>\n",
              "      <td>0.185862</td>\n",
              "      <td>-1.407938</td>\n",
              "      <td>-0.793123</td>\n",
              "      <td>-1.615767</td>\n",
              "      <td>-0.996695</td>\n",
              "      <td>-0.182207</td>\n",
              "      <td>2.076768</td>\n",
              "      <td>-0.765424</td>\n",
              "      <td>-1.223761</td>\n",
              "      <td>1.953266</td>\n",
              "      <td>0.788267</td>\n",
              "      <td>-1.102129</td>\n",
              "      <td>1.109222</td>\n",
              "      <td>-0.192528</td>\n",
              "      <td>-1.220110</td>\n",
              "      <td>0.131590</td>\n",
              "      <td>-0.337210</td>\n",
              "      <td>-1.418782</td>\n",
              "      <td>0.832451</td>\n",
              "      <td>-0.325002</td>\n",
              "      <td>-0.215372</td>\n",
              "      <td>-0.751604</td>\n",
              "      <td>1.129547</td>\n",
              "      <td>0.270216</td>\n",
              "      <td>-0.891456</td>\n",
              "      <td>-0.818468</td>\n",
              "      <td>-0.478548</td>\n",
              "      <td>1.607869</td>\n",
              "      <td>-0.789517</td>\n",
              "      <td>-0.959020</td>\n",
              "      <td>1.501744</td>\n",
              "      <td>0.697118</td>\n",
              "      <td>-0.543502</td>\n",
              "    </tr>\n",
              "    <tr>\n",
              "      <th>4</th>\n",
              "      <td>-0.277303</td>\n",
              "      <td>0.035610</td>\n",
              "      <td>0.817683</td>\n",
              "      <td>-0.077829</td>\n",
              "      <td>0.738607</td>\n",
              "      <td>0.955574</td>\n",
              "      <td>0.613372</td>\n",
              "      <td>0.791544</td>\n",
              "      <td>1.794753</td>\n",
              "      <td>0.090006</td>\n",
              "      <td>-1.788863</td>\n",
              "      <td>-1.490109</td>\n",
              "      <td>-0.925386</td>\n",
              "      <td>-0.138103</td>\n",
              "      <td>0.112013</td>\n",
              "      <td>1.171149</td>\n",
              "      <td>-0.330867</td>\n",
              "      <td>0.391612</td>\n",
              "      <td>-1.110346</td>\n",
              "      <td>-0.140479</td>\n",
              "      <td>1.384169</td>\n",
              "      <td>0.207760</td>\n",
              "      <td>2.038227</td>\n",
              "      <td>-0.579511</td>\n",
              "      <td>0.959326</td>\n",
              "      <td>-0.434959</td>\n",
              "      <td>1.220617</td>\n",
              "      <td>-1.446727</td>\n",
              "      <td>0.470432</td>\n",
              "      <td>1.101452</td>\n",
              "      <td>0.568668</td>\n",
              "      <td>-0.428840</td>\n",
              "      <td>0.194985</td>\n",
              "      <td>1.052620</td>\n",
              "      <td>1.793625</td>\n",
              "      <td>-0.619668</td>\n",
              "      <td>0.193903</td>\n",
              "      <td>-0.022447</td>\n",
              "      <td>2.024278</td>\n",
              "      <td>0.192203</td>\n",
              "      <td>...</td>\n",
              "      <td>0.850294</td>\n",
              "      <td>0.284519</td>\n",
              "      <td>0.072839</td>\n",
              "      <td>1.371697</td>\n",
              "      <td>1.731257</td>\n",
              "      <td>0.387118</td>\n",
              "      <td>0.722415</td>\n",
              "      <td>0.304598</td>\n",
              "      <td>-0.582369</td>\n",
              "      <td>-0.227938</td>\n",
              "      <td>0.328676</td>\n",
              "      <td>-0.340447</td>\n",
              "      <td>-0.001325</td>\n",
              "      <td>0.510917</td>\n",
              "      <td>-0.244125</td>\n",
              "      <td>1.621725</td>\n",
              "      <td>-0.072667</td>\n",
              "      <td>0.625042</td>\n",
              "      <td>0.318535</td>\n",
              "      <td>0.922795</td>\n",
              "      <td>-0.941250</td>\n",
              "      <td>-0.231087</td>\n",
              "      <td>0.465436</td>\n",
              "      <td>0.771124</td>\n",
              "      <td>-0.097269</td>\n",
              "      <td>-0.827452</td>\n",
              "      <td>-0.799239</td>\n",
              "      <td>1.404967</td>\n",
              "      <td>0.162989</td>\n",
              "      <td>-1.053901</td>\n",
              "      <td>-1.036191</td>\n",
              "      <td>0.688988</td>\n",
              "      <td>-1.405987</td>\n",
              "      <td>1.468536</td>\n",
              "      <td>-1.501101</td>\n",
              "      <td>-0.958473</td>\n",
              "      <td>0.297627</td>\n",
              "      <td>0.645537</td>\n",
              "      <td>0.706318</td>\n",
              "      <td>-0.525375</td>\n",
              "    </tr>\n",
              "  </tbody>\n",
              "</table>\n",
              "<p>5 rows × 200 columns</p>\n",
              "</div>"
            ],
            "text/plain": [
              "      var_0     var_1     var_2  ...   var_197   var_198   var_199\n",
              "0 -0.577102 -1.273737  0.451707  ... -0.373968 -1.026398  0.214135\n",
              "1  0.269959 -0.622138  1.190360  ... -0.129400  0.825417  0.505685\n",
              "2 -0.681113 -0.276066  0.516988  ... -0.695141 -0.381449  0.356681\n",
              "3  0.125158 -0.129426 -0.667575  ...  1.501744  0.697118 -0.543502\n",
              "4 -0.277303  0.035610  0.817683  ...  0.645537  0.706318 -0.525375\n",
              "\n",
              "[5 rows x 200 columns]"
            ]
          },
          "metadata": {
            "tags": []
          },
          "execution_count": 8
        }
      ]
    },
    {
      "cell_type": "code",
      "metadata": {
        "id": "8qQSnmlfI7w3",
        "colab_type": "code",
        "colab": {}
      },
      "source": [
        "#Split the data\n",
        "x_train, x_test, y_train, y_test = train_test_split(x_scaled, y,  test_size = .3, random_state = 0 )"
      ],
      "execution_count": 0,
      "outputs": []
    },
    {
      "cell_type": "markdown",
      "metadata": {
        "id": "R9I-wnm4mKMz",
        "colab_type": "text"
      },
      "source": [
        "*********************************************************\n",
        "Since we have unbalanced data, I will try to handle it with some methods...\n",
        "The first method is **Resampling Techniques — Oversample minority class.**"
      ]
    },
    {
      "cell_type": "code",
      "metadata": {
        "id": "zUuX6oFFlvFe",
        "colab_type": "code",
        "outputId": "0f4b35f4-32ed-4557-bcbb-2941471ed872",
        "colab": {
          "base_uri": "https://localhost:8080/",
          "height": 68
        }
      },
      "source": [
        "# concatenate our training data back together\n",
        "z = pd.concat([x_train, y_train], axis=1)\n",
        "\n",
        "# separate minority and majority classes\n",
        "no_action = z[z.target==0]\n",
        "action = z[z.target==1]\n",
        "\n",
        "# upsample minority\n",
        "action_upsampled = resample(action,\n",
        "                          replace=True, # sample with replacement\n",
        "                          n_samples=len(no_action)) # match number in majority class\n",
        "\n",
        "# combine majority and upsampled minority\n",
        "upsampled = pd.concat([no_action, action_upsampled])\n",
        "\n",
        "# check new class counts\n",
        "upsampled.target.value_counts()"
      ],
      "execution_count": 0,
      "outputs": [
        {
          "output_type": "execute_result",
          "data": {
            "text/plain": [
              "1    126016\n",
              "0    126016\n",
              "Name: target, dtype: int64"
            ]
          },
          "metadata": {
            "tags": []
          },
          "execution_count": 10
        }
      ]
    },
    {
      "cell_type": "code",
      "metadata": {
        "id": "KxBUmM69ol67",
        "colab_type": "code",
        "outputId": "70f569fd-3973-44e5-e71c-f702a6f26832",
        "colab": {
          "base_uri": "https://localhost:8080/",
          "height": 278
        }
      },
      "source": [
        "upsampled.target.value_counts().plot(kind='bar', title='Count (target)');"
      ],
      "execution_count": 0,
      "outputs": [
        {
          "output_type": "display_data",
          "data": {
            "image/png": "[encoded data removed]",
            "text/plain": [
              "<Figure size 432x288 with 1 Axes>"
            ]
          },
          "metadata": {
            "tags": []
          }
        }
      ]
    },
    {
      "cell_type": "code",
      "metadata": {
        "id": "ATxHporTn3jP",
        "colab_type": "code",
        "colab": {}
      },
      "source": [
        "#Spliting the dataset to train (x) and target (y) after resampling\n",
        "t = upsampled['target']\n",
        "f = upsampled.drop(['target'], axis=1)"
      ],
      "execution_count": 0,
      "outputs": []
    },
    {
      "cell_type": "code",
      "metadata": {
        "id": "Vd8xKYYzmCs8",
        "colab_type": "code",
        "colab": {}
      },
      "source": [
        "#Split the data\n",
        "x_train, x_test, y_train, y_test = train_test_split(f, t,  test_size = .3, random_state = 0 )"
      ],
      "execution_count": 0,
      "outputs": []
    },
    {
      "cell_type": "code",
      "metadata": {
        "id": "sz8O3V8Ox_UJ",
        "colab_type": "code",
        "outputId": "d819da1c-1fec-4871-8c7b-bc027185caf6",
        "colab": {
          "base_uri": "https://localhost:8080/",
          "height": 34
        }
      },
      "source": [
        "x_train.shape"
      ],
      "execution_count": 0,
      "outputs": [
        {
          "output_type": "execute_result",
          "data": {
            "text/plain": [
              "(176422, 200)"
            ]
          },
          "metadata": {
            "tags": []
          },
          "execution_count": 22
        }
      ]
    },
    {
      "cell_type": "code",
      "metadata": {
        "id": "arCPdPsJyKD4",
        "colab_type": "code",
        "outputId": "2404d809-8ad5-4594-dadb-c860767ab506",
        "colab": {
          "base_uri": "https://localhost:8080/",
          "height": 34
        }
      },
      "source": [
        "y_train.shape"
      ],
      "execution_count": 0,
      "outputs": [
        {
          "output_type": "execute_result",
          "data": {
            "text/plain": [
              "(176422,)"
            ]
          },
          "metadata": {
            "tags": []
          },
          "execution_count": 23
        }
      ]
    },
    {
      "cell_type": "code",
      "metadata": {
        "id": "eqRW7VG6NNf5",
        "colab_type": "code",
        "outputId": "aaac2a71-7160-4833-cbcd-50ce7f0e54b3",
        "colab": {
          "base_uri": "https://localhost:8080/",
          "height": 253
        }
      },
      "source": [
        "x_train.head()"
      ],
      "execution_count": 0,
      "outputs": [
        {
          "output_type": "execute_result",
          "data": {
            "text/html": [
              "<div>\n",
              "<style scoped>\n",
              "    .dataframe tbody tr th:only-of-type {\n",
              "        vertical-align: middle;\n",
              "    }\n",
              "\n",
              "    .dataframe tbody tr th {\n",
              "        vertical-align: top;\n",
              "    }\n",
              "\n",
              "    .dataframe thead th {\n",
              "        text-align: right;\n",
              "    }\n",
              "</style>\n",
              "<table border=\"1\" class=\"dataframe\">\n",
              "  <thead>\n",
              "    <tr style=\"text-align: right;\">\n",
              "      <th></th>\n",
              "      <th>var_0</th>\n",
              "      <th>var_1</th>\n",
              "      <th>var_2</th>\n",
              "      <th>var_3</th>\n",
              "      <th>var_4</th>\n",
              "      <th>var_5</th>\n",
              "      <th>var_6</th>\n",
              "      <th>var_7</th>\n",
              "      <th>var_8</th>\n",
              "      <th>var_9</th>\n",
              "      <th>var_10</th>\n",
              "      <th>var_11</th>\n",
              "      <th>var_12</th>\n",
              "      <th>var_13</th>\n",
              "      <th>var_14</th>\n",
              "      <th>var_15</th>\n",
              "      <th>var_16</th>\n",
              "      <th>var_17</th>\n",
              "      <th>var_18</th>\n",
              "      <th>var_19</th>\n",
              "      <th>var_20</th>\n",
              "      <th>var_21</th>\n",
              "      <th>var_22</th>\n",
              "      <th>var_23</th>\n",
              "      <th>var_24</th>\n",
              "      <th>var_25</th>\n",
              "      <th>var_26</th>\n",
              "      <th>var_27</th>\n",
              "      <th>var_28</th>\n",
              "      <th>var_29</th>\n",
              "      <th>var_30</th>\n",
              "      <th>var_31</th>\n",
              "      <th>var_32</th>\n",
              "      <th>var_33</th>\n",
              "      <th>var_34</th>\n",
              "      <th>var_35</th>\n",
              "      <th>var_36</th>\n",
              "      <th>var_37</th>\n",
              "      <th>var_38</th>\n",
              "      <th>var_39</th>\n",
              "      <th>...</th>\n",
              "      <th>var_160</th>\n",
              "      <th>var_161</th>\n",
              "      <th>var_162</th>\n",
              "      <th>var_163</th>\n",
              "      <th>var_164</th>\n",
              "      <th>var_165</th>\n",
              "      <th>var_166</th>\n",
              "      <th>var_167</th>\n",
              "      <th>var_168</th>\n",
              "      <th>var_169</th>\n",
              "      <th>var_170</th>\n",
              "      <th>var_171</th>\n",
              "      <th>var_172</th>\n",
              "      <th>var_173</th>\n",
              "      <th>var_174</th>\n",
              "      <th>var_175</th>\n",
              "      <th>var_176</th>\n",
              "      <th>var_177</th>\n",
              "      <th>var_178</th>\n",
              "      <th>var_179</th>\n",
              "      <th>var_180</th>\n",
              "      <th>var_181</th>\n",
              "      <th>var_182</th>\n",
              "      <th>var_183</th>\n",
              "      <th>var_184</th>\n",
              "      <th>var_185</th>\n",
              "      <th>var_186</th>\n",
              "      <th>var_187</th>\n",
              "      <th>var_188</th>\n",
              "      <th>var_189</th>\n",
              "      <th>var_190</th>\n",
              "      <th>var_191</th>\n",
              "      <th>var_192</th>\n",
              "      <th>var_193</th>\n",
              "      <th>var_194</th>\n",
              "      <th>var_195</th>\n",
              "      <th>var_196</th>\n",
              "      <th>var_197</th>\n",
              "      <th>var_198</th>\n",
              "      <th>var_199</th>\n",
              "    </tr>\n",
              "  </thead>\n",
              "  <tbody>\n",
              "    <tr>\n",
              "      <th>19361</th>\n",
              "      <td>0.138809</td>\n",
              "      <td>1.232291</td>\n",
              "      <td>0.333376</td>\n",
              "      <td>0.440202</td>\n",
              "      <td>0.515891</td>\n",
              "      <td>1.654713</td>\n",
              "      <td>0.146262</td>\n",
              "      <td>-1.248469</td>\n",
              "      <td>-0.981857</td>\n",
              "      <td>0.015516</td>\n",
              "      <td>0.012082</td>\n",
              "      <td>-1.343079</td>\n",
              "      <td>-1.175835</td>\n",
              "      <td>-1.708070</td>\n",
              "      <td>0.566436</td>\n",
              "      <td>0.475271</td>\n",
              "      <td>-0.571110</td>\n",
              "      <td>0.956788</td>\n",
              "      <td>-1.406435</td>\n",
              "      <td>-0.740079</td>\n",
              "      <td>1.516328</td>\n",
              "      <td>-2.438916</td>\n",
              "      <td>-0.667508</td>\n",
              "      <td>-0.374156</td>\n",
              "      <td>0.994749</td>\n",
              "      <td>-0.632133</td>\n",
              "      <td>-0.990641</td>\n",
              "      <td>-0.451393</td>\n",
              "      <td>1.391586</td>\n",
              "      <td>0.685348</td>\n",
              "      <td>-1.026425</td>\n",
              "      <td>0.059797</td>\n",
              "      <td>-0.650552</td>\n",
              "      <td>-0.525216</td>\n",
              "      <td>-0.820604</td>\n",
              "      <td>-1.080133</td>\n",
              "      <td>0.056658</td>\n",
              "      <td>0.527532</td>\n",
              "      <td>-0.073671</td>\n",
              "      <td>0.463288</td>\n",
              "      <td>...</td>\n",
              "      <td>-1.798803</td>\n",
              "      <td>0.149159</td>\n",
              "      <td>0.768313</td>\n",
              "      <td>0.895457</td>\n",
              "      <td>-0.726651</td>\n",
              "      <td>0.192857</td>\n",
              "      <td>-0.625765</td>\n",
              "      <td>-0.562573</td>\n",
              "      <td>-0.511988</td>\n",
              "      <td>0.308015</td>\n",
              "      <td>-0.060104</td>\n",
              "      <td>-0.870143</td>\n",
              "      <td>-1.319737</td>\n",
              "      <td>-0.243207</td>\n",
              "      <td>0.352001</td>\n",
              "      <td>0.427496</td>\n",
              "      <td>-1.034761</td>\n",
              "      <td>1.635622</td>\n",
              "      <td>0.574089</td>\n",
              "      <td>1.761038</td>\n",
              "      <td>0.371637</td>\n",
              "      <td>-0.159942</td>\n",
              "      <td>0.929634</td>\n",
              "      <td>0.600998</td>\n",
              "      <td>-0.398935</td>\n",
              "      <td>-0.897608</td>\n",
              "      <td>0.892523</td>\n",
              "      <td>0.673327</td>\n",
              "      <td>-1.767045</td>\n",
              "      <td>1.159250</td>\n",
              "      <td>-1.663287</td>\n",
              "      <td>1.247027</td>\n",
              "      <td>0.080195</td>\n",
              "      <td>-0.190123</td>\n",
              "      <td>1.509723</td>\n",
              "      <td>1.833948</td>\n",
              "      <td>-1.575866</td>\n",
              "      <td>-0.824261</td>\n",
              "      <td>-0.389553</td>\n",
              "      <td>1.089418</td>\n",
              "    </tr>\n",
              "    <tr>\n",
              "      <th>91002</th>\n",
              "      <td>-1.748368</td>\n",
              "      <td>-1.603907</td>\n",
              "      <td>0.428723</td>\n",
              "      <td>1.082883</td>\n",
              "      <td>1.543156</td>\n",
              "      <td>0.032317</td>\n",
              "      <td>2.082899</td>\n",
              "      <td>-0.159783</td>\n",
              "      <td>-0.716571</td>\n",
              "      <td>-0.194513</td>\n",
              "      <td>0.669770</td>\n",
              "      <td>-1.845455</td>\n",
              "      <td>-1.043771</td>\n",
              "      <td>-0.124028</td>\n",
              "      <td>-0.483342</td>\n",
              "      <td>-1.780198</td>\n",
              "      <td>-0.506474</td>\n",
              "      <td>0.956714</td>\n",
              "      <td>-0.208794</td>\n",
              "      <td>0.879907</td>\n",
              "      <td>0.492867</td>\n",
              "      <td>-0.189041</td>\n",
              "      <td>-2.167043</td>\n",
              "      <td>-1.062912</td>\n",
              "      <td>-0.556359</td>\n",
              "      <td>-0.810745</td>\n",
              "      <td>-0.856518</td>\n",
              "      <td>0.445890</td>\n",
              "      <td>-0.008399</td>\n",
              "      <td>0.512217</td>\n",
              "      <td>1.424656</td>\n",
              "      <td>-0.220820</td>\n",
              "      <td>1.703975</td>\n",
              "      <td>0.486997</td>\n",
              "      <td>0.671421</td>\n",
              "      <td>-1.548784</td>\n",
              "      <td>1.849207</td>\n",
              "      <td>2.306550</td>\n",
              "      <td>-0.472793</td>\n",
              "      <td>0.165439</td>\n",
              "      <td>...</td>\n",
              "      <td>1.063994</td>\n",
              "      <td>0.046837</td>\n",
              "      <td>0.688361</td>\n",
              "      <td>0.883370</td>\n",
              "      <td>1.248185</td>\n",
              "      <td>0.008648</td>\n",
              "      <td>0.729448</td>\n",
              "      <td>-0.797941</td>\n",
              "      <td>-0.389354</td>\n",
              "      <td>0.049242</td>\n",
              "      <td>0.286909</td>\n",
              "      <td>2.110057</td>\n",
              "      <td>-0.097381</td>\n",
              "      <td>0.266241</td>\n",
              "      <td>-1.901121</td>\n",
              "      <td>-0.994071</td>\n",
              "      <td>-0.530790</td>\n",
              "      <td>1.525043</td>\n",
              "      <td>1.045732</td>\n",
              "      <td>-2.049892</td>\n",
              "      <td>0.882544</td>\n",
              "      <td>-0.458442</td>\n",
              "      <td>0.563769</td>\n",
              "      <td>1.254217</td>\n",
              "      <td>-2.182659</td>\n",
              "      <td>-0.241609</td>\n",
              "      <td>-0.301708</td>\n",
              "      <td>0.555898</td>\n",
              "      <td>-0.784586</td>\n",
              "      <td>0.236523</td>\n",
              "      <td>-1.568570</td>\n",
              "      <td>0.959159</td>\n",
              "      <td>-0.284316</td>\n",
              "      <td>0.729562</td>\n",
              "      <td>-0.432254</td>\n",
              "      <td>-0.937625</td>\n",
              "      <td>-0.573273</td>\n",
              "      <td>0.976041</td>\n",
              "      <td>-1.470844</td>\n",
              "      <td>-0.027703</td>\n",
              "    </tr>\n",
              "    <tr>\n",
              "      <th>121782</th>\n",
              "      <td>-0.149345</td>\n",
              "      <td>-1.834226</td>\n",
              "      <td>0.608851</td>\n",
              "      <td>0.364687</td>\n",
              "      <td>-0.221319</td>\n",
              "      <td>-1.100141</td>\n",
              "      <td>-0.012057</td>\n",
              "      <td>0.641810</td>\n",
              "      <td>-0.645516</td>\n",
              "      <td>-0.170466</td>\n",
              "      <td>-1.867615</td>\n",
              "      <td>-0.570112</td>\n",
              "      <td>0.577833</td>\n",
              "      <td>-0.450915</td>\n",
              "      <td>1.997415</td>\n",
              "      <td>0.755565</td>\n",
              "      <td>1.358808</td>\n",
              "      <td>-0.270606</td>\n",
              "      <td>0.658471</td>\n",
              "      <td>1.057781</td>\n",
              "      <td>0.657377</td>\n",
              "      <td>-1.526483</td>\n",
              "      <td>-2.225119</td>\n",
              "      <td>-0.716920</td>\n",
              "      <td>0.241949</td>\n",
              "      <td>-0.193658</td>\n",
              "      <td>0.959819</td>\n",
              "      <td>1.291786</td>\n",
              "      <td>0.268994</td>\n",
              "      <td>-0.787777</td>\n",
              "      <td>0.750597</td>\n",
              "      <td>-0.600424</td>\n",
              "      <td>-0.851184</td>\n",
              "      <td>0.809903</td>\n",
              "      <td>-0.554547</td>\n",
              "      <td>-0.339933</td>\n",
              "      <td>-0.408090</td>\n",
              "      <td>-0.378090</td>\n",
              "      <td>-0.514533</td>\n",
              "      <td>-1.153022</td>\n",
              "      <td>...</td>\n",
              "      <td>1.181730</td>\n",
              "      <td>-1.508653</td>\n",
              "      <td>1.281764</td>\n",
              "      <td>-1.639985</td>\n",
              "      <td>0.428564</td>\n",
              "      <td>1.340211</td>\n",
              "      <td>-0.518105</td>\n",
              "      <td>0.524898</td>\n",
              "      <td>-0.391994</td>\n",
              "      <td>0.523207</td>\n",
              "      <td>-2.731911</td>\n",
              "      <td>-0.411031</td>\n",
              "      <td>-0.240288</td>\n",
              "      <td>0.238151</td>\n",
              "      <td>-2.389070</td>\n",
              "      <td>-0.922429</td>\n",
              "      <td>-1.293894</td>\n",
              "      <td>-0.197244</td>\n",
              "      <td>-1.669719</td>\n",
              "      <td>0.206598</td>\n",
              "      <td>1.059537</td>\n",
              "      <td>0.337849</td>\n",
              "      <td>0.109991</td>\n",
              "      <td>-0.880014</td>\n",
              "      <td>-1.861365</td>\n",
              "      <td>-2.148488</td>\n",
              "      <td>0.429415</td>\n",
              "      <td>-0.910639</td>\n",
              "      <td>0.433258</td>\n",
              "      <td>1.999117</td>\n",
              "      <td>-0.977506</td>\n",
              "      <td>1.305837</td>\n",
              "      <td>0.543866</td>\n",
              "      <td>-0.577821</td>\n",
              "      <td>-1.425156</td>\n",
              "      <td>0.219599</td>\n",
              "      <td>-1.360607</td>\n",
              "      <td>1.470712</td>\n",
              "      <td>0.239221</td>\n",
              "      <td>-0.167433</td>\n",
              "    </tr>\n",
              "    <tr>\n",
              "      <th>128227</th>\n",
              "      <td>-2.032278</td>\n",
              "      <td>0.933899</td>\n",
              "      <td>0.618962</td>\n",
              "      <td>0.690384</td>\n",
              "      <td>-1.376422</td>\n",
              "      <td>0.908978</td>\n",
              "      <td>0.216421</td>\n",
              "      <td>-1.920106</td>\n",
              "      <td>-1.264967</td>\n",
              "      <td>0.744546</td>\n",
              "      <td>0.342108</td>\n",
              "      <td>-1.236233</td>\n",
              "      <td>1.128189</td>\n",
              "      <td>0.213011</td>\n",
              "      <td>-0.017530</td>\n",
              "      <td>0.706745</td>\n",
              "      <td>-0.944807</td>\n",
              "      <td>0.235070</td>\n",
              "      <td>-0.014713</td>\n",
              "      <td>0.369420</td>\n",
              "      <td>1.223198</td>\n",
              "      <td>0.410212</td>\n",
              "      <td>-0.103910</td>\n",
              "      <td>0.434169</td>\n",
              "      <td>1.785486</td>\n",
              "      <td>1.709438</td>\n",
              "      <td>1.283921</td>\n",
              "      <td>0.129820</td>\n",
              "      <td>0.200571</td>\n",
              "      <td>-0.097049</td>\n",
              "      <td>0.939319</td>\n",
              "      <td>-0.097295</td>\n",
              "      <td>-0.944970</td>\n",
              "      <td>1.187015</td>\n",
              "      <td>-0.991944</td>\n",
              "      <td>-0.781864</td>\n",
              "      <td>-0.190204</td>\n",
              "      <td>-0.967274</td>\n",
              "      <td>-1.764062</td>\n",
              "      <td>0.989508</td>\n",
              "      <td>...</td>\n",
              "      <td>-0.189628</td>\n",
              "      <td>-1.341174</td>\n",
              "      <td>-1.867766</td>\n",
              "      <td>-2.002487</td>\n",
              "      <td>1.439179</td>\n",
              "      <td>-1.120992</td>\n",
              "      <td>-0.569771</td>\n",
              "      <td>-1.283886</td>\n",
              "      <td>-1.418852</td>\n",
              "      <td>-0.978000</td>\n",
              "      <td>-0.268326</td>\n",
              "      <td>-0.323564</td>\n",
              "      <td>-1.847812</td>\n",
              "      <td>-0.521185</td>\n",
              "      <td>-0.114144</td>\n",
              "      <td>-0.821467</td>\n",
              "      <td>-0.315563</td>\n",
              "      <td>-0.094387</td>\n",
              "      <td>-1.351739</td>\n",
              "      <td>-1.028044</td>\n",
              "      <td>-1.744523</td>\n",
              "      <td>-0.056360</td>\n",
              "      <td>-0.703505</td>\n",
              "      <td>-0.833801</td>\n",
              "      <td>-1.593407</td>\n",
              "      <td>0.521160</td>\n",
              "      <td>1.084607</td>\n",
              "      <td>-1.362099</td>\n",
              "      <td>-0.099953</td>\n",
              "      <td>0.521463</td>\n",
              "      <td>1.402804</td>\n",
              "      <td>-0.686380</td>\n",
              "      <td>-0.568674</td>\n",
              "      <td>-0.462942</td>\n",
              "      <td>-0.396754</td>\n",
              "      <td>0.426544</td>\n",
              "      <td>0.813802</td>\n",
              "      <td>-0.371147</td>\n",
              "      <td>-0.283108</td>\n",
              "      <td>0.744946</td>\n",
              "    </tr>\n",
              "    <tr>\n",
              "      <th>46411</th>\n",
              "      <td>0.770280</td>\n",
              "      <td>0.408841</td>\n",
              "      <td>0.574469</td>\n",
              "      <td>-1.182260</td>\n",
              "      <td>-0.000698</td>\n",
              "      <td>0.497049</td>\n",
              "      <td>-1.817724</td>\n",
              "      <td>-0.093137</td>\n",
              "      <td>-1.520171</td>\n",
              "      <td>-0.371183</td>\n",
              "      <td>-0.219049</td>\n",
              "      <td>0.470935</td>\n",
              "      <td>-0.913811</td>\n",
              "      <td>-2.268386</td>\n",
              "      <td>-1.716091</td>\n",
              "      <td>1.728579</td>\n",
              "      <td>-0.464400</td>\n",
              "      <td>0.223137</td>\n",
              "      <td>-0.372638</td>\n",
              "      <td>2.343629</td>\n",
              "      <td>0.226132</td>\n",
              "      <td>-0.090756</td>\n",
              "      <td>-2.141550</td>\n",
              "      <td>0.798760</td>\n",
              "      <td>-1.826892</td>\n",
              "      <td>-0.008391</td>\n",
              "      <td>-0.206033</td>\n",
              "      <td>-0.395215</td>\n",
              "      <td>0.780505</td>\n",
              "      <td>1.262121</td>\n",
              "      <td>0.893682</td>\n",
              "      <td>0.647652</td>\n",
              "      <td>0.694285</td>\n",
              "      <td>0.829475</td>\n",
              "      <td>1.586466</td>\n",
              "      <td>-0.776902</td>\n",
              "      <td>0.177396</td>\n",
              "      <td>-0.639411</td>\n",
              "      <td>0.312293</td>\n",
              "      <td>0.216780</td>\n",
              "      <td>...</td>\n",
              "      <td>-0.749846</td>\n",
              "      <td>1.781735</td>\n",
              "      <td>-0.132921</td>\n",
              "      <td>1.465121</td>\n",
              "      <td>0.221227</td>\n",
              "      <td>-0.384611</td>\n",
              "      <td>1.345380</td>\n",
              "      <td>0.711305</td>\n",
              "      <td>0.523595</td>\n",
              "      <td>-0.813966</td>\n",
              "      <td>0.147824</td>\n",
              "      <td>-1.044334</td>\n",
              "      <td>-0.002570</td>\n",
              "      <td>1.113230</td>\n",
              "      <td>-0.658003</td>\n",
              "      <td>0.544675</td>\n",
              "      <td>-1.183845</td>\n",
              "      <td>-1.065672</td>\n",
              "      <td>1.989415</td>\n",
              "      <td>-0.569265</td>\n",
              "      <td>1.017931</td>\n",
              "      <td>-0.612613</td>\n",
              "      <td>-1.051531</td>\n",
              "      <td>0.662563</td>\n",
              "      <td>-0.119827</td>\n",
              "      <td>-0.365774</td>\n",
              "      <td>-0.207093</td>\n",
              "      <td>0.333283</td>\n",
              "      <td>-0.687365</td>\n",
              "      <td>-1.111668</td>\n",
              "      <td>-0.145516</td>\n",
              "      <td>-0.336857</td>\n",
              "      <td>-0.203216</td>\n",
              "      <td>-0.556629</td>\n",
              "      <td>0.106603</td>\n",
              "      <td>0.701211</td>\n",
              "      <td>1.015604</td>\n",
              "      <td>-0.078403</td>\n",
              "      <td>0.154497</td>\n",
              "      <td>0.410705</td>\n",
              "    </tr>\n",
              "  </tbody>\n",
              "</table>\n",
              "<p>5 rows × 200 columns</p>\n",
              "</div>"
            ],
            "text/plain": [
              "           var_0     var_1     var_2  ...   var_197   var_198   var_199\n",
              "19361   0.138809  1.232291  0.333376  ... -0.824261 -0.389553  1.089418\n",
              "91002  -1.748368 -1.603907  0.428723  ...  0.976041 -1.470844 -0.027703\n",
              "121782 -0.149345 -1.834226  0.608851  ...  1.470712  0.239221 -0.167433\n",
              "128227 -2.032278  0.933899  0.618962  ... -0.371147 -0.283108  0.744946\n",
              "46411   0.770280  0.408841  0.574469  ... -0.078403  0.154497  0.410705\n",
              "\n",
              "[5 rows x 200 columns]"
            ]
          },
          "metadata": {
            "tags": []
          },
          "execution_count": 24
        }
      ]
    },
    {
      "cell_type": "code",
      "metadata": {
        "id": "tE5iLi4ZJaI2",
        "colab_type": "code",
        "outputId": "7d6fd09d-75b3-4c6f-b2c5-47ce4b23ff75",
        "colab": {
          "base_uri": "https://localhost:8080/",
          "height": 272
        }
      },
      "source": [
        "#Rank the features and select the important ones\n",
        "sel=SelectFromModel(RandomForestClassifier(n_estimators=60,max_depth=30))\n",
        "sel.fit(x_train,y_train)"
      ],
      "execution_count": 0,
      "outputs": [
        {
          "output_type": "execute_result",
          "data": {
            "text/plain": [
              "SelectFromModel(estimator=RandomForestClassifier(bootstrap=True,\n",
              "                                                 class_weight=None,\n",
              "                                                 criterion='gini', max_depth=30,\n",
              "                                                 max_features='auto',\n",
              "                                                 max_leaf_nodes=None,\n",
              "                                                 min_impurity_decrease=0.0,\n",
              "                                                 min_impurity_split=None,\n",
              "                                                 min_samples_leaf=1,\n",
              "                                                 min_samples_split=2,\n",
              "                                                 min_weight_fraction_leaf=0.0,\n",
              "                                                 n_estimators=60, n_jobs=None,\n",
              "                                                 oob_score=False,\n",
              "                                                 random_state=None, verbose=0,\n",
              "                                                 warm_start=False),\n",
              "                max_features=None, norm_order=1, prefit=False, threshold=None)"
            ]
          },
          "metadata": {
            "tags": []
          },
          "execution_count": 14
        }
      ]
    },
    {
      "cell_type": "code",
      "metadata": {
        "id": "0qY_PabLNZsW",
        "colab_type": "code",
        "outputId": "e56c6b5a-db67-4b14-a764-8faa56bcc5c0",
        "colab": {
          "base_uri": "https://localhost:8080/",
          "height": 408
        }
      },
      "source": [
        "#Which features are important \n",
        "sel.get_support()"
      ],
      "execution_count": 0,
      "outputs": [
        {
          "output_type": "execute_result",
          "data": {
            "text/plain": [
              "array([ True,  True,  True, False, False, False,  True, False, False,\n",
              "        True, False, False,  True,  True, False, False, False, False,\n",
              "        True, False, False,  True,  True, False, False, False,  True,\n",
              "       False, False, False, False, False, False,  True,  True, False,\n",
              "       False, False, False, False,  True, False, False, False,  True,\n",
              "       False, False, False, False, False, False, False, False,  True,\n",
              "       False, False, False, False, False, False, False, False, False,\n",
              "       False, False, False, False,  True, False, False, False, False,\n",
              "       False, False, False, False,  True, False,  True, False,  True,\n",
              "        True, False, False, False, False, False, False, False, False,\n",
              "       False,  True,  True, False,  True,  True, False, False, False,\n",
              "        True, False, False, False, False, False, False, False, False,\n",
              "        True,  True,  True, False, False, False, False,  True, False,\n",
              "       False, False, False, False,  True,  True,  True, False, False,\n",
              "       False,  True, False, False, False, False, False,  True, False,\n",
              "       False, False, False, False,  True, False, False, False, False,\n",
              "       False, False,  True, False,  True,  True, False, False, False,\n",
              "       False,  True, False, False, False, False, False, False, False,\n",
              "       False, False,  True,  True,  True, False, False,  True,  True,\n",
              "       False,  True,  True,  True, False, False,  True, False,  True,\n",
              "       False, False, False, False,  True, False, False, False, False,\n",
              "       False,  True,  True,  True, False, False, False, False, False,\n",
              "        True, False])"
            ]
          },
          "metadata": {
            "tags": []
          },
          "execution_count": 15
        }
      ]
    },
    {
      "cell_type": "code",
      "metadata": {
        "id": "5BtZITzUQ915",
        "colab_type": "code",
        "outputId": "be4cd593-0688-4bac-c709-43f9266693d3",
        "colab": {
          "base_uri": "https://localhost:8080/",
          "height": 34
        }
      },
      "source": [
        "#make list and count the selected features\n",
        "selected_feat=x_train.columns[(sel.get_support())]\n",
        "len(selected_feat)"
      ],
      "execution_count": 0,
      "outputs": [
        {
          "output_type": "execute_result",
          "data": {
            "text/plain": [
              "55"
            ]
          },
          "metadata": {
            "tags": []
          },
          "execution_count": 16
        }
      ]
    },
    {
      "cell_type": "code",
      "metadata": {
        "id": "AbIKQGRHRzuQ",
        "colab_type": "code",
        "outputId": "ae8f42e9-d7fd-4045-e97d-88e6573e4020",
        "colab": {
          "base_uri": "https://localhost:8080/",
          "height": 187
        }
      },
      "source": [
        "#The name of the selected features\n",
        "print(selected_feat)"
      ],
      "execution_count": 0,
      "outputs": [
        {
          "output_type": "stream",
          "text": [
            "Index(['var_0', 'var_1', 'var_2', 'var_6', 'var_9', 'var_12', 'var_13',\n",
            "       'var_18', 'var_21', 'var_22', 'var_26', 'var_33', 'var_34', 'var_40',\n",
            "       'var_44', 'var_53', 'var_67', 'var_76', 'var_78', 'var_80', 'var_81',\n",
            "       'var_91', 'var_92', 'var_94', 'var_95', 'var_99', 'var_108', 'var_109',\n",
            "       'var_110', 'var_115', 'var_121', 'var_122', 'var_123', 'var_127',\n",
            "       'var_133', 'var_139', 'var_146', 'var_148', 'var_149', 'var_154',\n",
            "       'var_164', 'var_165', 'var_166', 'var_169', 'var_170', 'var_172',\n",
            "       'var_173', 'var_174', 'var_177', 'var_179', 'var_184', 'var_190',\n",
            "       'var_191', 'var_192', 'var_198'],\n",
            "      dtype='object')\n"
          ],
          "name": "stdout"
        }
      ]
    },
    {
      "cell_type": "code",
      "metadata": {
        "id": "LswS0QfjErYb",
        "colab_type": "code",
        "outputId": "5c72b275-54f1-48e6-f15e-e4ee4458d083",
        "colab": {
          "base_uri": "https://localhost:8080/",
          "height": 291
        }
      },
      "source": [
        "#Ploting the distribution of importance top 20\n",
        "feat_importances=pd.Series(sel.estimator_.feature_importances_)\n",
        "feat_importances.nlargest(20).plot(kind='bar')"
      ],
      "execution_count": 0,
      "outputs": [
        {
          "output_type": "execute_result",
          "data": {
            "text/plain": [
              "<matplotlib.axes._subplots.AxesSubplot at 0x7f219a9ec358>"
            ]
          },
          "metadata": {
            "tags": []
          },
          "execution_count": 18
        },
        {
          "output_type": "display_data",
          "data": {
            "image/png": "[encoded data removed]",
            "text/plain": [
              "<Figure size 432x288 with 1 Axes>"
            ]
          },
          "metadata": {
            "tags": []
          }
        }
      ]
    },
    {
      "cell_type": "code",
      "metadata": {
        "id": "czvzVLEQ_Yh9",
        "colab_type": "code",
        "outputId": "2c9d8e92-b23b-45dc-8b0e-7f8548e23a45",
        "colab": {
          "base_uri": "https://localhost:8080/",
          "height": 419
        }
      },
      "source": [
        "importances_df = pd.DataFrame(sel.estimator_.feature_importances_, columns=['Feature_Importance'],\n",
        "                             index=x_train.columns)\n",
        "importances_df.sort_values(by=['Feature_Importance'], ascending=False, inplace=True)\n",
        "importances_df"
      ],
      "execution_count": 0,
      "outputs": [
        {
          "output_type": "execute_result",
          "data": {
            "text/html": [
              "<div>\n",
              "<style scoped>\n",
              "    .dataframe tbody tr th:only-of-type {\n",
              "        vertical-align: middle;\n",
              "    }\n",
              "\n",
              "    .dataframe tbody tr th {\n",
              "        vertical-align: top;\n",
              "    }\n",
              "\n",
              "    .dataframe thead th {\n",
              "        text-align: right;\n",
              "    }\n",
              "</style>\n",
              "<table border=\"1\" class=\"dataframe\">\n",
              "  <thead>\n",
              "    <tr style=\"text-align: right;\">\n",
              "      <th></th>\n",
              "      <th>Feature_Importance</th>\n",
              "    </tr>\n",
              "  </thead>\n",
              "  <tbody>\n",
              "    <tr>\n",
              "      <th>var_81</th>\n",
              "      <td>0.018157</td>\n",
              "    </tr>\n",
              "    <tr>\n",
              "      <th>var_139</th>\n",
              "      <td>0.014559</td>\n",
              "    </tr>\n",
              "    <tr>\n",
              "      <th>var_110</th>\n",
              "      <td>0.011545</td>\n",
              "    </tr>\n",
              "    <tr>\n",
              "      <th>var_53</th>\n",
              "      <td>0.011519</td>\n",
              "    </tr>\n",
              "    <tr>\n",
              "      <th>var_12</th>\n",
              "      <td>0.011395</td>\n",
              "    </tr>\n",
              "    <tr>\n",
              "      <th>...</th>\n",
              "      <td>...</td>\n",
              "    </tr>\n",
              "    <tr>\n",
              "      <th>var_60</th>\n",
              "      <td>0.003672</td>\n",
              "    </tr>\n",
              "    <tr>\n",
              "      <th>var_126</th>\n",
              "      <td>0.003668</td>\n",
              "    </tr>\n",
              "    <tr>\n",
              "      <th>var_7</th>\n",
              "      <td>0.003638</td>\n",
              "    </tr>\n",
              "    <tr>\n",
              "      <th>var_68</th>\n",
              "      <td>0.003614</td>\n",
              "    </tr>\n",
              "    <tr>\n",
              "      <th>var_176</th>\n",
              "      <td>0.003526</td>\n",
              "    </tr>\n",
              "  </tbody>\n",
              "</table>\n",
              "<p>200 rows × 1 columns</p>\n",
              "</div>"
            ],
            "text/plain": [
              "         Feature_Importance\n",
              "var_81             0.018157\n",
              "var_139            0.014559\n",
              "var_110            0.011545\n",
              "var_53             0.011519\n",
              "var_12             0.011395\n",
              "...                     ...\n",
              "var_60             0.003672\n",
              "var_126            0.003668\n",
              "var_7              0.003638\n",
              "var_68             0.003614\n",
              "var_176            0.003526\n",
              "\n",
              "[200 rows x 1 columns]"
            ]
          },
          "metadata": {
            "tags": []
          },
          "execution_count": 19
        }
      ]
    },
    {
      "cell_type": "code",
      "metadata": {
        "id": "ZFmIGDhfIqFO",
        "colab_type": "code",
        "outputId": "5cc9e1a6-553d-4fbc-8770-743fa2c8707d",
        "colab": {
          "base_uri": "https://localhost:8080/",
          "height": 224
        }
      },
      "source": [
        "#Selecting the important features\n",
        "features_x_new=f[selected_feat]\n",
        "features_x_new.head()"
      ],
      "execution_count": 0,
      "outputs": [
        {
          "output_type": "execute_result",
          "data": {
            "text/html": [
              "<div>\n",
              "<style scoped>\n",
              "    .dataframe tbody tr th:only-of-type {\n",
              "        vertical-align: middle;\n",
              "    }\n",
              "\n",
              "    .dataframe tbody tr th {\n",
              "        vertical-align: top;\n",
              "    }\n",
              "\n",
              "    .dataframe thead th {\n",
              "        text-align: right;\n",
              "    }\n",
              "</style>\n",
              "<table border=\"1\" class=\"dataframe\">\n",
              "  <thead>\n",
              "    <tr style=\"text-align: right;\">\n",
              "      <th></th>\n",
              "      <th>var_0</th>\n",
              "      <th>var_1</th>\n",
              "      <th>var_2</th>\n",
              "      <th>var_6</th>\n",
              "      <th>var_9</th>\n",
              "      <th>var_12</th>\n",
              "      <th>var_13</th>\n",
              "      <th>var_18</th>\n",
              "      <th>var_21</th>\n",
              "      <th>var_22</th>\n",
              "      <th>var_26</th>\n",
              "      <th>var_33</th>\n",
              "      <th>var_34</th>\n",
              "      <th>var_40</th>\n",
              "      <th>var_44</th>\n",
              "      <th>var_53</th>\n",
              "      <th>var_67</th>\n",
              "      <th>var_76</th>\n",
              "      <th>var_78</th>\n",
              "      <th>var_80</th>\n",
              "      <th>var_81</th>\n",
              "      <th>var_91</th>\n",
              "      <th>var_92</th>\n",
              "      <th>var_94</th>\n",
              "      <th>var_95</th>\n",
              "      <th>var_99</th>\n",
              "      <th>var_108</th>\n",
              "      <th>var_109</th>\n",
              "      <th>var_110</th>\n",
              "      <th>var_115</th>\n",
              "      <th>var_121</th>\n",
              "      <th>var_122</th>\n",
              "      <th>var_123</th>\n",
              "      <th>var_127</th>\n",
              "      <th>var_133</th>\n",
              "      <th>var_139</th>\n",
              "      <th>var_146</th>\n",
              "      <th>var_148</th>\n",
              "      <th>var_149</th>\n",
              "      <th>var_154</th>\n",
              "      <th>var_164</th>\n",
              "      <th>var_165</th>\n",
              "      <th>var_166</th>\n",
              "      <th>var_169</th>\n",
              "      <th>var_170</th>\n",
              "      <th>var_172</th>\n",
              "      <th>var_173</th>\n",
              "      <th>var_174</th>\n",
              "      <th>var_177</th>\n",
              "      <th>var_179</th>\n",
              "      <th>var_184</th>\n",
              "      <th>var_190</th>\n",
              "      <th>var_191</th>\n",
              "      <th>var_192</th>\n",
              "      <th>var_198</th>\n",
              "    </tr>\n",
              "  </thead>\n",
              "  <tbody>\n",
              "    <tr>\n",
              "      <th>32759</th>\n",
              "      <td>-0.255462</td>\n",
              "      <td>-1.092331</td>\n",
              "      <td>0.540238</td>\n",
              "      <td>2.230948</td>\n",
              "      <td>-0.449884</td>\n",
              "      <td>0.770931</td>\n",
              "      <td>-0.209296</td>\n",
              "      <td>1.746411</td>\n",
              "      <td>1.162675</td>\n",
              "      <td>-1.015127</td>\n",
              "      <td>-1.895255</td>\n",
              "      <td>-1.064325</td>\n",
              "      <td>-1.182486</td>\n",
              "      <td>0.323086</td>\n",
              "      <td>-0.448782</td>\n",
              "      <td>1.208931</td>\n",
              "      <td>-0.563132</td>\n",
              "      <td>0.139882</td>\n",
              "      <td>0.685540</td>\n",
              "      <td>0.868643</td>\n",
              "      <td>0.829887</td>\n",
              "      <td>-0.386801</td>\n",
              "      <td>-0.453050</td>\n",
              "      <td>0.841785</td>\n",
              "      <td>1.666245</td>\n",
              "      <td>0.462430</td>\n",
              "      <td>-1.174437</td>\n",
              "      <td>-0.331181</td>\n",
              "      <td>-0.062313</td>\n",
              "      <td>-0.523569</td>\n",
              "      <td>0.988216</td>\n",
              "      <td>-1.125321</td>\n",
              "      <td>0.636788</td>\n",
              "      <td>0.241163</td>\n",
              "      <td>0.797198</td>\n",
              "      <td>0.114280</td>\n",
              "      <td>1.176128</td>\n",
              "      <td>-1.095052</td>\n",
              "      <td>0.049221</td>\n",
              "      <td>0.782871</td>\n",
              "      <td>-1.037382</td>\n",
              "      <td>-1.081523</td>\n",
              "      <td>0.179789</td>\n",
              "      <td>1.555051</td>\n",
              "      <td>0.543813</td>\n",
              "      <td>1.728066</td>\n",
              "      <td>1.115711</td>\n",
              "      <td>-0.392491</td>\n",
              "      <td>-1.010516</td>\n",
              "      <td>-0.085619</td>\n",
              "      <td>-0.578979</td>\n",
              "      <td>1.252450</td>\n",
              "      <td>-0.968757</td>\n",
              "      <td>1.217491</td>\n",
              "      <td>0.469017</td>\n",
              "    </tr>\n",
              "    <tr>\n",
              "      <th>28335</th>\n",
              "      <td>0.205223</td>\n",
              "      <td>0.702691</td>\n",
              "      <td>1.059306</td>\n",
              "      <td>2.029703</td>\n",
              "      <td>-1.007262</td>\n",
              "      <td>2.083157</td>\n",
              "      <td>1.405180</td>\n",
              "      <td>0.632603</td>\n",
              "      <td>0.608905</td>\n",
              "      <td>0.549683</td>\n",
              "      <td>0.087254</td>\n",
              "      <td>-1.485766</td>\n",
              "      <td>0.184357</td>\n",
              "      <td>1.723046</td>\n",
              "      <td>-1.251011</td>\n",
              "      <td>1.305564</td>\n",
              "      <td>0.848825</td>\n",
              "      <td>0.776464</td>\n",
              "      <td>-0.881277</td>\n",
              "      <td>-1.102683</td>\n",
              "      <td>-0.875134</td>\n",
              "      <td>-0.993456</td>\n",
              "      <td>-0.604642</td>\n",
              "      <td>0.718162</td>\n",
              "      <td>-0.000412</td>\n",
              "      <td>-0.929913</td>\n",
              "      <td>-0.474809</td>\n",
              "      <td>0.928859</td>\n",
              "      <td>-0.810290</td>\n",
              "      <td>-1.082031</td>\n",
              "      <td>-0.519706</td>\n",
              "      <td>0.372396</td>\n",
              "      <td>0.344173</td>\n",
              "      <td>0.785643</td>\n",
              "      <td>-0.509503</td>\n",
              "      <td>-1.657794</td>\n",
              "      <td>0.987909</td>\n",
              "      <td>1.160058</td>\n",
              "      <td>-2.440113</td>\n",
              "      <td>0.004080</td>\n",
              "      <td>0.450002</td>\n",
              "      <td>0.507237</td>\n",
              "      <td>-1.665303</td>\n",
              "      <td>0.103108</td>\n",
              "      <td>0.628521</td>\n",
              "      <td>-0.709314</td>\n",
              "      <td>-0.489090</td>\n",
              "      <td>-0.224592</td>\n",
              "      <td>-1.064265</td>\n",
              "      <td>-1.030974</td>\n",
              "      <td>0.240691</td>\n",
              "      <td>-1.222664</td>\n",
              "      <td>0.853677</td>\n",
              "      <td>-1.396179</td>\n",
              "      <td>1.166905</td>\n",
              "    </tr>\n",
              "    <tr>\n",
              "      <th>137970</th>\n",
              "      <td>-1.175416</td>\n",
              "      <td>1.104317</td>\n",
              "      <td>-0.983681</td>\n",
              "      <td>2.769141</td>\n",
              "      <td>-0.688008</td>\n",
              "      <td>-0.549713</td>\n",
              "      <td>-0.133210</td>\n",
              "      <td>1.173860</td>\n",
              "      <td>1.223860</td>\n",
              "      <td>-0.572598</td>\n",
              "      <td>0.052739</td>\n",
              "      <td>-0.617041</td>\n",
              "      <td>0.744536</td>\n",
              "      <td>-2.635109</td>\n",
              "      <td>0.343925</td>\n",
              "      <td>1.029657</td>\n",
              "      <td>-1.041334</td>\n",
              "      <td>1.185719</td>\n",
              "      <td>-0.857905</td>\n",
              "      <td>1.228130</td>\n",
              "      <td>-1.190194</td>\n",
              "      <td>-1.752103</td>\n",
              "      <td>-0.603496</td>\n",
              "      <td>-0.006308</td>\n",
              "      <td>-0.812810</td>\n",
              "      <td>-1.266817</td>\n",
              "      <td>1.217276</td>\n",
              "      <td>0.940730</td>\n",
              "      <td>2.159674</td>\n",
              "      <td>0.425724</td>\n",
              "      <td>-0.336903</td>\n",
              "      <td>-0.102097</td>\n",
              "      <td>0.612143</td>\n",
              "      <td>-0.296368</td>\n",
              "      <td>1.119081</td>\n",
              "      <td>0.400500</td>\n",
              "      <td>0.511983</td>\n",
              "      <td>0.320667</td>\n",
              "      <td>0.599191</td>\n",
              "      <td>1.165807</td>\n",
              "      <td>-1.443464</td>\n",
              "      <td>-0.671962</td>\n",
              "      <td>-0.404495</td>\n",
              "      <td>1.257299</td>\n",
              "      <td>-0.863610</td>\n",
              "      <td>0.052674</td>\n",
              "      <td>0.155894</td>\n",
              "      <td>0.251741</td>\n",
              "      <td>-1.959282</td>\n",
              "      <td>-0.305702</td>\n",
              "      <td>0.091146</td>\n",
              "      <td>-1.588943</td>\n",
              "      <td>0.819310</td>\n",
              "      <td>-0.221817</td>\n",
              "      <td>-2.044552</td>\n",
              "    </tr>\n",
              "    <tr>\n",
              "      <th>40100</th>\n",
              "      <td>-0.150956</td>\n",
              "      <td>-1.302033</td>\n",
              "      <td>0.196604</td>\n",
              "      <td>-1.274801</td>\n",
              "      <td>0.221092</td>\n",
              "      <td>-0.061443</td>\n",
              "      <td>-1.570599</td>\n",
              "      <td>0.152456</td>\n",
              "      <td>1.669377</td>\n",
              "      <td>-0.475335</td>\n",
              "      <td>0.754287</td>\n",
              "      <td>-0.819664</td>\n",
              "      <td>-1.407924</td>\n",
              "      <td>-0.094670</td>\n",
              "      <td>1.053541</td>\n",
              "      <td>2.315435</td>\n",
              "      <td>-0.056445</td>\n",
              "      <td>0.413327</td>\n",
              "      <td>0.409482</td>\n",
              "      <td>0.000949</td>\n",
              "      <td>2.502032</td>\n",
              "      <td>-0.362561</td>\n",
              "      <td>0.729156</td>\n",
              "      <td>-1.814774</td>\n",
              "      <td>0.129675</td>\n",
              "      <td>-0.796010</td>\n",
              "      <td>0.141239</td>\n",
              "      <td>0.271663</td>\n",
              "      <td>-1.654155</td>\n",
              "      <td>-0.125452</td>\n",
              "      <td>0.353771</td>\n",
              "      <td>-0.398761</td>\n",
              "      <td>-0.872924</td>\n",
              "      <td>-0.501074</td>\n",
              "      <td>-0.754176</td>\n",
              "      <td>-0.075327</td>\n",
              "      <td>-0.358206</td>\n",
              "      <td>0.544070</td>\n",
              "      <td>1.608107</td>\n",
              "      <td>0.897430</td>\n",
              "      <td>1.020216</td>\n",
              "      <td>0.604030</td>\n",
              "      <td>0.813844</td>\n",
              "      <td>0.556231</td>\n",
              "      <td>1.364270</td>\n",
              "      <td>-0.824622</td>\n",
              "      <td>-0.366894</td>\n",
              "      <td>1.237825</td>\n",
              "      <td>-1.267621</td>\n",
              "      <td>0.344685</td>\n",
              "      <td>-1.672821</td>\n",
              "      <td>-0.362055</td>\n",
              "      <td>-0.344928</td>\n",
              "      <td>-0.260710</td>\n",
              "      <td>0.116934</td>\n",
              "    </tr>\n",
              "    <tr>\n",
              "      <th>161919</th>\n",
              "      <td>-0.911867</td>\n",
              "      <td>-0.284610</td>\n",
              "      <td>-1.464542</td>\n",
              "      <td>-0.477898</td>\n",
              "      <td>-1.092521</td>\n",
              "      <td>0.313704</td>\n",
              "      <td>-1.068953</td>\n",
              "      <td>-0.630619</td>\n",
              "      <td>0.126995</td>\n",
              "      <td>-1.592208</td>\n",
              "      <td>-0.178695</td>\n",
              "      <td>1.228081</td>\n",
              "      <td>0.540885</td>\n",
              "      <td>0.640531</td>\n",
              "      <td>1.259823</td>\n",
              "      <td>0.163885</td>\n",
              "      <td>-0.281615</td>\n",
              "      <td>0.996208</td>\n",
              "      <td>0.035270</td>\n",
              "      <td>-0.172205</td>\n",
              "      <td>1.479011</td>\n",
              "      <td>1.675564</td>\n",
              "      <td>-0.699047</td>\n",
              "      <td>1.335880</td>\n",
              "      <td>0.089586</td>\n",
              "      <td>-0.562458</td>\n",
              "      <td>1.327159</td>\n",
              "      <td>-0.638734</td>\n",
              "      <td>0.889653</td>\n",
              "      <td>-0.323519</td>\n",
              "      <td>-0.082005</td>\n",
              "      <td>-1.171195</td>\n",
              "      <td>0.102686</td>\n",
              "      <td>-0.541805</td>\n",
              "      <td>1.413541</td>\n",
              "      <td>-1.513136</td>\n",
              "      <td>0.082585</td>\n",
              "      <td>0.370368</td>\n",
              "      <td>0.203702</td>\n",
              "      <td>1.109878</td>\n",
              "      <td>-1.135481</td>\n",
              "      <td>-2.029341</td>\n",
              "      <td>-1.017992</td>\n",
              "      <td>-0.575224</td>\n",
              "      <td>-1.506243</td>\n",
              "      <td>1.722325</td>\n",
              "      <td>-2.178176</td>\n",
              "      <td>1.007373</td>\n",
              "      <td>1.477951</td>\n",
              "      <td>-0.596990</td>\n",
              "      <td>-0.064902</td>\n",
              "      <td>-0.836122</td>\n",
              "      <td>0.012004</td>\n",
              "      <td>-0.278026</td>\n",
              "      <td>2.048790</td>\n",
              "    </tr>\n",
              "  </tbody>\n",
              "</table>\n",
              "</div>"
            ],
            "text/plain": [
              "           var_0     var_1     var_2  ...   var_191   var_192   var_198\n",
              "32759  -0.255462 -1.092331  0.540238  ... -0.968757  1.217491  0.469017\n",
              "28335   0.205223  0.702691  1.059306  ...  0.853677 -1.396179  1.166905\n",
              "137970 -1.175416  1.104317 -0.983681  ...  0.819310 -0.221817 -2.044552\n",
              "40100  -0.150956 -1.302033  0.196604  ... -0.344928 -0.260710  0.116934\n",
              "161919 -0.911867 -0.284610 -1.464542  ...  0.012004 -0.278026  2.048790\n",
              "\n",
              "[5 rows x 55 columns]"
            ]
          },
          "metadata": {
            "tags": []
          },
          "execution_count": 20
        }
      ]
    },
    {
      "cell_type": "code",
      "metadata": {
        "id": "2WqyT435QVwG",
        "colab_type": "code",
        "outputId": "4ce5cf2d-452c-44ad-c3be-ebfa941b534d",
        "colab": {
          "base_uri": "https://localhost:8080/",
          "height": 34
        }
      },
      "source": [
        "features_x_new.shape"
      ],
      "execution_count": 0,
      "outputs": [
        {
          "output_type": "execute_result",
          "data": {
            "text/plain": [
              "(252032, 55)"
            ]
          },
          "metadata": {
            "tags": []
          },
          "execution_count": 21
        }
      ]
    },
    {
      "cell_type": "code",
      "metadata": {
        "id": "de03jX3qQcrx",
        "colab_type": "code",
        "colab": {}
      },
      "source": [
        "#Split the data again after selecting the features\n",
        "x_NewTrain, x_NewTest, y_NewTrain, y_NewTest = train_test_split(features_x_new, t,  test_size = .3, random_state = 0 )"
      ],
      "execution_count": 0,
      "outputs": []
    },
    {
      "cell_type": "code",
      "metadata": {
        "id": "-YAAzNh7fF-g",
        "colab_type": "code",
        "outputId": "5da73746-d10e-4659-c776-35dbf05f1081",
        "colab": {
          "base_uri": "https://localhost:8080/",
          "height": 34
        }
      },
      "source": [
        "x_NewTrain.shape , y_NewTrain.shape"
      ],
      "execution_count": 0,
      "outputs": [
        {
          "output_type": "execute_result",
          "data": {
            "text/plain": [
              "((176422, 55), (176422,))"
            ]
          },
          "metadata": {
            "tags": []
          },
          "execution_count": 23
        }
      ]
    },
    {
      "cell_type": "markdown",
      "metadata": {
        "id": "EhOGCifpToKS",
        "colab_type": "text"
      },
      "source": [
        "##Using Scikit-learn to do the predictions\n",
        "**First Support Vector Machine (SVM)**"
      ]
    },
    {
      "cell_type": "code",
      "metadata": {
        "id": "LOOicLhZXfVb",
        "colab_type": "code",
        "colab": {}
      },
      "source": [
        "acc = []; pre = [] ; rec = [] ; f = [] ; ro = []"
      ],
      "execution_count": 0,
      "outputs": []
    },
    {
      "cell_type": "code",
      "metadata": {
        "id": "OSTcF-n-qSfE",
        "colab_type": "code",
        "outputId": "b37d1e84-148a-4292-b71d-ada0f9cd29cc",
        "colab": {
          "base_uri": "https://localhost:8080/",
          "height": 139
        }
      },
      "source": [
        "#1) with linear kernel\n",
        "clf1_1 = svm.LinearSVC()\n",
        "clf1_1.fit(x_NewTrain, y_NewTrain)"
      ],
      "execution_count": 0,
      "outputs": [
        {
          "output_type": "stream",
          "text": [
            "/usr/local/lib/python3.6/dist-packages/sklearn/svm/base.py:929: ConvergenceWarning: Liblinear failed to converge, increase the number of iterations.\n",
            "  \"the number of iterations.\", ConvergenceWarning)\n"
          ],
          "name": "stderr"
        },
        {
          "output_type": "execute_result",
          "data": {
            "text/plain": [
              "LinearSVC(C=1.0, class_weight=None, dual=True, fit_intercept=True,\n",
              "          intercept_scaling=1, loss='squared_hinge', max_iter=1000,\n",
              "          multi_class='ovr', penalty='l2', random_state=None, tol=0.0001,\n",
              "          verbose=0)"
            ]
          },
          "metadata": {
            "tags": []
          },
          "execution_count": 35
        }
      ]
    },
    {
      "cell_type": "code",
      "metadata": {
        "id": "p9UdZXKPdtOE",
        "colab_type": "code",
        "outputId": "0c14ed24-d85f-4c5f-fcb3-72c1dd2a330f",
        "colab": {
          "base_uri": "https://localhost:8080/",
          "height": 119
        }
      },
      "source": [
        "y_pred1_1 = clf1_1.predict(x_NewTest)\n",
        "#evaluaion \n",
        "Accuracy1_1 = metrics.accuracy_score(y_NewTest, y_pred1_1)\n",
        "Precision1_1 = metrics.precision_score(y_NewTest , y_pred1_1)\n",
        "Recall1_1 = metrics.recall_score(y_NewTest , y_pred1_1)\n",
        "F1_Score1_1 = metrics.f1_score(y_NewTest , y_pred1_1)\n",
        "Roc_1 = metrics.roc_auc_score(y_NewTest, y_pred1_1)\n",
        "\n",
        "print(\" Support Vectore Machine with linear kernel\")\n",
        "print (\"Accuracy = \" ,  Accuracy1_1 )\n",
        "print (\"Precision = \" , Precision1_1)\n",
        "print (\"Recall = \" , Recall1_1 )\n",
        "print (\"F1_Score = \" , F1_Score1_1)\n",
        "print (\"ROC_Curve = \" , Roc_1)\n",
        "\n",
        "ro.append(Roc_1)\n",
        "acc.append(Accuracy1_1)\n",
        "pre.append(Precision1_1) \n",
        "rec.append(Recall1_1)\n",
        "f.append(F1_Score1_1)"
      ],
      "execution_count": 0,
      "outputs": [
        {
          "output_type": "stream",
          "text": [
            " Support Vectore Machine with linear kernel\n",
            "Accuracy =  0.7340695675175242\n",
            "Precision =  0.7357550237194179\n",
            "Recall =  0.7303632371226753\n",
            "F1_Score =  0.7330492160220922\n",
            "ROC_Curve =  0.7340689793822628\n"
          ],
          "name": "stdout"
        }
      ]
    },
    {
      "cell_type": "code",
      "metadata": {
        "id": "ln9Il1p10nWH",
        "colab_type": "code",
        "outputId": "1dc8de5a-70ae-48cc-bca3-acde95336f4f",
        "colab": {
          "base_uri": "https://localhost:8080/",
          "height": 816
        }
      },
      "source": [
        "#2) with poly kernel \n",
        "params1_2 = [ {'C': [0.01, 0.1], 'kernel': ['poly'],\n",
        "                'degree': [1, 2],\n",
        "                'gamma': [0.1, 0.2]}]\n",
        "clf1_2 = GridSearchCV(estimator = svm.SVC(),\n",
        "                         param_grid = params1_2,\n",
        "                         scoring = 'neg_mean_squared_error',verbose=2,cv=2)\n",
        "                         \n",
        "clf1_2.fit(x_NewTrain, y_NewTrain)\n"
      ],
      "execution_count": 0,
      "outputs": [
        {
          "output_type": "stream",
          "text": [
            "Fitting 2 folds for each of 8 candidates, totalling 16 fits\n",
            "[CV] C=0.01, degree=1, gamma=0.1, kernel=poly ........................\n"
          ],
          "name": "stdout"
        },
        {
          "output_type": "stream",
          "text": [
            "[Parallel(n_jobs=1)]: Using backend SequentialBackend with 1 concurrent workers.\n"
          ],
          "name": "stderr"
        },
        {
          "output_type": "stream",
          "text": [
            "[CV] ......... C=0.01, degree=1, gamma=0.1, kernel=poly, total=16.5min\n",
            "[CV] C=0.01, degree=1, gamma=0.1, kernel=poly ........................\n"
          ],
          "name": "stdout"
        },
        {
          "output_type": "stream",
          "text": [
            "[Parallel(n_jobs=1)]: Done   1 out of   1 | elapsed: 16.5min remaining:    0.0s\n"
          ],
          "name": "stderr"
        },
        {
          "output_type": "stream",
          "text": [
            "[CV] ......... C=0.01, degree=1, gamma=0.1, kernel=poly, total=15.7min\n",
            "[CV] C=0.01, degree=1, gamma=0.2, kernel=poly ........................\n",
            "[CV] ......... C=0.01, degree=1, gamma=0.2, kernel=poly, total=15.3min\n",
            "[CV] C=0.01, degree=1, gamma=0.2, kernel=poly ........................\n",
            "[CV] ......... C=0.01, degree=1, gamma=0.2, kernel=poly, total=15.4min\n",
            "[CV] C=0.01, degree=2, gamma=0.1, kernel=poly ........................\n",
            "[CV] ......... C=0.01, degree=2, gamma=0.1, kernel=poly, total=21.9min\n",
            "[CV] C=0.01, degree=2, gamma=0.1, kernel=poly ........................\n",
            "[CV] ......... C=0.01, degree=2, gamma=0.1, kernel=poly, total=20.3min\n",
            "[CV] C=0.01, degree=2, gamma=0.2, kernel=poly ........................\n",
            "[CV] ......... C=0.01, degree=2, gamma=0.2, kernel=poly, total=27.5min\n",
            "[CV] C=0.01, degree=2, gamma=0.2, kernel=poly ........................\n",
            "[CV] ......... C=0.01, degree=2, gamma=0.2, kernel=poly, total=24.3min\n",
            "[CV] C=0.1, degree=1, gamma=0.1, kernel=poly .........................\n",
            "[CV] .......... C=0.1, degree=1, gamma=0.1, kernel=poly, total=16.6min\n",
            "[CV] C=0.1, degree=1, gamma=0.1, kernel=poly .........................\n",
            "[CV] .......... C=0.1, degree=1, gamma=0.1, kernel=poly, total=17.0min\n",
            "[CV] C=0.1, degree=1, gamma=0.2, kernel=poly .........................\n",
            "[CV] .......... C=0.1, degree=1, gamma=0.2, kernel=poly, total=17.9min\n",
            "[CV] C=0.1, degree=1, gamma=0.2, kernel=poly .........................\n",
            "[CV] .......... C=0.1, degree=1, gamma=0.2, kernel=poly, total=18.0min\n",
            "[CV] C=0.1, degree=2, gamma=0.1, kernel=poly .........................\n",
            "[CV] .......... C=0.1, degree=2, gamma=0.1, kernel=poly, total=43.9min\n",
            "[CV] C=0.1, degree=2, gamma=0.1, kernel=poly .........................\n",
            "[CV] .......... C=0.1, degree=2, gamma=0.1, kernel=poly, total=45.4min\n",
            "[CV] C=0.1, degree=2, gamma=0.2, kernel=poly .........................\n",
            "[CV] ......... C=0.1, degree=2, gamma=0.2, kernel=poly, total=103.2min\n",
            "[CV] C=0.1, degree=2, gamma=0.2, kernel=poly .........................\n",
            "[CV] .......... C=0.1, degree=2, gamma=0.2, kernel=poly, total=98.0min\n"
          ],
          "name": "stdout"
        },
        {
          "output_type": "stream",
          "text": [
            "[Parallel(n_jobs=1)]: Done  16 out of  16 | elapsed: 516.7min finished\n"
          ],
          "name": "stderr"
        },
        {
          "output_type": "execute_result",
          "data": {
            "text/plain": [
              "GridSearchCV(cv=2, error_score='raise-deprecating',\n",
              "             estimator=SVC(C=1.0, cache_size=200, class_weight=None, coef0=0.0,\n",
              "                           decision_function_shape='ovr', degree=3,\n",
              "                           gamma='auto_deprecated', kernel='rbf', max_iter=-1,\n",
              "                           probability=False, random_state=None, shrinking=True,\n",
              "                           tol=0.001, verbose=False),\n",
              "             iid='warn', n_jobs=None,\n",
              "             param_grid=[{'C': [0.01, 0.1], 'degree': [1, 2],\n",
              "                          'gamma': [0.1, 0.2], 'kernel': ['poly']}],\n",
              "             pre_dispatch='2*n_jobs', refit=True, return_train_score=False,\n",
              "             scoring='neg_mean_squared_error', verbose=2)"
            ]
          },
          "metadata": {
            "tags": []
          },
          "execution_count": 35
        }
      ]
    },
    {
      "cell_type": "code",
      "metadata": {
        "id": "MktkiUzxAsOg",
        "colab_type": "code",
        "outputId": "c5195dce-4cfa-4b9b-9499-0078a0b71196",
        "colab": {
          "base_uri": "https://localhost:8080/",
          "height": 496
        }
      },
      "source": [
        "y_pred1_2 = clf1_2.predict(x_NewTest)\n",
        "best_params1_2 = clf1_2.best_params_ \n",
        "print(\"By GridSearch, the best parameters are: \") \n",
        "print(best_params1_2)\n",
        "#evaluaion \n",
        "Accuracy1_2 = metrics.accuracy_score(y_NewTest, y_pred1_2)\n",
        "Precision1_2 = metrics.precision_score(y_NewTest , y_pred1_2)\n",
        "Recall1_2 = metrics.recall_score(y_NewTest , y_pred1_2)\n",
        "F1_Score1_2 = metrics.f1_score(y_NewTest , y_pred1_2)\n",
        "Roc_2 = metrics.roc_auc_score(y_NewTest, y_pred1_2)\n",
        "\n",
        "\n",
        "print(\" Support Vectore Machine with poly kernel \")\n",
        "print (\"Accuracy = \" ,  Accuracy1_2 )\n",
        "print (\"Precision = \" , Precision1_2)\n",
        "print (\"Recall = \" , Recall1_2 )\n",
        "print (\"F1_Score = \" , F1_Score1_2)\n",
        "print (\"ROC_Curve = \" , Roc_2)\n",
        "ro.append(Roc_2)\n",
        "acc.append(Accuracy1_2)\n",
        "pre.append(Precision1_2) \n",
        "rec.append(Recall1_2)\n",
        "f.append(F1_Score1_2)"
      ],
      "execution_count": 0,
      "outputs": [
        {
          "output_type": "stream",
          "text": [
            "By GridSearch, the best parameters are: \n",
            "{'C': 0.01, 'degree': 1, 'gamma': 0.1, 'kernel': 'poly'}\n",
            " Support Vectore Machine with poly kernel \n",
            "Accuracy =  0.7336727946038883\n",
            "Precision =  0.7389210540555164\n",
            "Recall =  0.722558797851795\n",
            "F1_Score =  0.7306483326868286\n",
            "ROC_Curve =  0.7336710309906407\n"
          ],
          "name": "stdout"
        },
        {
          "output_type": "error",
          "ename": "TypeError",
          "evalue": "ignored",
          "traceback": [
            "\u001b[0;31m---------------------------------------------------------------------------\u001b[0m",
            "\u001b[0;31mTypeError\u001b[0m                                 Traceback (most recent call last)",
            "\u001b[0;32m<ipython-input-36-73a2e7fd8301>\u001b[0m in \u001b[0;36m<module>\u001b[0;34m()\u001b[0m\n\u001b[1;32m     21\u001b[0m \u001b[0mpre\u001b[0m\u001b[0;34m.\u001b[0m\u001b[0mappend\u001b[0m\u001b[0;34m(\u001b[0m\u001b[0mPrecision1_2\u001b[0m\u001b[0;34m)\u001b[0m\u001b[0;34m\u001b[0m\u001b[0;34m\u001b[0m\u001b[0m\n\u001b[1;32m     22\u001b[0m \u001b[0mrec\u001b[0m\u001b[0;34m.\u001b[0m\u001b[0mappend\u001b[0m\u001b[0;34m(\u001b[0m\u001b[0mRecall1_2\u001b[0m\u001b[0;34m)\u001b[0m\u001b[0;34m\u001b[0m\u001b[0;34m\u001b[0m\u001b[0m\n\u001b[0;32m---> 23\u001b[0;31m \u001b[0mf\u001b[0m\u001b[0;34m.\u001b[0m\u001b[0mappend\u001b[0m\u001b[0;34m(\u001b[0m\u001b[0mF1_Score1_2\u001b[0m\u001b[0;34m)\u001b[0m\u001b[0;34m\u001b[0m\u001b[0;34m\u001b[0m\u001b[0m\n\u001b[0m",
            "\u001b[0;32m/usr/local/lib/python3.6/dist-packages/pandas/core/frame.py\u001b[0m in \u001b[0;36mappend\u001b[0;34m(self, other, ignore_index, verify_integrity, sort)\u001b[0m\n\u001b[1;32m   7136\u001b[0m             \u001b[0mignore_index\u001b[0m\u001b[0;34m=\u001b[0m\u001b[0mignore_index\u001b[0m\u001b[0;34m,\u001b[0m\u001b[0;34m\u001b[0m\u001b[0;34m\u001b[0m\u001b[0m\n\u001b[1;32m   7137\u001b[0m             \u001b[0mverify_integrity\u001b[0m\u001b[0;34m=\u001b[0m\u001b[0mverify_integrity\u001b[0m\u001b[0;34m,\u001b[0m\u001b[0;34m\u001b[0m\u001b[0;34m\u001b[0m\u001b[0m\n\u001b[0;32m-> 7138\u001b[0;31m             \u001b[0msort\u001b[0m\u001b[0;34m=\u001b[0m\u001b[0msort\u001b[0m\u001b[0;34m,\u001b[0m\u001b[0;34m\u001b[0m\u001b[0;34m\u001b[0m\u001b[0m\n\u001b[0m\u001b[1;32m   7139\u001b[0m         )\n\u001b[1;32m   7140\u001b[0m \u001b[0;34m\u001b[0m\u001b[0m\n",
            "\u001b[0;32m/usr/local/lib/python3.6/dist-packages/pandas/core/reshape/concat.py\u001b[0m in \u001b[0;36mconcat\u001b[0;34m(objs, axis, join, join_axes, ignore_index, keys, levels, names, verify_integrity, sort, copy)\u001b[0m\n\u001b[1;32m    253\u001b[0m         \u001b[0mverify_integrity\u001b[0m\u001b[0;34m=\u001b[0m\u001b[0mverify_integrity\u001b[0m\u001b[0;34m,\u001b[0m\u001b[0;34m\u001b[0m\u001b[0;34m\u001b[0m\u001b[0m\n\u001b[1;32m    254\u001b[0m         \u001b[0mcopy\u001b[0m\u001b[0;34m=\u001b[0m\u001b[0mcopy\u001b[0m\u001b[0;34m,\u001b[0m\u001b[0;34m\u001b[0m\u001b[0;34m\u001b[0m\u001b[0m\n\u001b[0;32m--> 255\u001b[0;31m         \u001b[0msort\u001b[0m\u001b[0;34m=\u001b[0m\u001b[0msort\u001b[0m\u001b[0;34m,\u001b[0m\u001b[0;34m\u001b[0m\u001b[0;34m\u001b[0m\u001b[0m\n\u001b[0m\u001b[1;32m    256\u001b[0m     )\n\u001b[1;32m    257\u001b[0m \u001b[0;34m\u001b[0m\u001b[0m\n",
            "\u001b[0;32m/usr/local/lib/python3.6/dist-packages/pandas/core/reshape/concat.py\u001b[0m in \u001b[0;36m__init__\u001b[0;34m(self, objs, axis, join, join_axes, keys, levels, names, ignore_index, verify_integrity, copy, sort)\u001b[0m\n\u001b[1;32m    330\u001b[0m                     \u001b[0;34m\" only Series and DataFrame objs are valid\"\u001b[0m\u001b[0;34m.\u001b[0m\u001b[0mformat\u001b[0m\u001b[0;34m(\u001b[0m\u001b[0mtype\u001b[0m\u001b[0;34m(\u001b[0m\u001b[0mobj\u001b[0m\u001b[0;34m)\u001b[0m\u001b[0;34m)\u001b[0m\u001b[0;34m\u001b[0m\u001b[0;34m\u001b[0m\u001b[0m\n\u001b[1;32m    331\u001b[0m                 )\n\u001b[0;32m--> 332\u001b[0;31m                 \u001b[0;32mraise\u001b[0m \u001b[0mTypeError\u001b[0m\u001b[0;34m(\u001b[0m\u001b[0mmsg\u001b[0m\u001b[0;34m)\u001b[0m\u001b[0;34m\u001b[0m\u001b[0;34m\u001b[0m\u001b[0m\n\u001b[0m\u001b[1;32m    333\u001b[0m \u001b[0;34m\u001b[0m\u001b[0m\n\u001b[1;32m    334\u001b[0m             \u001b[0;31m# consolidate\u001b[0m\u001b[0;34m\u001b[0m\u001b[0;34m\u001b[0m\u001b[0;34m\u001b[0m\u001b[0m\n",
            "\u001b[0;31mTypeError\u001b[0m: cannot concatenate object of type '<class 'numpy.float64'>'; only Series and DataFrame objs are valid"
          ]
        }
      ]
    },
    {
      "cell_type": "code",
      "metadata": {
        "id": "wWdfVfqP6seB",
        "colab_type": "code",
        "outputId": "0dac1c18-d131-4edb-f356-29f3ed66ae0f",
        "colab": {
          "base_uri": "https://localhost:8080/",
          "height": 544
        }
      },
      "source": [
        "#3) with Radial basis function (RBF) kernel\n",
        "\n",
        "params1_3 = [ {'C': [0.01, 0.1], 'kernel': ['rbf'],\n",
        "              'gamma': [0.1, 0.2]}]\n",
        "clf1_3 = GridSearchCV(estimator = svm.SVC(),\n",
        "                         param_grid = params1_3,\n",
        "                         scoring = 'neg_mean_squared_error',verbose=2,cv=2)\n",
        "                        \n",
        "clf1_3.fit(x_NewTrain, y_NewTrain)\n"
      ],
      "execution_count": 0,
      "outputs": [
        {
          "output_type": "stream",
          "text": [
            "Fitting 2 folds for each of 4 candidates, totalling 8 fits\n",
            "[CV] C=0.01, gamma=0.1, kernel=rbf ...................................\n"
          ],
          "name": "stdout"
        },
        {
          "output_type": "stream",
          "text": [
            "[Parallel(n_jobs=1)]: Using backend SequentialBackend with 1 concurrent workers.\n"
          ],
          "name": "stderr"
        },
        {
          "output_type": "stream",
          "text": [
            "[CV] .................... C=0.01, gamma=0.1, kernel=rbf, total=28.1min\n",
            "[CV] C=0.01, gamma=0.1, kernel=rbf ...................................\n"
          ],
          "name": "stdout"
        },
        {
          "output_type": "stream",
          "text": [
            "[Parallel(n_jobs=1)]: Done   1 out of   1 | elapsed: 28.1min remaining:    0.0s\n"
          ],
          "name": "stderr"
        },
        {
          "output_type": "stream",
          "text": [
            "[CV] .................... C=0.01, gamma=0.1, kernel=rbf, total=29.2min\n",
            "[CV] C=0.01, gamma=0.2, kernel=rbf ...................................\n",
            "[CV] .................... C=0.01, gamma=0.2, kernel=rbf, total=32.0min\n",
            "[CV] C=0.01, gamma=0.2, kernel=rbf ...................................\n",
            "[CV] .................... C=0.01, gamma=0.2, kernel=rbf, total=31.8min\n",
            "[CV] C=0.1, gamma=0.1, kernel=rbf ....................................\n",
            "[CV] ..................... C=0.1, gamma=0.1, kernel=rbf, total=28.9min\n",
            "[CV] C=0.1, gamma=0.1, kernel=rbf ....................................\n",
            "[CV] ..................... C=0.1, gamma=0.1, kernel=rbf, total=28.9min\n",
            "[CV] C=0.1, gamma=0.2, kernel=rbf ....................................\n",
            "[CV] ..................... C=0.1, gamma=0.2, kernel=rbf, total=31.7min\n",
            "[CV] C=0.1, gamma=0.2, kernel=rbf ....................................\n",
            "[CV] ..................... C=0.1, gamma=0.2, kernel=rbf, total=31.7min\n"
          ],
          "name": "stdout"
        },
        {
          "output_type": "stream",
          "text": [
            "[Parallel(n_jobs=1)]: Done   8 out of   8 | elapsed: 242.3min finished\n"
          ],
          "name": "stderr"
        },
        {
          "output_type": "execute_result",
          "data": {
            "text/plain": [
              "GridSearchCV(cv=2, error_score='raise-deprecating',\n",
              "             estimator=SVC(C=1.0, cache_size=200, class_weight=None, coef0=0.0,\n",
              "                           decision_function_shape='ovr', degree=3,\n",
              "                           gamma='auto_deprecated', kernel='rbf', max_iter=-1,\n",
              "                           probability=False, random_state=None, shrinking=True,\n",
              "                           tol=0.001, verbose=False),\n",
              "             iid='warn', n_jobs=None,\n",
              "             param_grid=[{'C': [0.01, 0.1], 'gamma': [0.1, 0.2],\n",
              "                          'kernel': ['rbf']}],\n",
              "             pre_dispatch='2*n_jobs', refit=True, return_train_score=False,\n",
              "             scoring='neg_mean_squared_error', verbose=2)"
            ]
          },
          "metadata": {
            "tags": []
          },
          "execution_count": 24
        }
      ]
    },
    {
      "cell_type": "code",
      "metadata": {
        "id": "uDoYYZhvAwyb",
        "colab_type": "code",
        "outputId": "6985f367-6c26-40b4-bddd-8f90e9eee1cf",
        "colab": {
          "base_uri": "https://localhost:8080/",
          "height": 170
        }
      },
      "source": [
        "y_pred1_3 = clf1_3.predict(x_NewTest)\n",
        "\n",
        "best_params1_3 = clf1_3.best_params_ \n",
        "print(\"By GridSearch, the best parameters are: \") \n",
        "print(best_params1_3)\n",
        "#evaluaion \n",
        "Accuracy1_3 = metrics.accuracy_score(y_NewTest, y_pred1_3)\n",
        "Precision1_3 = metrics.precision_score(y_NewTest , y_pred1_3)\n",
        "Recall1_3 = metrics.recall_score(y_NewTest , y_pred1_3)\n",
        "F1_Score1_3 = metrics.f1_score(y_NewTest , y_pred1_3)\n",
        "Roc_3 = metrics.roc_auc_score(y_NewTest, y_pred1_3)\n",
        "\n",
        "print(\" Support Vectore Machine with Radial basis function (RFB) kernel \")\n",
        "print (\"Accuracy = \" ,  Accuracy1_3 )\n",
        "print (\"Precision = \" , Precision1_3)\n",
        "print (\"Recall = \" , Recall1_3 )\n",
        "print (\"F1_Score = \" , F1_Score1_3)\n",
        "print (\"ROC_Curve = \" , Roc_3)\n",
        "ro.append(Roc_3)\n",
        "acc.append(Accuracy1_3)\n",
        "pre.append(Precision1_3) \n",
        "rec.append(Recall1_3)\n",
        "f.append(F1_Score1_3)"
      ],
      "execution_count": 0,
      "outputs": [
        {
          "output_type": "stream",
          "text": [
            "By GridSearch, the best parameters are: \n",
            "{'C': 0.1, 'gamma': 0.2, 'kernel': 'rbf'}\n",
            " Support Vectore Machine with Radial basis function (RFB) kernel \n",
            "Accuracy =  0.79944451792091\n",
            "Precision =  1.0\n",
            "Recall =  0.5988253657504167\n",
            "F1_Score =  0.7490816427838634\n",
            "ROC_Curve =  0.7994126828752084\n"
          ],
          "name": "stdout"
        },
        {
          "output_type": "execute_result",
          "data": {
            "text/plain": [
              "'ro.append(Roc_3)\\nacc.append(Accuracy1_3)\\npre.append(Precision1_3) \\nrec.append(Recall1_3)\\nf.append(F1_Score1_3)'"
            ]
          },
          "metadata": {
            "tags": []
          },
          "execution_count": 25
        }
      ]
    },
    {
      "cell_type": "markdown",
      "metadata": {
        "id": "TM0abWXwWHlR",
        "colab_type": "text"
      },
      "source": [
        "**Second Naive Bayes (NB)**"
      ]
    },
    {
      "cell_type": "code",
      "metadata": {
        "id": "7vvR6cp0WQ2g",
        "colab_type": "code",
        "outputId": "38b61ec7-1c83-448e-ee21-d8a970749c75",
        "colab": {
          "base_uri": "https://localhost:8080/",
          "height": 34
        }
      },
      "source": [
        "clf2 = GaussianNB()\n",
        "clf2.fit(x_NewTrain, y_NewTrain)"
      ],
      "execution_count": 0,
      "outputs": [
        {
          "output_type": "execute_result",
          "data": {
            "text/plain": [
              "GaussianNB(priors=None, var_smoothing=1e-09)"
            ]
          },
          "metadata": {
            "tags": []
          },
          "execution_count": 41
        }
      ]
    },
    {
      "cell_type": "code",
      "metadata": {
        "id": "HeoR8mzhA1r2",
        "colab_type": "code",
        "outputId": "651794d6-177b-4fef-c4cd-6366649b7d47",
        "colab": {
          "base_uri": "https://localhost:8080/",
          "height": 119
        }
      },
      "source": [
        "y_pred2 = clf2.predict(x_NewTest)\n",
        "#evaluaion \n",
        "Accuracy2 = metrics.accuracy_score(y_NewTest, y_pred2)\n",
        "Precision2 = metrics.precision_score(y_NewTest , y_pred2)\n",
        "Recall2 = metrics.recall_score(y_NewTest , y_pred2)\n",
        "F1_Score2 = metrics.f1_score(y_NewTest , y_pred2)\n",
        "Roc2 = metrics.roc_auc_score(y_NewTest, y_pred2)\n",
        "\n",
        "print(\" Gaussian Naive Bayes\")\n",
        "print (\"Accuracy = \" ,  Accuracy2 )\n",
        "print (\"Precision = \" , Precision2 )\n",
        "print (\"Recall = \" , Recall2 )\n",
        "print (\"F1_Score = \" , F1_Score2)\n",
        "print (\"ROC_Curve = \" , Roc2)\n",
        "\n",
        "ro.append(Roc2)\n",
        "acc.append(Accuracy2)\n",
        "pre.append(Precision2) \n",
        "rec.append(Recall2)\n",
        "f.append(F1_Score2)"
      ],
      "execution_count": 0,
      "outputs": [
        {
          "output_type": "stream",
          "text": [
            " Gaussian Naive Bayes\n",
            "Accuracy =  0.7614336727946038\n",
            "Precision =  0.7674815235929505\n",
            "Recall =  0.7500198417947564\n",
            "F1_Score =  0.7586502180952126\n",
            "ROC_Curve =  0.7614318616024641\n"
          ],
          "name": "stdout"
        }
      ]
    },
    {
      "cell_type": "markdown",
      "metadata": {
        "id": "afF96lrmXOeV",
        "colab_type": "text"
      },
      "source": [
        "**Third Logistic Regression**"
      ]
    },
    {
      "cell_type": "code",
      "metadata": {
        "id": "61_5ZN0TXSOk",
        "colab_type": "code",
        "outputId": "ef8b7405-0a83-4e95-8a9d-12cbb1b524a8",
        "colab": {
          "base_uri": "https://localhost:8080/",
          "height": 156
        }
      },
      "source": [
        "clf3 = LogisticRegression()\n",
        "clf3.fit(x_NewTrain, y_NewTrain)\n"
      ],
      "execution_count": 0,
      "outputs": [
        {
          "output_type": "stream",
          "text": [
            "/usr/local/lib/python3.6/dist-packages/sklearn/linear_model/logistic.py:432: FutureWarning: Default solver will be changed to 'lbfgs' in 0.22. Specify a solver to silence this warning.\n",
            "  FutureWarning)\n"
          ],
          "name": "stderr"
        },
        {
          "output_type": "execute_result",
          "data": {
            "text/plain": [
              "LogisticRegression(C=1.0, class_weight=None, dual=False, fit_intercept=True,\n",
              "                   intercept_scaling=1, l1_ratio=None, max_iter=100,\n",
              "                   multi_class='warn', n_jobs=None, penalty='l2',\n",
              "                   random_state=None, solver='warn', tol=0.0001, verbose=0,\n",
              "                   warm_start=False)"
            ]
          },
          "metadata": {
            "tags": []
          },
          "execution_count": 43
        }
      ]
    },
    {
      "cell_type": "code",
      "metadata": {
        "id": "HNslg9SGBEGo",
        "colab_type": "code",
        "outputId": "90c452ac-a9d0-42c0-b995-fc6927a17904",
        "colab": {
          "base_uri": "https://localhost:8080/",
          "height": 119
        }
      },
      "source": [
        "y_pred3 = clf3.predict(x_NewTest)\n",
        "#evaluaion \n",
        "Accuracy3 = metrics.accuracy_score(y_NewTest, y_pred3)\n",
        "Precision3 = metrics.precision_score(y_NewTest , y_pred3)\n",
        "Recall3 = metrics.recall_score(y_NewTest , y_pred3)\n",
        "F1_Score3 = metrics.f1_score(y_NewTest , y_pred3)\n",
        "Roc3 = metrics.roc_auc_score(y_NewTest, y_pred3)\n",
        "\n",
        "print(\"Logistic regression\")\n",
        "print (\"Accuracy = \" ,  Accuracy3 )\n",
        "print (\"Precision = \" , Precision3 )\n",
        "print (\"Recall = \" , Recall3 )\n",
        "print (\"F1_Score = \" , F1_Score3)\n",
        "print (\"ROC_Curve = \" , Roc3)\n",
        "\n",
        "ro.append(Roc3)\n",
        "acc.append(Accuracy3)\n",
        "pre.append(Precision3) \n",
        "rec.append(Recall3)\n",
        "f.append(F1_Score3)"
      ],
      "execution_count": 0,
      "outputs": [
        {
          "output_type": "stream",
          "text": [
            "Logistic regression\n",
            "Accuracy =  0.734082793281312\n",
            "Precision =  0.7352980290980663\n",
            "Recall =  0.7313685547236699\n",
            "F1_Score =  0.733328028012096\n",
            "ROC_Curve =  0.7340823625751327\n"
          ],
          "name": "stdout"
        }
      ]
    },
    {
      "cell_type": "markdown",
      "metadata": {
        "id": "nprZA86o5k49",
        "colab_type": "text"
      },
      "source": [
        "**Forth Decision tree**"
      ]
    },
    {
      "cell_type": "code",
      "metadata": {
        "id": "yIRTkzUy5qo_",
        "colab_type": "code",
        "outputId": "02e1ecf1-ad25-4343-8b19-d60b404d2e5c",
        "colab": {
          "base_uri": "https://localhost:8080/",
          "height": 119
        }
      },
      "source": [
        "#1 ) Dicision tree with all defult hyperparameter\n",
        "clf4_1 = DecisionTreeClassifier()\n",
        "clf4_1.fit(x_NewTrain, y_NewTrain)"
      ],
      "execution_count": 0,
      "outputs": [
        {
          "output_type": "execute_result",
          "data": {
            "text/plain": [
              "DecisionTreeClassifier(class_weight=None, criterion='gini', max_depth=None,\n",
              "                       max_features=None, max_leaf_nodes=None,\n",
              "                       min_impurity_decrease=0.0, min_impurity_split=None,\n",
              "                       min_samples_leaf=1, min_samples_split=2,\n",
              "                       min_weight_fraction_leaf=0.0, presort=False,\n",
              "                       random_state=None, splitter='best')"
            ]
          },
          "metadata": {
            "tags": []
          },
          "execution_count": 45
        }
      ]
    },
    {
      "cell_type": "code",
      "metadata": {
        "id": "Ns_qJRDY6KOx",
        "colab_type": "code",
        "outputId": "71962861-ad25-4d00-d3e0-4de20aa01d0a",
        "colab": {
          "base_uri": "https://localhost:8080/",
          "height": 119
        }
      },
      "source": [
        "y_pred4_1 = clf4_1.predict(x_NewTest)\n",
        "#evaluaion \n",
        "Accuracy4_1 = metrics.accuracy_score(y_NewTest, y_pred4_1)\n",
        "Precision4_1 = metrics.precision_score(y_NewTest , y_pred4_1)\n",
        "Recall4_1 = metrics.recall_score(y_NewTest , y_pred4_1)\n",
        "F1_Score4_1 = metrics.f1_score(y_NewTest , y_pred4_1)\n",
        "Roc4_1 = metrics.roc_auc_score(y_NewTest, y_pred4_1)\n",
        "\n",
        "print(\"Dicision tree with all defult hyperparameter\")\n",
        "print (\"Accuracy = \" ,  Accuracy4_1 )\n",
        "print (\"Precision = \" , Precision4_1 )\n",
        "print (\"Recall = \" , Recall4_1 )\n",
        "print (\"F1_Score = \" , F1_Score4_1)\n",
        "print (\"ROC_Curve = \" , Roc4_1)\n",
        "\n",
        "ro.append(Roc4_1)\n",
        "acc.append(Accuracy4_1)\n",
        "pre.append(Precision4_1) \n",
        "rec.append(Recall4_1)\n",
        "f.append(F1_Score4_1)"
      ],
      "execution_count": 0,
      "outputs": [
        {
          "output_type": "stream",
          "text": [
            "Dicision tree with all defult hyperparameter\n",
            "Accuracy =  0.9391879381034255\n",
            "Precision =  0.89210383352623\n",
            "Recall =  0.999206328209741\n",
            "F1_Score =  0.9426225416791454\n",
            "ROC_Curve =  0.9391974620604918\n"
          ],
          "name": "stdout"
        }
      ]
    },
    {
      "cell_type": "code",
      "metadata": {
        "id": "UDE3j1ZI6pC4",
        "colab_type": "code",
        "outputId": "6ab3b41c-6a5a-45d5-ce8a-4c1fbdf7bbb2",
        "colab": {
          "base_uri": "https://localhost:8080/",
          "height": 119
        }
      },
      "source": [
        "#2)  Dicision tree with criterion = entropy and  max_depth = 20 \n",
        "clf4_2 = DecisionTreeClassifier(criterion='entropy',max_depth = 20)\n",
        "clf4_2.fit(x_NewTrain, y_NewTrain)"
      ],
      "execution_count": 0,
      "outputs": [
        {
          "output_type": "execute_result",
          "data": {
            "text/plain": [
              "DecisionTreeClassifier(class_weight=None, criterion='entropy', max_depth=20,\n",
              "                       max_features=None, max_leaf_nodes=None,\n",
              "                       min_impurity_decrease=0.0, min_impurity_split=None,\n",
              "                       min_samples_leaf=1, min_samples_split=2,\n",
              "                       min_weight_fraction_leaf=0.0, presort=False,\n",
              "                       random_state=None, splitter='best')"
            ]
          },
          "metadata": {
            "tags": []
          },
          "execution_count": 47
        }
      ]
    },
    {
      "cell_type": "code",
      "metadata": {
        "id": "iBXtr0M77Qz7",
        "colab_type": "code",
        "outputId": "fe4b8733-4e94-427d-b2d9-27b65609c87d",
        "colab": {
          "base_uri": "https://localhost:8080/",
          "height": 119
        }
      },
      "source": [
        "y_pred4_2 = clf4_2.predict(x_NewTest)\n",
        "#evaluaion \n",
        "Accuracy4_2 = metrics.accuracy_score(y_NewTest, y_pred4_2)\n",
        "Precision4_2 = metrics.precision_score(y_NewTest , y_pred4_2)\n",
        "Recall4_2 = metrics.recall_score(y_NewTest , y_pred4_2)\n",
        "F1_Score4_2 = metrics.f1_score(y_NewTest , y_pred4_2)\n",
        "Roc4_2 = metrics.roc_auc_score(y_NewTest, y_pred4_2)\n",
        "\n",
        "print(\"Dicision tree with criterion = entropy and  max_depth = 20\")\n",
        "print (\"Accuracy = \" ,  Accuracy4_2 )\n",
        "print (\"Precision = \" , Precision4_2 )\n",
        "print (\"Recall = \" , Recall4_2 )\n",
        "print (\"F1_Score = \" , F1_Score4_2)\n",
        "print (\"ROC_Curve = \" , Roc4_2)\n",
        "\n",
        "ro.append(Roc4_2)\n",
        "acc.append(Accuracy4_2)\n",
        "pre.append(Precision4_2) \n",
        "rec.append(Recall4_2)\n",
        "f.append(F1_Score4_2)"
      ],
      "execution_count": 0,
      "outputs": [
        {
          "output_type": "stream",
          "text": [
            "Dicision tree with criterion = entropy and  max_depth = 20\n",
            "Accuracy =  0.8684830048935326\n",
            "Precision =  0.8429151791210144\n",
            "Recall =  0.9057117913172306\n",
            "F1_Score =  0.8731859106792154\n",
            "ROC_Curve =  0.8684889125055646\n"
          ],
          "name": "stdout"
        }
      ]
    },
    {
      "cell_type": "code",
      "metadata": {
        "id": "lPKuWoRk7T47",
        "colab_type": "code",
        "outputId": "50563e0c-a0cd-455a-b9a5-c42ea1ad164a",
        "colab": {
          "base_uri": "https://localhost:8080/",
          "height": 119
        }
      },
      "source": [
        "#3)  Dicision tree with max_depth = 18 \n",
        "clf4_3 = DecisionTreeClassifier( max_depth = 18)\n",
        "clf4_3.fit(x_NewTrain, y_NewTrain)"
      ],
      "execution_count": 0,
      "outputs": [
        {
          "output_type": "execute_result",
          "data": {
            "text/plain": [
              "DecisionTreeClassifier(class_weight=None, criterion='gini', max_depth=18,\n",
              "                       max_features=None, max_leaf_nodes=None,\n",
              "                       min_impurity_decrease=0.0, min_impurity_split=None,\n",
              "                       min_samples_leaf=1, min_samples_split=2,\n",
              "                       min_weight_fraction_leaf=0.0, presort=False,\n",
              "                       random_state=None, splitter='best')"
            ]
          },
          "metadata": {
            "tags": []
          },
          "execution_count": 49
        }
      ]
    },
    {
      "cell_type": "code",
      "metadata": {
        "id": "5-PnBX6y7-Qa",
        "colab_type": "code",
        "outputId": "c8f704ec-fdda-47aa-a373-346e5c3f1675",
        "colab": {
          "base_uri": "https://localhost:8080/",
          "height": 119
        }
      },
      "source": [
        "y_pred4_3 = clf4_3.predict(x_NewTest)\n",
        "#evaluaion \n",
        "Accuracy4_3 = metrics.accuracy_score(y_NewTest, y_pred4_3)\n",
        "Precision4_3 = metrics.precision_score(y_NewTest , y_pred4_3)\n",
        "Recall4_3 = metrics.recall_score(y_NewTest , y_pred4_3)\n",
        "F1_Score4_3 = metrics.f1_score(y_NewTest , y_pred4_3)\n",
        "Roc4_3 = metrics.roc_auc_score(y_NewTest, y_pred4_3)\n",
        "\n",
        "print(\"Dicision tree with max_depth = 18 \")\n",
        "print (\"Accuracy = \" ,  Accuracy4_3 )\n",
        "print (\"Precision = \" , Precision4_3 )\n",
        "print (\"Recall = \" , Recall4_3 )\n",
        "print (\"F1_Score = \" , F1_Score4_3 )\n",
        "print (\"ROC_Curve = \" , Roc4_3)\n",
        "\n",
        "ro.append(Roc4_3)\n",
        "acc.append(Accuracy4_3)\n",
        "pre.append(Precision4_3) \n",
        "rec.append(Recall4_3)\n",
        "f.append(F1_Score4_3)"
      ],
      "execution_count": 0,
      "outputs": [
        {
          "output_type": "stream",
          "text": [
            "Dicision tree with max_depth = 18 \n",
            "Accuracy =  0.8438301811929639\n",
            "Precision =  0.8337913852002158\n",
            "Recall =  0.8588057885129237\n",
            "F1_Score =  0.8461137465464212\n",
            "ROC_Curve =  0.8438325575819492\n"
          ],
          "name": "stdout"
        }
      ]
    },
    {
      "cell_type": "markdown",
      "metadata": {
        "id": "YuP537zY8E_g",
        "colab_type": "text"
      },
      "source": [
        "**Fifth Random Forest**"
      ]
    },
    {
      "cell_type": "code",
      "metadata": {
        "id": "7Bl_Y8wxul-F",
        "colab_type": "code",
        "outputId": "627a1e36-8af2-40a6-db4d-bb56fd30dce8",
        "colab": {
          "base_uri": "https://localhost:8080/",
          "height": 1000
        }
      },
      "source": [
        "#Random Forest with best (criterion , Max feature , Max depth , Number of trees)\n",
        "#Determine the best using GridSearch\n",
        "params5 = [{'criterion': ['gini' , 'entropy'] ,\n",
        "           'max_features': ['auto', 'log2'],\n",
        "           'max_depth': [15, 25],\n",
        "           'n_estimators': [100, 150] }]\n",
        "clf5 = GridSearchCV(estimator = RandomForestClassifier(),\n",
        "                            param_grid = params5,\n",
        "                            scoring = 'neg_mean_squared_error',verbose=2,cv=2)\n",
        "                            \n",
        "clf5.fit(x_NewTrain, y_NewTrain) "
      ],
      "execution_count": 0,
      "outputs": [
        {
          "output_type": "stream",
          "text": [
            "Fitting 2 folds for each of 16 candidates, totalling 32 fits\n",
            "[CV] criterion=gini, max_depth=15, max_features=auto, n_estimators=100 \n"
          ],
          "name": "stdout"
        },
        {
          "output_type": "stream",
          "text": [
            "[Parallel(n_jobs=1)]: Using backend SequentialBackend with 1 concurrent workers.\n"
          ],
          "name": "stderr"
        },
        {
          "output_type": "stream",
          "text": [
            "[CV]  criterion=gini, max_depth=15, max_features=auto, n_estimators=100, total= 1.1min\n",
            "[CV] criterion=gini, max_depth=15, max_features=auto, n_estimators=100 \n"
          ],
          "name": "stdout"
        },
        {
          "output_type": "stream",
          "text": [
            "[Parallel(n_jobs=1)]: Done   1 out of   1 | elapsed:  1.1min remaining:    0.0s\n"
          ],
          "name": "stderr"
        },
        {
          "output_type": "stream",
          "text": [
            "[CV]  criterion=gini, max_depth=15, max_features=auto, n_estimators=100, total= 1.1min\n",
            "[CV] criterion=gini, max_depth=15, max_features=auto, n_estimators=150 \n",
            "[CV]  criterion=gini, max_depth=15, max_features=auto, n_estimators=150, total= 1.7min\n",
            "[CV] criterion=gini, max_depth=15, max_features=auto, n_estimators=150 \n",
            "[CV]  criterion=gini, max_depth=15, max_features=auto, n_estimators=150, total= 1.7min\n",
            "[CV] criterion=gini, max_depth=15, max_features=log2, n_estimators=100 \n",
            "[CV]  criterion=gini, max_depth=15, max_features=log2, n_estimators=100, total=  50.3s\n",
            "[CV] criterion=gini, max_depth=15, max_features=log2, n_estimators=100 \n",
            "[CV]  criterion=gini, max_depth=15, max_features=log2, n_estimators=100, total=  50.4s\n",
            "[CV] criterion=gini, max_depth=15, max_features=log2, n_estimators=150 \n",
            "[CV]  criterion=gini, max_depth=15, max_features=log2, n_estimators=150, total= 1.3min\n",
            "[CV] criterion=gini, max_depth=15, max_features=log2, n_estimators=150 \n",
            "[CV]  criterion=gini, max_depth=15, max_features=log2, n_estimators=150, total= 1.3min\n",
            "[CV] criterion=gini, max_depth=25, max_features=auto, n_estimators=100 \n",
            "[CV]  criterion=gini, max_depth=25, max_features=auto, n_estimators=100, total= 1.5min\n",
            "[CV] criterion=gini, max_depth=25, max_features=auto, n_estimators=100 \n",
            "[CV]  criterion=gini, max_depth=25, max_features=auto, n_estimators=100, total= 1.5min\n",
            "[CV] criterion=gini, max_depth=25, max_features=auto, n_estimators=150 \n",
            "[CV]  criterion=gini, max_depth=25, max_features=auto, n_estimators=150, total= 2.2min\n",
            "[CV] criterion=gini, max_depth=25, max_features=auto, n_estimators=150 \n",
            "[CV]  criterion=gini, max_depth=25, max_features=auto, n_estimators=150, total= 2.2min\n",
            "[CV] criterion=gini, max_depth=25, max_features=log2, n_estimators=100 \n",
            "[CV]  criterion=gini, max_depth=25, max_features=log2, n_estimators=100, total= 1.1min\n",
            "[CV] criterion=gini, max_depth=25, max_features=log2, n_estimators=100 \n",
            "[CV]  criterion=gini, max_depth=25, max_features=log2, n_estimators=100, total= 1.1min\n",
            "[CV] criterion=gini, max_depth=25, max_features=log2, n_estimators=150 \n",
            "[CV]  criterion=gini, max_depth=25, max_features=log2, n_estimators=150, total= 1.6min\n",
            "[CV] criterion=gini, max_depth=25, max_features=log2, n_estimators=150 \n",
            "[CV]  criterion=gini, max_depth=25, max_features=log2, n_estimators=150, total= 1.6min\n",
            "[CV] criterion=entropy, max_depth=15, max_features=auto, n_estimators=100 \n",
            "[CV]  criterion=entropy, max_depth=15, max_features=auto, n_estimators=100, total= 1.8min\n",
            "[CV] criterion=entropy, max_depth=15, max_features=auto, n_estimators=100 \n",
            "[CV]  criterion=entropy, max_depth=15, max_features=auto, n_estimators=100, total= 1.8min\n",
            "[CV] criterion=entropy, max_depth=15, max_features=auto, n_estimators=150 \n",
            "[CV]  criterion=entropy, max_depth=15, max_features=auto, n_estimators=150, total= 2.7min\n",
            "[CV] criterion=entropy, max_depth=15, max_features=auto, n_estimators=150 \n",
            "[CV]  criterion=entropy, max_depth=15, max_features=auto, n_estimators=150, total= 2.7min\n",
            "[CV] criterion=entropy, max_depth=15, max_features=log2, n_estimators=100 \n",
            "[CV]  criterion=entropy, max_depth=15, max_features=log2, n_estimators=100, total= 1.3min\n",
            "[CV] criterion=entropy, max_depth=15, max_features=log2, n_estimators=100 \n",
            "[CV]  criterion=entropy, max_depth=15, max_features=log2, n_estimators=100, total= 1.3min\n",
            "[CV] criterion=entropy, max_depth=15, max_features=log2, n_estimators=150 \n",
            "[CV]  criterion=entropy, max_depth=15, max_features=log2, n_estimators=150, total= 2.0min\n",
            "[CV] criterion=entropy, max_depth=15, max_features=log2, n_estimators=150 \n",
            "[CV]  criterion=entropy, max_depth=15, max_features=log2, n_estimators=150, total= 2.0min\n",
            "[CV] criterion=entropy, max_depth=25, max_features=auto, n_estimators=100 \n",
            "[CV]  criterion=entropy, max_depth=25, max_features=auto, n_estimators=100, total= 2.3min\n",
            "[CV] criterion=entropy, max_depth=25, max_features=auto, n_estimators=100 \n",
            "[CV]  criterion=entropy, max_depth=25, max_features=auto, n_estimators=100, total= 2.3min\n",
            "[CV] criterion=entropy, max_depth=25, max_features=auto, n_estimators=150 \n",
            "[CV]  criterion=entropy, max_depth=25, max_features=auto, n_estimators=150, total= 3.4min\n",
            "[CV] criterion=entropy, max_depth=25, max_features=auto, n_estimators=150 \n",
            "[CV]  criterion=entropy, max_depth=25, max_features=auto, n_estimators=150, total= 3.5min\n",
            "[CV] criterion=entropy, max_depth=25, max_features=log2, n_estimators=100 \n",
            "[CV]  criterion=entropy, max_depth=25, max_features=log2, n_estimators=100, total= 1.7min\n",
            "[CV] criterion=entropy, max_depth=25, max_features=log2, n_estimators=100 \n",
            "[CV]  criterion=entropy, max_depth=25, max_features=log2, n_estimators=100, total= 1.7min\n",
            "[CV] criterion=entropy, max_depth=25, max_features=log2, n_estimators=150 \n",
            "[CV]  criterion=entropy, max_depth=25, max_features=log2, n_estimators=150, total= 2.5min\n",
            "[CV] criterion=entropy, max_depth=25, max_features=log2, n_estimators=150 \n",
            "[CV]  criterion=entropy, max_depth=25, max_features=log2, n_estimators=150, total= 2.6min\n"
          ],
          "name": "stdout"
        },
        {
          "output_type": "stream",
          "text": [
            "[Parallel(n_jobs=1)]: Done  32 out of  32 | elapsed: 57.8min finished\n"
          ],
          "name": "stderr"
        },
        {
          "output_type": "execute_result",
          "data": {
            "text/plain": [
              "GridSearchCV(cv=2, error_score='raise-deprecating',\n",
              "             estimator=RandomForestClassifier(bootstrap=True, class_weight=None,\n",
              "                                              criterion='gini', max_depth=None,\n",
              "                                              max_features='auto',\n",
              "                                              max_leaf_nodes=None,\n",
              "                                              min_impurity_decrease=0.0,\n",
              "                                              min_impurity_split=None,\n",
              "                                              min_samples_leaf=1,\n",
              "                                              min_samples_split=2,\n",
              "                                              min_weight_fraction_leaf=0.0,\n",
              "                                              n_estimators='warn', n_jobs=None,\n",
              "                                              oob_score=False,\n",
              "                                              random_state=None, verbose=0,\n",
              "                                              warm_start=False),\n",
              "             iid='warn', n_jobs=None,\n",
              "             param_grid=[{'criterion': ['gini', 'entropy'],\n",
              "                          'max_depth': [15, 25],\n",
              "                          'max_features': ['auto', 'log2'],\n",
              "                          'n_estimators': [100, 150]}],\n",
              "             pre_dispatch='2*n_jobs', refit=True, return_train_score=False,\n",
              "             scoring='neg_mean_squared_error', verbose=2)"
            ]
          },
          "metadata": {
            "tags": []
          },
          "execution_count": 52
        }
      ]
    },
    {
      "cell_type": "code",
      "metadata": {
        "id": "Wz2QP0Y-8HDf",
        "colab_type": "code",
        "outputId": "8c4f1cf3-9159-4279-fc68-8bc679064ee6",
        "colab": {
          "base_uri": "https://localhost:8080/",
          "height": 170
        }
      },
      "source": [
        "y_pred5 = clf5.predict(x_NewTest)\n",
        "\n",
        "best_params5 = clf5.best_params_ #Determine which parameters used by the model\n",
        "print(\"By GridSearch, the best parameters are: \") \n",
        "print(best_params5)\n",
        "#evaluaion \n",
        "Accuracy5 = metrics.accuracy_score(y_NewTest, y_pred5)\n",
        "Precision5 = metrics.precision_score(y_NewTest , y_pred5)\n",
        "Recall5 = metrics.recall_score(y_NewTest , y_pred5)\n",
        "F1_Score5 = metrics.f1_score(y_NewTest , y_pred5)\n",
        "Roc5 = metrics.roc_auc_score(y_NewTest, y_pred5)\n",
        "\n",
        "print(\" \\nRandom Forest with best (criterion , Max feature , Max depth , Number of trees) \")\n",
        "print (\"Accuracy = \" ,  Accuracy5 )\n",
        "print (\"Precision = \" , Precision5 )\n",
        "print (\"Recall = \" , Recall5 )\n",
        "print (\"F1_Score = \" , F1_Score5 )\n",
        "print (\"ROC_Curve = \" , Roc5)\n",
        "\n",
        "ro.append(Roc5)\n",
        "acc.append(Accuracy5)\n",
        "pre.append(Precision5) \n",
        "rec.append(Recall5)\n",
        "f.append(F1_Score5)"
      ],
      "execution_count": 0,
      "outputs": [
        {
          "output_type": "stream",
          "text": [
            "By GridSearch, the best parameters are: \n",
            "{'criterion': 'entropy', 'max_depth': 25, 'max_features': 'log2', 'n_estimators': 150}\n",
            " \n",
            "Random Forest with best (criterion , Max feature , Max depth , Number of trees) \n",
            "Accuracy =  0.9984129083454569\n",
            "Precision =  0.9991257120148364\n",
            "Recall =  0.9976983518082488\n",
            "F1_Score =  0.9984115217621519\n",
            "ROC_Curve =  0.9984127949567811\n"
          ],
          "name": "stdout"
        }
      ]
    },
    {
      "cell_type": "markdown",
      "metadata": {
        "id": "RjBc9L2H-YI4",
        "colab_type": "text"
      },
      "source": [
        "**Sixth Gradient Boosting Classifier**"
      ]
    },
    {
      "cell_type": "code",
      "metadata": {
        "id": "-Jv1r3-q-fW2",
        "colab_type": "code",
        "outputId": "0eaf8389-a123-4207-9c41-73a6aae9d843",
        "colab": {
          "base_uri": "https://localhost:8080/",
          "height": 1000
        }
      },
      "source": [
        "#Gradient Boosting Classifier (GridSearchCV for Hyperparameter Tuning)\n",
        "params6 = [{'subsample': [1.0 , 0.5] ,\n",
        "           'max_depth': [3, 10],\n",
        "           'learning_rate': [0.1,0.05],\n",
        "           'n_estimators': [10, 60] }]\n",
        "clf6 = GridSearchCV(GradientBoostingClassifier(n_iter_no_change=5, tol=0.01),\n",
        "                            param_grid = params6,\n",
        "                            scoring = 'neg_mean_squared_error',verbose=2,cv=2)\n",
        "clf6.fit(x_NewTrain, y_NewTrain) #train the model using trainning dataSets\n"
      ],
      "execution_count": 0,
      "outputs": [
        {
          "output_type": "stream",
          "text": [
            "Fitting 2 folds for each of 16 candidates, totalling 32 fits\n",
            "[CV] learning_rate=0.1, max_depth=3, n_estimators=10, subsample=1.0 ..\n"
          ],
          "name": "stdout"
        },
        {
          "output_type": "stream",
          "text": [
            "[Parallel(n_jobs=1)]: Using backend SequentialBackend with 1 concurrent workers.\n"
          ],
          "name": "stderr"
        },
        {
          "output_type": "stream",
          "text": [
            "[CV]  learning_rate=0.1, max_depth=3, n_estimators=10, subsample=1.0, total=   5.4s\n",
            "[CV] learning_rate=0.1, max_depth=3, n_estimators=10, subsample=1.0 ..\n"
          ],
          "name": "stdout"
        },
        {
          "output_type": "stream",
          "text": [
            "[Parallel(n_jobs=1)]: Done   1 out of   1 | elapsed:    5.4s remaining:    0.0s\n"
          ],
          "name": "stderr"
        },
        {
          "output_type": "stream",
          "text": [
            "[CV]  learning_rate=0.1, max_depth=3, n_estimators=10, subsample=1.0, total=   5.3s\n",
            "[CV] learning_rate=0.1, max_depth=3, n_estimators=10, subsample=0.5 ..\n",
            "[CV]  learning_rate=0.1, max_depth=3, n_estimators=10, subsample=0.5, total=   4.1s\n",
            "[CV] learning_rate=0.1, max_depth=3, n_estimators=10, subsample=0.5 ..\n",
            "[CV]  learning_rate=0.1, max_depth=3, n_estimators=10, subsample=0.5, total=   4.1s\n",
            "[CV] learning_rate=0.1, max_depth=3, n_estimators=60, subsample=1.0 ..\n",
            "[CV]  learning_rate=0.1, max_depth=3, n_estimators=60, subsample=1.0, total=  28.6s\n",
            "[CV] learning_rate=0.1, max_depth=3, n_estimators=60, subsample=1.0 ..\n",
            "[CV]  learning_rate=0.1, max_depth=3, n_estimators=60, subsample=1.0, total=  28.6s\n",
            "[CV] learning_rate=0.1, max_depth=3, n_estimators=60, subsample=0.5 ..\n",
            "[CV]  learning_rate=0.1, max_depth=3, n_estimators=60, subsample=0.5, total=  21.5s\n",
            "[CV] learning_rate=0.1, max_depth=3, n_estimators=60, subsample=0.5 ..\n",
            "[CV]  learning_rate=0.1, max_depth=3, n_estimators=60, subsample=0.5, total=  21.5s\n",
            "[CV] learning_rate=0.1, max_depth=10, n_estimators=10, subsample=1.0 .\n",
            "[CV]  learning_rate=0.1, max_depth=10, n_estimators=10, subsample=1.0, total= 1.4min\n",
            "[CV] learning_rate=0.1, max_depth=10, n_estimators=10, subsample=1.0 .\n",
            "[CV]  learning_rate=0.1, max_depth=10, n_estimators=10, subsample=1.0, total= 1.4min\n",
            "[CV] learning_rate=0.1, max_depth=10, n_estimators=10, subsample=0.5 .\n",
            "[CV]  learning_rate=0.1, max_depth=10, n_estimators=10, subsample=0.5, total= 1.2min\n",
            "[CV] learning_rate=0.1, max_depth=10, n_estimators=10, subsample=0.5 .\n",
            "[CV]  learning_rate=0.1, max_depth=10, n_estimators=10, subsample=0.5, total= 1.2min\n",
            "[CV] learning_rate=0.1, max_depth=10, n_estimators=60, subsample=1.0 .\n",
            "[CV]  learning_rate=0.1, max_depth=10, n_estimators=60, subsample=1.0, total= 8.4min\n",
            "[CV] learning_rate=0.1, max_depth=10, n_estimators=60, subsample=1.0 .\n",
            "[CV]  learning_rate=0.1, max_depth=10, n_estimators=60, subsample=1.0, total= 8.8min\n",
            "[CV] learning_rate=0.1, max_depth=10, n_estimators=60, subsample=0.5 .\n",
            "[CV]  learning_rate=0.1, max_depth=10, n_estimators=60, subsample=0.5, total=10.5min\n",
            "[CV] learning_rate=0.1, max_depth=10, n_estimators=60, subsample=0.5 .\n",
            "[CV]  learning_rate=0.1, max_depth=10, n_estimators=60, subsample=0.5, total=11.7min\n",
            "[CV] learning_rate=0.05, max_depth=3, n_estimators=10, subsample=1.0 .\n",
            "[CV]  learning_rate=0.05, max_depth=3, n_estimators=10, subsample=1.0, total=   6.3s\n",
            "[CV] learning_rate=0.05, max_depth=3, n_estimators=10, subsample=1.0 .\n",
            "[CV]  learning_rate=0.05, max_depth=3, n_estimators=10, subsample=1.0, total=   6.3s\n",
            "[CV] learning_rate=0.05, max_depth=3, n_estimators=10, subsample=0.5 .\n",
            "[CV]  learning_rate=0.05, max_depth=3, n_estimators=10, subsample=0.5, total=   4.6s\n",
            "[CV] learning_rate=0.05, max_depth=3, n_estimators=10, subsample=0.5 .\n",
            "[CV]  learning_rate=0.05, max_depth=3, n_estimators=10, subsample=0.5, total=   4.7s\n",
            "[CV] learning_rate=0.05, max_depth=3, n_estimators=60, subsample=1.0 .\n",
            "[CV]  learning_rate=0.05, max_depth=3, n_estimators=60, subsample=1.0, total=  24.4s\n",
            "[CV] learning_rate=0.05, max_depth=3, n_estimators=60, subsample=1.0 .\n",
            "[CV]  learning_rate=0.05, max_depth=3, n_estimators=60, subsample=1.0, total=  24.0s\n",
            "[CV] learning_rate=0.05, max_depth=3, n_estimators=60, subsample=0.5 .\n",
            "[CV]  learning_rate=0.05, max_depth=3, n_estimators=60, subsample=0.5, total=  17.6s\n",
            "[CV] learning_rate=0.05, max_depth=3, n_estimators=60, subsample=0.5 .\n",
            "[CV]  learning_rate=0.05, max_depth=3, n_estimators=60, subsample=0.5, total=  20.0s\n",
            "[CV] learning_rate=0.05, max_depth=10, n_estimators=10, subsample=1.0 \n",
            "[CV]  learning_rate=0.05, max_depth=10, n_estimators=10, subsample=1.0, total= 2.4min\n",
            "[CV] learning_rate=0.05, max_depth=10, n_estimators=10, subsample=1.0 \n",
            "[CV]  learning_rate=0.05, max_depth=10, n_estimators=10, subsample=1.0, total= 2.4min\n",
            "[CV] learning_rate=0.05, max_depth=10, n_estimators=10, subsample=0.5 \n",
            "[CV]  learning_rate=0.05, max_depth=10, n_estimators=10, subsample=0.5, total= 2.1min\n",
            "[CV] learning_rate=0.05, max_depth=10, n_estimators=10, subsample=0.5 \n",
            "[CV]  learning_rate=0.05, max_depth=10, n_estimators=10, subsample=0.5, total= 2.1min\n",
            "[CV] learning_rate=0.05, max_depth=10, n_estimators=60, subsample=1.0 \n",
            "[CV]  learning_rate=0.05, max_depth=10, n_estimators=60, subsample=1.0, total=14.1min\n",
            "[CV] learning_rate=0.05, max_depth=10, n_estimators=60, subsample=1.0 \n",
            "[CV]  learning_rate=0.05, max_depth=10, n_estimators=60, subsample=1.0, total=14.4min\n",
            "[CV] learning_rate=0.05, max_depth=10, n_estimators=60, subsample=0.5 \n",
            "[CV]  learning_rate=0.05, max_depth=10, n_estimators=60, subsample=0.5, total=12.3min\n",
            "[CV] learning_rate=0.05, max_depth=10, n_estimators=60, subsample=0.5 \n",
            "[CV]  learning_rate=0.05, max_depth=10, n_estimators=60, subsample=0.5, total=12.3min\n"
          ],
          "name": "stdout"
        },
        {
          "output_type": "stream",
          "text": [
            "[Parallel(n_jobs=1)]: Done  32 out of  32 | elapsed: 110.4min finished\n"
          ],
          "name": "stderr"
        },
        {
          "output_type": "execute_result",
          "data": {
            "text/plain": [
              "GridSearchCV(cv=2, error_score='raise-deprecating',\n",
              "             estimator=GradientBoostingClassifier(criterion='friedman_mse',\n",
              "                                                  init=None, learning_rate=0.1,\n",
              "                                                  loss='deviance', max_depth=3,\n",
              "                                                  max_features=None,\n",
              "                                                  max_leaf_nodes=None,\n",
              "                                                  min_impurity_decrease=0.0,\n",
              "                                                  min_impurity_split=None,\n",
              "                                                  min_samples_leaf=1,\n",
              "                                                  min_samples_split=2,\n",
              "                                                  min_weight_fraction_leaf=0.0,\n",
              "                                                  n_estimators=100,\n",
              "                                                  n_iter_no_change=5,\n",
              "                                                  presort='auto',\n",
              "                                                  random_state=None,\n",
              "                                                  subsample=1.0, tol=0.01,\n",
              "                                                  validation_fraction=0.1,\n",
              "                                                  verbose=0, warm_start=False),\n",
              "             iid='warn', n_jobs=None,\n",
              "             param_grid=[{'learning_rate': [0.1, 0.05], 'max_depth': [3, 10],\n",
              "                          'n_estimators': [10, 60], 'subsample': [1.0, 0.5]}],\n",
              "             pre_dispatch='2*n_jobs', refit=True, return_train_score=False,\n",
              "             scoring='neg_mean_squared_error', verbose=2)"
            ]
          },
          "metadata": {
            "tags": []
          },
          "execution_count": 57
        }
      ]
    },
    {
      "cell_type": "code",
      "metadata": {
        "id": "abv0Z_36ZQJ6",
        "colab_type": "code",
        "outputId": "0c0cf29a-0e54-4b8e-8526-a125c38fa6df",
        "colab": {
          "base_uri": "https://localhost:8080/",
          "height": 170
        }
      },
      "source": [
        "y_pred6= clf6.predict(x_NewTest)\n",
        "\n",
        "best_params6 = clf6.best_params_  #Determine which parameters used by the model \n",
        "print(\"By GridSearch, the best parameters are: \") \n",
        "print(best_params6)\n",
        "#evaluaion \n",
        "Accuracy6 = metrics.accuracy_score(y_NewTest, y_pred6)\n",
        "Precision6 = metrics.precision_score(y_NewTest , y_pred6)\n",
        "Recall6 = metrics.recall_score(y_NewTest , y_pred6)\n",
        "F1_Score6 = metrics.f1_score(y_NewTest , y_pred6)\n",
        "Roc6 = metrics.roc_auc_score(y_NewTest, y_pred6)\n",
        "\n",
        "print(\" \\nGradient Boosting Classifier (GridSearchCV for Hyperparameter Tuning) \")\n",
        "print (\"Accuracy = \" ,  Accuracy6 )\n",
        "print (\"Precision = \" , Precision6 )\n",
        "print (\"Recall = \" , Recall6 )\n",
        "print (\"F1_Score = \" , F1_Score6 )\n",
        "print (\"ROC_Curve = \" , Roc6)\n",
        "\n",
        "ro.append(Roc6)\n",
        "acc.append(Accuracy6)\n",
        "pre.append(Precision6) \n",
        "rec.append(Recall6)\n",
        "f.append(F1_Score6)"
      ],
      "execution_count": 0,
      "outputs": [
        {
          "output_type": "stream",
          "text": [
            "By GridSearch, the best parameters are: \n",
            "{'learning_rate': 0.1, 'max_depth': 10, 'n_estimators': 60, 'subsample': 1.0}\n",
            " \n",
            "Gradient Boosting Classifier (GridSearchCV for Hyperparameter Tuning) \n",
            "Accuracy =  0.9336331173125249\n",
            "Precision =  0.9278721904612734\n",
            "Recall =  0.940342337098865\n",
            "F1_Score =  0.9340656452842089\n",
            "ROC_Curve =  0.9336341819582289\n"
          ],
          "name": "stdout"
        }
      ]
    },
    {
      "cell_type": "markdown",
      "metadata": {
        "id": "bnAfVIgiAQjB",
        "colab_type": "text"
      },
      "source": [
        "**Seventh BaggingClassifier**"
      ]
    },
    {
      "cell_type": "code",
      "metadata": {
        "id": "8RhgpNdZvV1i",
        "colab_type": "code",
        "outputId": "64f064fe-7f88-44a8-9b08-997da5dbcd11",
        "colab": {
          "base_uri": "https://localhost:8080/",
          "height": 785
        }
      },
      "source": [
        "#1) BaggingClassifier with Naïve bayes\n",
        "params7_1 = [{'n_estimators': [10, 50, 90 ],\n",
        "             'oob_score': ['True' , 'False'] }]\n",
        "clf7_1 = GridSearchCV(estimator = BaggingClassifier(base_estimator=clf2) ,\n",
        "                            param_grid = params7_1,\n",
        "                            scoring = 'neg_mean_squared_error')\n",
        "                            \n",
        "clf7_1.fit(x_NewTrain, y_NewTrain) "
      ],
      "execution_count": 0,
      "outputs": [
        {
          "output_type": "stream",
          "text": [
            "/usr/local/lib/python3.6/dist-packages/sklearn/model_selection/_split.py:1978: FutureWarning: The default value of cv will change from 3 to 5 in version 0.22. Specify it explicitly to silence this warning.\n",
            "  warnings.warn(CV_WARNING, FutureWarning)\n",
            "/usr/local/lib/python3.6/dist-packages/sklearn/ensemble/bagging.py:611: UserWarning: Some inputs do not have OOB scores. This probably means too few estimators were used to compute any reliable oob estimates.\n",
            "  warn(\"Some inputs do not have OOB scores. \"\n",
            "/usr/local/lib/python3.6/dist-packages/sklearn/ensemble/bagging.py:616: RuntimeWarning: invalid value encountered in true_divide\n",
            "  predictions.sum(axis=1)[:, np.newaxis])\n",
            "/usr/local/lib/python3.6/dist-packages/sklearn/ensemble/bagging.py:611: UserWarning: Some inputs do not have OOB scores. This probably means too few estimators were used to compute any reliable oob estimates.\n",
            "  warn(\"Some inputs do not have OOB scores. \"\n",
            "/usr/local/lib/python3.6/dist-packages/sklearn/ensemble/bagging.py:616: RuntimeWarning: invalid value encountered in true_divide\n",
            "  predictions.sum(axis=1)[:, np.newaxis])\n",
            "/usr/local/lib/python3.6/dist-packages/sklearn/ensemble/bagging.py:611: UserWarning: Some inputs do not have OOB scores. This probably means too few estimators were used to compute any reliable oob estimates.\n",
            "  warn(\"Some inputs do not have OOB scores. \"\n",
            "/usr/local/lib/python3.6/dist-packages/sklearn/ensemble/bagging.py:616: RuntimeWarning: invalid value encountered in true_divide\n",
            "  predictions.sum(axis=1)[:, np.newaxis])\n",
            "/usr/local/lib/python3.6/dist-packages/sklearn/ensemble/bagging.py:611: UserWarning: Some inputs do not have OOB scores. This probably means too few estimators were used to compute any reliable oob estimates.\n",
            "  warn(\"Some inputs do not have OOB scores. \"\n",
            "/usr/local/lib/python3.6/dist-packages/sklearn/ensemble/bagging.py:616: RuntimeWarning: invalid value encountered in true_divide\n",
            "  predictions.sum(axis=1)[:, np.newaxis])\n",
            "/usr/local/lib/python3.6/dist-packages/sklearn/ensemble/bagging.py:611: UserWarning: Some inputs do not have OOB scores. This probably means too few estimators were used to compute any reliable oob estimates.\n",
            "  warn(\"Some inputs do not have OOB scores. \"\n",
            "/usr/local/lib/python3.6/dist-packages/sklearn/ensemble/bagging.py:616: RuntimeWarning: invalid value encountered in true_divide\n",
            "  predictions.sum(axis=1)[:, np.newaxis])\n",
            "/usr/local/lib/python3.6/dist-packages/sklearn/ensemble/bagging.py:611: UserWarning: Some inputs do not have OOB scores. This probably means too few estimators were used to compute any reliable oob estimates.\n",
            "  warn(\"Some inputs do not have OOB scores. \"\n",
            "/usr/local/lib/python3.6/dist-packages/sklearn/ensemble/bagging.py:616: RuntimeWarning: invalid value encountered in true_divide\n",
            "  predictions.sum(axis=1)[:, np.newaxis])\n",
            "/usr/local/lib/python3.6/dist-packages/sklearn/ensemble/bagging.py:611: UserWarning: Some inputs do not have OOB scores. This probably means too few estimators were used to compute any reliable oob estimates.\n",
            "  warn(\"Some inputs do not have OOB scores. \"\n",
            "/usr/local/lib/python3.6/dist-packages/sklearn/ensemble/bagging.py:616: RuntimeWarning: invalid value encountered in true_divide\n",
            "  predictions.sum(axis=1)[:, np.newaxis])\n"
          ],
          "name": "stderr"
        },
        {
          "output_type": "execute_result",
          "data": {
            "text/plain": [
              "GridSearchCV(cv='warn', error_score='raise-deprecating',\n",
              "             estimator=BaggingClassifier(base_estimator=GaussianNB(priors=None,\n",
              "                                                                   var_smoothing=1e-09),\n",
              "                                         bootstrap=True,\n",
              "                                         bootstrap_features=False,\n",
              "                                         max_features=1.0, max_samples=1.0,\n",
              "                                         n_estimators=10, n_jobs=None,\n",
              "                                         oob_score=False, random_state=None,\n",
              "                                         verbose=0, warm_start=False),\n",
              "             iid='warn', n_jobs=None,\n",
              "             param_grid=[{'n_estimators': [10, 50, 90],\n",
              "                          'oob_score': ['True', 'False']}],\n",
              "             pre_dispatch='2*n_jobs', refit=True, return_train_score=False,\n",
              "             scoring='neg_mean_squared_error', verbose=0)"
            ]
          },
          "metadata": {
            "tags": []
          },
          "execution_count": 59
        }
      ]
    },
    {
      "cell_type": "code",
      "metadata": {
        "id": "WxLOOLkBAVVp",
        "colab_type": "code",
        "outputId": "11d0efa4-e576-403a-b094-6f6a242ec710",
        "colab": {
          "base_uri": "https://localhost:8080/",
          "height": 170
        }
      },
      "source": [
        "y_pred7_1 = clf7_1.predict(x_NewTest)\n",
        "\n",
        "best_params7_1= clf7_1.best_params_ #Determine which parameters used by the model\n",
        "print(\"By GridSearch, the best parameters are: \") \n",
        "print(best_params7_1)\n",
        "#evaluaion \n",
        "Accuracy7_1 = metrics.accuracy_score(y_NewTest, y_pred7_1)\n",
        "Precision7_1 = metrics.precision_score(y_NewTest , y_pred7_1)\n",
        "Recall7_1 = metrics.recall_score(y_NewTest , y_pred7_1)\n",
        "F1_Score7_1 = metrics.f1_score(y_NewTest , y_pred7_1)\n",
        "Roc7_1 = metrics.roc_auc_score(y_NewTest, y_pred7_1)\n",
        "\n",
        "print(\" \\nBaggingClassifier with Naïve bayes \")\n",
        "print (\"Accuracy = \" ,  Accuracy7_1)\n",
        "print (\"Precision = \" , Precision7_1)\n",
        "print (\"Recall = \" , Recall7_1)\n",
        "print (\"F1_Score = \" , F1_Score7_1)\n",
        "print (\"ROC_Curve = \" , Roc7_1)\n",
        "\n",
        "ro.append(Roc7_1)\n",
        "acc.append(Accuracy7_1)\n",
        "pre.append(Precision7_1) \n",
        "rec.append(Recall7_1)\n",
        "f.append(F1_Score7_1)"
      ],
      "execution_count": 0,
      "outputs": [
        {
          "output_type": "stream",
          "text": [
            "By GridSearch, the best parameters are: \n",
            "{'n_estimators': 10, 'oob_score': 'False'}\n",
            " \n",
            "BaggingClassifier with Naïve bayes \n",
            "Accuracy =  0.7616188334876339\n",
            "Precision =  0.7677870162229504\n",
            "Recall =  0.7499933860684145\n",
            "F1_Score =  0.7587858997350179\n",
            "ROC_Curve =  0.7616169887153582\n"
          ],
          "name": "stdout"
        }
      ]
    },
    {
      "cell_type": "code",
      "metadata": {
        "id": "DltCvbxhvdAj",
        "colab_type": "code",
        "outputId": "3907e0a9-8cfd-4327-d291-ca2fce31130a",
        "colab": {
          "base_uri": "https://localhost:8080/",
          "height": 479
        }
      },
      "source": [
        "#2)  BaggingClassifier with decision trees\n",
        "params7_2 = [{'base_estimator': [clf4_1, clf4_2, clf4_3] }]\n",
        "clf7_2 = GridSearchCV(estimator = BaggingClassifier() ,\n",
        "                            param_grid = params7_2,\n",
        "                            scoring = 'neg_mean_squared_error')\n",
        "                             \n",
        "clf7_2.fit(x_NewTrain, y_NewTrain) "
      ],
      "execution_count": 0,
      "outputs": [
        {
          "output_type": "stream",
          "text": [
            "/usr/local/lib/python3.6/dist-packages/sklearn/model_selection/_split.py:1978: FutureWarning: The default value of cv will change from 3 to 5 in version 0.22. Specify it explicitly to silence this warning.\n",
            "  warnings.warn(CV_WARNING, FutureWarning)\n"
          ],
          "name": "stderr"
        },
        {
          "output_type": "execute_result",
          "data": {
            "text/plain": [
              "GridSearchCV(cv='warn', error_score='raise-deprecating',\n",
              "             estimator=BaggingClassifier(base_estimator=None, bootstrap=True,\n",
              "                                         bootstrap_features=False,\n",
              "                                         max_features=1.0, max_samples=1.0,\n",
              "                                         n_estimators=10, n_jobs=None,\n",
              "                                         oob_score=False, random_state=None,\n",
              "                                         verbose=0, warm_start=False),\n",
              "             iid='warn', n_jobs=None,\n",
              "             param_grid=[{'base_estimator': [DecisionTreeClassifier(class_w...\n",
              "                                             DecisionTreeClassifier(class_weight=None,\n",
              "                                                                    criterion='gini',\n",
              "                                                                    max_depth=18,\n",
              "                                                                    max_features=None,\n",
              "                                                                    max_leaf_nodes=None,\n",
              "                                                                    min_impurity_decrease=0.0,\n",
              "                                                                    min_impurity_split=None,\n",
              "                                                                    min_samples_leaf=1,\n",
              "                                                                    min_samples_split=2,\n",
              "                                                                    min_weight_fraction_leaf=0.0,\n",
              "                                                                    presort=False,\n",
              "                                                                    random_state=None,\n",
              "                                                                    splitter='best')]}],\n",
              "             pre_dispatch='2*n_jobs', refit=True, return_train_score=False,\n",
              "             scoring='neg_mean_squared_error', verbose=0)"
            ]
          },
          "metadata": {
            "tags": []
          },
          "execution_count": 61
        }
      ]
    },
    {
      "cell_type": "code",
      "metadata": {
        "id": "NuTlqbiwCiqE",
        "colab_type": "code",
        "outputId": "da965f68-0c57-4e76-cfd9-e58bf07bc2a7",
        "colab": {
          "base_uri": "https://localhost:8080/",
          "height": 255
        }
      },
      "source": [
        "y_pred7_2 = clf7_2.predict(x_NewTest)\n",
        "\n",
        "best_params7_2= clf7_2.best_params_ #Determine which parameters used by the model \n",
        "print(\"By GridSearch, the best parameters are: \")\n",
        "print(best_params7_2)\n",
        "#evaluaion \n",
        "Accuracy7_2 = metrics.accuracy_score(y_NewTest, y_pred7_2)\n",
        "Precision7_2 = metrics.precision_score(y_NewTest , y_pred7_2)\n",
        "Recall7_2 = metrics.recall_score(y_NewTest , y_pred7_2)\n",
        "F1_Score7_2 = metrics.f1_score(y_NewTest , y_pred7_2)\n",
        "Roc7_2 = metrics.roc_auc_score(y_NewTest, y_pred7_2)\n",
        "\n",
        "print(\" \\nBaggingClassifier with decision trees \")\n",
        "print (\"Accuracy = \" ,  Accuracy7_2)\n",
        "print (\"Precision = \" , Precision7_2)\n",
        "print (\"Recall = \" , Recall7_2)\n",
        "print (\"F1_Score = \" , F1_Score7_2)\n",
        "print (\"ROC_Curve = \" , Roc7_2)\n",
        "\n",
        "ro.append(Roc7_2)\n",
        "acc.append(Accuracy7_2)\n",
        "pre.append(Precision7_2) \n",
        "rec.append(Recall7_2)\n",
        "f.append(F1_Score7_2)"
      ],
      "execution_count": 0,
      "outputs": [
        {
          "output_type": "stream",
          "text": [
            "By GridSearch, the best parameters are: \n",
            "{'base_estimator': DecisionTreeClassifier(class_weight=None, criterion='gini', max_depth=None,\n",
            "                       max_features=None, max_leaf_nodes=None,\n",
            "                       min_impurity_decrease=0.0, min_impurity_split=None,\n",
            "                       min_samples_leaf=1, min_samples_split=2,\n",
            "                       min_weight_fraction_leaf=0.0, presort=False,\n",
            "                       random_state=None, splitter='best')}\n",
            " \n",
            "BaggingClassifier with decision trees \n",
            "Accuracy =  0.9878852003703213\n",
            "Precision =  0.9778457233177001\n",
            "Recall =  0.99838620069314\n",
            "F1_Score =  0.9880092156246728\n",
            "ROC_Curve =  0.9878868667108555\n"
          ],
          "name": "stdout"
        }
      ]
    },
    {
      "cell_type": "markdown",
      "metadata": {
        "id": "ieQN9i9MDQJ4",
        "colab_type": "text"
      },
      "source": [
        "**Eighth AdaBoosting**"
      ]
    },
    {
      "cell_type": "code",
      "metadata": {
        "id": "-ZfIxWD7Da0N",
        "colab_type": "code",
        "outputId": "8c2cf5b0-7891-421a-ef18-2af383e99abe",
        "colab": {
          "base_uri": "https://localhost:8080/",
          "height": 258
        }
      },
      "source": [
        "#Adaptive Boosting Classifier (GridSearchCV for Hyperparameter Tuning)\n",
        "params8 = [{'n_estimators': [10 ,20 , 50] ,\n",
        "           'algorithm': ['SAMME' ,  'SAMME.R' ],\n",
        "           'learning_rate': [0.1, 0.05, 0.02]}]\n",
        "clf8 = GridSearchCV(estimator = AdaBoostClassifier(),\n",
        "                            param_grid = params8,\n",
        "                            scoring = 'neg_mean_squared_error')\n",
        "                            \n",
        "clf8.fit(x_NewTrain, y_NewTrain) \n"
      ],
      "execution_count": 0,
      "outputs": [
        {
          "output_type": "stream",
          "text": [
            "/usr/local/lib/python3.6/dist-packages/sklearn/model_selection/_split.py:1978: FutureWarning: The default value of cv will change from 3 to 5 in version 0.22. Specify it explicitly to silence this warning.\n",
            "  warnings.warn(CV_WARNING, FutureWarning)\n"
          ],
          "name": "stderr"
        },
        {
          "output_type": "execute_result",
          "data": {
            "text/plain": [
              "GridSearchCV(cv='warn', error_score='raise-deprecating',\n",
              "             estimator=AdaBoostClassifier(algorithm='SAMME.R',\n",
              "                                          base_estimator=None,\n",
              "                                          learning_rate=1.0, n_estimators=50,\n",
              "                                          random_state=None),\n",
              "             iid='warn', n_jobs=None,\n",
              "             param_grid=[{'algorithm': ['SAMME', 'SAMME.R'],\n",
              "                          'learning_rate': [0.1, 0.05, 0.02],\n",
              "                          'n_estimators': [10, 20, 50]}],\n",
              "             pre_dispatch='2*n_jobs', refit=True, return_train_score=False,\n",
              "             scoring='neg_mean_squared_error', verbose=0)"
            ]
          },
          "metadata": {
            "tags": []
          },
          "execution_count": 63
        }
      ]
    },
    {
      "cell_type": "code",
      "metadata": {
        "id": "6ZXiHRobY556",
        "colab_type": "code",
        "outputId": "032b84bb-19b0-4052-fc0d-72e794fd55d7",
        "colab": {
          "base_uri": "https://localhost:8080/",
          "height": 170
        }
      },
      "source": [
        "y_pred8= clf8.predict(x_NewTest)\n",
        "\n",
        "best_params8 = clf8.best_params_ #Determine which parameters used by the model\n",
        "print(\"By GridSearch, the best parameters are: \")  \n",
        "print(best_params8)\n",
        "#evaluaion \n",
        "Accuracy8 = metrics.accuracy_score(y_NewTest, y_pred8)\n",
        "Precision8 = metrics.precision_score(y_NewTest , y_pred8)\n",
        "Recall8 = metrics.recall_score(y_NewTest , y_pred8)\n",
        "F1_Score8 = metrics.f1_score(y_NewTest , y_pred8)\n",
        "Roc8 = metrics.roc_auc_score(y_NewTest, y_pred8)\n",
        "\n",
        "print(\" \\nAdaptive Boosting Classifier (GridSearchCV for Hyperparameter Tuning) \")\n",
        "print (\"Accuracy = \" ,  Accuracy8)\n",
        "print (\"Precision = \" , Precision8 )\n",
        "print (\"Recall = \" , Recall8 )\n",
        "print (\"F1_Score = \" , F1_Score8 )\n",
        "print (\"ROC_Curve = \" , Roc8)\n",
        "\n",
        "ro.append(Roc8)\n",
        "acc.append(Accuracy8)\n",
        "pre.append(Precision8) \n",
        "rec.append(Recall8)\n",
        "f.append(F1_Score8)"
      ],
      "execution_count": 0,
      "outputs": [
        {
          "output_type": "stream",
          "text": [
            "By GridSearch, the best parameters are: \n",
            "{'algorithm': 'SAMME.R', 'learning_rate': 0.1, 'n_estimators': 50}\n",
            " \n",
            "Adaptive Boosting Classifier (GridSearchCV for Hyperparameter Tuning) \n",
            "Accuracy =  0.6874884274566856\n",
            "Precision =  0.7057439888488791\n",
            "Recall =  0.6429535172888171\n",
            "F1_Score =  0.6728871045891881\n",
            "ROC_Curve =  0.6874813604798533\n"
          ],
          "name": "stdout"
        }
      ]
    },
    {
      "cell_type": "markdown",
      "metadata": {
        "id": "LobkxYGsFZ_y",
        "colab_type": "text"
      },
      "source": [
        "**Ninth Voting-Ensembling**"
      ]
    },
    {
      "cell_type": "code",
      "metadata": {
        "id": "kg-AD-cxvioT",
        "colab_type": "code",
        "outputId": "f0d24090-f646-4cd2-ee2c-493ff377fed1",
        "colab": {
          "base_uri": "https://localhost:8080/",
          "height": 1000
        }
      },
      "source": [
        "#Hard Voting-Ensembling  for 5 previous-methods\n",
        "clf9 = VotingClassifier(estimators=[('bc', clf7_2), ('nb', clf2), ('lr', clf3), ('dt',clf4_3), ('rf', clf5) ], voting='hard')\n",
        "clf9=clf9.fit(x_NewTrain, y_NewTrain) "
      ],
      "execution_count": 0,
      "outputs": [
        {
          "output_type": "stream",
          "text": [
            "/usr/local/lib/python3.6/dist-packages/sklearn/model_selection/_split.py:1978: FutureWarning: The default value of cv will change from 3 to 5 in version 0.22. Specify it explicitly to silence this warning.\n",
            "  warnings.warn(CV_WARNING, FutureWarning)\n",
            "/usr/local/lib/python3.6/dist-packages/sklearn/linear_model/logistic.py:432: FutureWarning: Default solver will be changed to 'lbfgs' in 0.22. Specify a solver to silence this warning.\n",
            "  FutureWarning)\n"
          ],
          "name": "stderr"
        },
        {
          "output_type": "stream",
          "text": [
            "Fitting 2 folds for each of 16 candidates, totalling 32 fits\n",
            "[CV] criterion=gini, max_depth=15, max_features=auto, n_estimators=100 \n"
          ],
          "name": "stdout"
        },
        {
          "output_type": "stream",
          "text": [
            "[Parallel(n_jobs=1)]: Using backend SequentialBackend with 1 concurrent workers.\n"
          ],
          "name": "stderr"
        },
        {
          "output_type": "stream",
          "text": [
            "[CV]  criterion=gini, max_depth=15, max_features=auto, n_estimators=100, total= 1.2min\n",
            "[CV] criterion=gini, max_depth=15, max_features=auto, n_estimators=100 \n"
          ],
          "name": "stdout"
        },
        {
          "output_type": "stream",
          "text": [
            "[Parallel(n_jobs=1)]: Done   1 out of   1 | elapsed:  1.2min remaining:    0.0s\n"
          ],
          "name": "stderr"
        },
        {
          "output_type": "stream",
          "text": [
            "[CV]  criterion=gini, max_depth=15, max_features=auto, n_estimators=100, total= 1.2min\n",
            "[CV] criterion=gini, max_depth=15, max_features=auto, n_estimators=150 \n",
            "[CV]  criterion=gini, max_depth=15, max_features=auto, n_estimators=150, total= 1.7min\n",
            "[CV] criterion=gini, max_depth=15, max_features=auto, n_estimators=150 \n",
            "[CV]  criterion=gini, max_depth=15, max_features=auto, n_estimators=150, total= 1.7min\n",
            "[CV] criterion=gini, max_depth=15, max_features=log2, n_estimators=100 \n",
            "[CV]  criterion=gini, max_depth=15, max_features=log2, n_estimators=100, total=  51.3s\n",
            "[CV] criterion=gini, max_depth=15, max_features=log2, n_estimators=100 \n",
            "[CV]  criterion=gini, max_depth=15, max_features=log2, n_estimators=100, total=  51.2s\n",
            "[CV] criterion=gini, max_depth=15, max_features=log2, n_estimators=150 \n",
            "[CV]  criterion=gini, max_depth=15, max_features=log2, n_estimators=150, total= 1.3min\n",
            "[CV] criterion=gini, max_depth=15, max_features=log2, n_estimators=150 \n",
            "[CV]  criterion=gini, max_depth=15, max_features=log2, n_estimators=150, total= 1.3min\n",
            "[CV] criterion=gini, max_depth=25, max_features=auto, n_estimators=100 \n",
            "[CV]  criterion=gini, max_depth=25, max_features=auto, n_estimators=100, total= 1.4min\n",
            "[CV] criterion=gini, max_depth=25, max_features=auto, n_estimators=100 \n",
            "[CV]  criterion=gini, max_depth=25, max_features=auto, n_estimators=100, total= 1.5min\n",
            "[CV] criterion=gini, max_depth=25, max_features=auto, n_estimators=150 \n",
            "[CV]  criterion=gini, max_depth=25, max_features=auto, n_estimators=150, total= 2.2min\n",
            "[CV] criterion=gini, max_depth=25, max_features=auto, n_estimators=150 \n",
            "[CV]  criterion=gini, max_depth=25, max_features=auto, n_estimators=150, total= 2.2min\n",
            "[CV] criterion=gini, max_depth=25, max_features=log2, n_estimators=100 \n",
            "[CV]  criterion=gini, max_depth=25, max_features=log2, n_estimators=100, total= 1.1min\n",
            "[CV] criterion=gini, max_depth=25, max_features=log2, n_estimators=100 \n",
            "[CV]  criterion=gini, max_depth=25, max_features=log2, n_estimators=100, total= 1.1min\n",
            "[CV] criterion=gini, max_depth=25, max_features=log2, n_estimators=150 \n",
            "[CV]  criterion=gini, max_depth=25, max_features=log2, n_estimators=150, total= 1.6min\n",
            "[CV] criterion=gini, max_depth=25, max_features=log2, n_estimators=150 \n",
            "[CV]  criterion=gini, max_depth=25, max_features=log2, n_estimators=150, total= 1.6min\n",
            "[CV] criterion=entropy, max_depth=15, max_features=auto, n_estimators=100 \n",
            "[CV]  criterion=entropy, max_depth=15, max_features=auto, n_estimators=100, total= 1.8min\n",
            "[CV] criterion=entropy, max_depth=15, max_features=auto, n_estimators=100 \n",
            "[CV]  criterion=entropy, max_depth=15, max_features=auto, n_estimators=100, total= 1.8min\n",
            "[CV] criterion=entropy, max_depth=15, max_features=auto, n_estimators=150 \n",
            "[CV]  criterion=entropy, max_depth=15, max_features=auto, n_estimators=150, total= 2.7min\n",
            "[CV] criterion=entropy, max_depth=15, max_features=auto, n_estimators=150 \n",
            "[CV]  criterion=entropy, max_depth=15, max_features=auto, n_estimators=150, total= 2.7min\n",
            "[CV] criterion=entropy, max_depth=15, max_features=log2, n_estimators=100 \n",
            "[CV]  criterion=entropy, max_depth=15, max_features=log2, n_estimators=100, total= 1.4min\n",
            "[CV] criterion=entropy, max_depth=15, max_features=log2, n_estimators=100 \n",
            "[CV]  criterion=entropy, max_depth=15, max_features=log2, n_estimators=100, total= 1.3min\n",
            "[CV] criterion=entropy, max_depth=15, max_features=log2, n_estimators=150 \n",
            "[CV]  criterion=entropy, max_depth=15, max_features=log2, n_estimators=150, total= 2.0min\n",
            "[CV] criterion=entropy, max_depth=15, max_features=log2, n_estimators=150 \n",
            "[CV]  criterion=entropy, max_depth=15, max_features=log2, n_estimators=150, total= 2.0min\n",
            "[CV] criterion=entropy, max_depth=25, max_features=auto, n_estimators=100 \n",
            "[CV]  criterion=entropy, max_depth=25, max_features=auto, n_estimators=100, total= 2.4min\n",
            "[CV] criterion=entropy, max_depth=25, max_features=auto, n_estimators=100 \n",
            "[CV]  criterion=entropy, max_depth=25, max_features=auto, n_estimators=100, total= 2.4min\n",
            "[CV] criterion=entropy, max_depth=25, max_features=auto, n_estimators=150 \n",
            "[CV]  criterion=entropy, max_depth=25, max_features=auto, n_estimators=150, total= 3.5min\n",
            "[CV] criterion=entropy, max_depth=25, max_features=auto, n_estimators=150 \n",
            "[CV]  criterion=entropy, max_depth=25, max_features=auto, n_estimators=150, total= 3.5min\n",
            "[CV] criterion=entropy, max_depth=25, max_features=log2, n_estimators=100 \n",
            "[CV]  criterion=entropy, max_depth=25, max_features=log2, n_estimators=100, total= 1.7min\n",
            "[CV] criterion=entropy, max_depth=25, max_features=log2, n_estimators=100 \n",
            "[CV]  criterion=entropy, max_depth=25, max_features=log2, n_estimators=100, total= 1.7min\n",
            "[CV] criterion=entropy, max_depth=25, max_features=log2, n_estimators=150 \n",
            "[CV]  criterion=entropy, max_depth=25, max_features=log2, n_estimators=150, total= 2.6min\n",
            "[CV] criterion=entropy, max_depth=25, max_features=log2, n_estimators=150 \n",
            "[CV]  criterion=entropy, max_depth=25, max_features=log2, n_estimators=150, total= 2.6min\n"
          ],
          "name": "stdout"
        },
        {
          "output_type": "stream",
          "text": [
            "[Parallel(n_jobs=1)]: Done  32 out of  32 | elapsed: 59.1min finished\n"
          ],
          "name": "stderr"
        }
      ]
    },
    {
      "cell_type": "code",
      "metadata": {
        "id": "LgcAMqymIeEW",
        "colab_type": "code",
        "outputId": "8b45dceb-fc12-46ea-ca8e-ac066f48c898",
        "colab": {
          "base_uri": "https://localhost:8080/",
          "height": 136
        }
      },
      "source": [
        "y_pred9 = clf9.predict(x_NewTest)\n",
        "\n",
        "#evaluaion \n",
        "Accuracy9 = metrics.accuracy_score(y_NewTest, y_pred9)\n",
        "Precision9 = metrics.precision_score(y_NewTest , y_pred9)\n",
        "Recall9 = metrics.recall_score(y_NewTest , y_pred9)\n",
        "F1_Score9 = metrics.f1_score(y_NewTest , y_pred9)\n",
        "Roc9 = metrics.roc_auc_score(y_NewTest, y_pred9)\n",
        "\n",
        "\n",
        "print(\" \\nHard Voting-Ensembling  \")\n",
        "print (\"Accuracy = \" ,  Accuracy9)\n",
        "print (\"Precision = \" , Precision9)\n",
        "print (\"Recall = \" , Recall9)\n",
        "print (\"F1_Score = \" , F1_Score9)\n",
        "print (\"ROC_Curve = \" , Roc9)\n",
        "\n",
        "ro.append(Roc9)\n",
        "acc.append(Accuracy9)\n",
        "pre.append(Precision9) \n",
        "rec.append(Recall9)\n",
        "f.append(F1_Score9)"
      ],
      "execution_count": 0,
      "outputs": [
        {
          "output_type": "stream",
          "text": [
            " \n",
            "Hard Voting-Ensembling  \n",
            "Accuracy =  0.9337918264779791\n",
            "Precision =  0.9335748472909009\n",
            "Recall =  0.934019418503135\n",
            "F1_Score =  0.9337970799830723\n",
            "ROC_Curve =  0.9337918625931877\n"
          ],
          "name": "stdout"
        }
      ]
    },
    {
      "cell_type": "markdown",
      "metadata": {
        "id": "HijZKphjJ7ok",
        "colab_type": "text"
      },
      "source": [
        "##Ploting the comparision between classifiers methods"
      ]
    },
    {
      "cell_type": "code",
      "metadata": {
        "id": "-ZyUtSUfKA4o",
        "colab_type": "code",
        "outputId": "a666d048-3812-4ef9-8ae2-14b227cfdbdc",
        "colab": {
          "base_uri": "https://localhost:8080/",
          "height": 264
        }
      },
      "source": [
        "lab = ['SVM1', 'NB', 'LR', 'DT1', 'DT2', 'DT3', 'RF', 'GB', 'B_NB', 'B_DT','AB', 'HV' ]\n",
        "plt.pie(acc,autopct='%.1f%%',labels=lab,)\n",
        "plt.title('Accuaracy')\n",
        "plt.show()"
      ],
      "execution_count": 0,
      "outputs": [
        {
          "output_type": "display_data",
          "data": {
            "image/png": "[encoded data removed]",
            "text/plain": [
              "<Figure size 432x288 with 1 Axes>"
            ]
          },
          "metadata": {
            "tags": []
          }
        }
      ]
    },
    {
      "cell_type": "code",
      "metadata": {
        "id": "FSk-5sREKvqq",
        "colab_type": "code",
        "outputId": "30cf3c55-9331-47d2-bfcd-20a7d88128d6",
        "colab": {
          "base_uri": "https://localhost:8080/",
          "height": 264
        }
      },
      "source": [
        "lab = ['SVM1', 'NB', 'LR', 'DT1', 'DT2', 'DT3', 'RF', 'GB', 'B_NB', 'B_DT','AB', 'HV' ]\n",
        "plt.pie(pre,autopct='%.1f%%',labels=lab,)\n",
        "plt.title('Precision')\n",
        "plt.show()"
      ],
      "execution_count": 0,
      "outputs": [
        {
          "output_type": "display_data",
          "data": {
            "image/png": "[encoded data removed]",
            "text/plain": [
              "<Figure size 432x288 with 1 Axes>"
            ]
          },
          "metadata": {
            "tags": []
          }
        }
      ]
    },
    {
      "cell_type": "code",
      "metadata": {
        "id": "4qi5j_KVK_kw",
        "colab_type": "code",
        "outputId": "b7a3f70f-eabb-4e1c-dbb8-a1296d5f5f63",
        "colab": {
          "base_uri": "https://localhost:8080/",
          "height": 264
        }
      },
      "source": [
        "lab = ['SVM1', 'NB', 'LR', 'DT1', 'DT2', 'DT3', 'RF', 'GB', 'B_NB', 'B_DT','AB', 'HV' ]\n",
        "plt.pie(rec,autopct='%.1f%%',labels=lab,)\n",
        "plt.title('Recall')\n",
        "plt.show()"
      ],
      "execution_count": 0,
      "outputs": [
        {
          "output_type": "display_data",
          "data": {
            "image/png": "[encoded data removed]",
            "text/plain": [
              "<Figure size 432x288 with 1 Axes>"
            ]
          },
          "metadata": {
            "tags": []
          }
        }
      ]
    },
    {
      "cell_type": "code",
      "metadata": {
        "id": "LJX8jMhtLOqw",
        "colab_type": "code",
        "outputId": "f02de66c-520b-4a5c-a76e-821813df90d9",
        "colab": {
          "base_uri": "https://localhost:8080/",
          "height": 264
        }
      },
      "source": [
        "lab = ['SVM1', 'NB', 'LR', 'DT1', 'DT2', 'DT3', 'RF', 'GB', 'B_NB', 'B_DT','AB', 'HV' ]\n",
        "plt.pie(f,autopct='%.1f%%',labels=lab,)\n",
        "plt.title('F1 Score')\n",
        "plt.show()"
      ],
      "execution_count": 0,
      "outputs": [
        {
          "output_type": "display_data",
          "data": {
            "image/png": "[encoded data removed]",
            "text/plain": [
              "<Figure size 432x288 with 1 Axes>"
            ]
          },
          "metadata": {
            "tags": []
          }
        }
      ]
    },
    {
      "cell_type": "code",
      "metadata": {
        "id": "2StJfaW8Lj1y",
        "colab_type": "code",
        "outputId": "6c516f16-b3e0-4023-c0c4-f58ae4a5386e",
        "colab": {
          "base_uri": "https://localhost:8080/",
          "height": 264
        }
      },
      "source": [
        "lab = ['SVM1', 'NB', 'LR', 'DT1', 'DT2', 'DT3', 'RF', 'GB', 'B_NB', 'B_DT','AB', 'HV' ]\n",
        "plt.pie(ro,autopct='%.1f%%',labels=lab,)\n",
        "plt.title('ROC_Score')\n",
        "plt.show()"
      ],
      "execution_count": 0,
      "outputs": [
        {
          "output_type": "display_data",
          "data": {
            "image/png": "[encoded data removed]",
            "text/plain": [
              "<Figure size 432x288 with 1 Axes>"
            ]
          },
          "metadata": {
            "tags": []
          }
        }
      ]
    },
    {
      "cell_type": "markdown",
      "metadata": {
        "id": "ONuc8UjDsy4t",
        "colab_type": "text"
      },
      "source": [
        "*********************************************************\n",
        "The second method is **Resampling Techniques — Undersample majority class.**"
      ]
    },
    {
      "cell_type": "code",
      "metadata": {
        "id": "NWkT7Hn7tUaE",
        "colab_type": "code",
        "outputId": "2662cb79-d52e-4300-c615-a28a673cc8e1",
        "colab": {
          "base_uri": "https://localhost:8080/",
          "height": 278
        }
      },
      "source": [
        "# concatenate our training data back together\n",
        "z = pd.concat([x_train, y_train], axis=1)\n",
        "\n",
        "# separate minority and majority classes\n",
        "no_action = z[z.target==0]\n",
        "action = z[z.target==1]\n",
        "\n",
        "# upsample minority\n",
        "no_action_downsampled = resample(no_action,\n",
        "                          replace=False, # sample with replacement\n",
        "                          n_samples=len(action)) # match number in majority class\n",
        "\n",
        "# combine majority and upsampled minority\n",
        "downsampled = pd.concat([no_action_downsampled, action])\n",
        "\n",
        "downsampled.target.value_counts().plot(kind='bar', title='Count (target)');"
      ],
      "execution_count": 0,
      "outputs": [
        {
          "output_type": "display_data",
          "data": {
            "image/png": "[encoded data removed]",
            "text/plain": [
              "<Figure size 432x288 with 1 Axes>"
            ]
          },
          "metadata": {
            "tags": []
          }
        }
      ]
    },
    {
      "cell_type": "code",
      "metadata": {
        "id": "XzcLQf1l3OsV",
        "colab_type": "code",
        "outputId": "136a5e51-251c-45d3-d383-81496dc18ece",
        "colab": {
          "base_uri": "https://localhost:8080/",
          "height": 68
        }
      },
      "source": [
        "# check new class counts\n",
        "downsampled.target.value_counts()"
      ],
      "execution_count": 0,
      "outputs": [
        {
          "output_type": "execute_result",
          "data": {
            "text/plain": [
              "1    13984\n",
              "0    13984\n",
              "Name: target, dtype: int64"
            ]
          },
          "metadata": {
            "tags": []
          },
          "execution_count": 18
        }
      ]
    },
    {
      "cell_type": "code",
      "metadata": {
        "id": "dxu1ysTyusij",
        "colab_type": "code",
        "outputId": "93d89172-48c0-403e-a737-2e9c25968872",
        "colab": {
          "base_uri": "https://localhost:8080/",
          "height": 253
        }
      },
      "source": [
        "#Spliting the dataset to train (x) and target (y) after resampling\n",
        "t = downsampled['target']\n",
        "f = downsampled.drop(['target'], axis=1)\n",
        "\n",
        "#Split the data\n",
        "x_train, x_test, y_train, y_test = train_test_split(f, t,  test_size = .3, random_state = 0 )\n",
        "\n",
        "x_train.head()"
      ],
      "execution_count": 0,
      "outputs": [
        {
          "output_type": "execute_result",
          "data": {
            "text/html": [
              "<div>\n",
              "<style scoped>\n",
              "    .dataframe tbody tr th:only-of-type {\n",
              "        vertical-align: middle;\n",
              "    }\n",
              "\n",
              "    .dataframe tbody tr th {\n",
              "        vertical-align: top;\n",
              "    }\n",
              "\n",
              "    .dataframe thead th {\n",
              "        text-align: right;\n",
              "    }\n",
              "</style>\n",
              "<table border=\"1\" class=\"dataframe\">\n",
              "  <thead>\n",
              "    <tr style=\"text-align: right;\">\n",
              "      <th></th>\n",
              "      <th>var_0</th>\n",
              "      <th>var_1</th>\n",
              "      <th>var_2</th>\n",
              "      <th>var_3</th>\n",
              "      <th>var_4</th>\n",
              "      <th>var_5</th>\n",
              "      <th>var_6</th>\n",
              "      <th>var_7</th>\n",
              "      <th>var_8</th>\n",
              "      <th>var_9</th>\n",
              "      <th>var_10</th>\n",
              "      <th>var_11</th>\n",
              "      <th>var_12</th>\n",
              "      <th>var_13</th>\n",
              "      <th>var_14</th>\n",
              "      <th>var_15</th>\n",
              "      <th>var_16</th>\n",
              "      <th>var_17</th>\n",
              "      <th>var_18</th>\n",
              "      <th>var_19</th>\n",
              "      <th>var_20</th>\n",
              "      <th>var_21</th>\n",
              "      <th>var_22</th>\n",
              "      <th>var_23</th>\n",
              "      <th>var_24</th>\n",
              "      <th>var_25</th>\n",
              "      <th>var_26</th>\n",
              "      <th>var_27</th>\n",
              "      <th>var_28</th>\n",
              "      <th>var_29</th>\n",
              "      <th>var_30</th>\n",
              "      <th>var_31</th>\n",
              "      <th>var_32</th>\n",
              "      <th>var_33</th>\n",
              "      <th>var_34</th>\n",
              "      <th>var_35</th>\n",
              "      <th>var_36</th>\n",
              "      <th>var_37</th>\n",
              "      <th>var_38</th>\n",
              "      <th>var_39</th>\n",
              "      <th>...</th>\n",
              "      <th>var_160</th>\n",
              "      <th>var_161</th>\n",
              "      <th>var_162</th>\n",
              "      <th>var_163</th>\n",
              "      <th>var_164</th>\n",
              "      <th>var_165</th>\n",
              "      <th>var_166</th>\n",
              "      <th>var_167</th>\n",
              "      <th>var_168</th>\n",
              "      <th>var_169</th>\n",
              "      <th>var_170</th>\n",
              "      <th>var_171</th>\n",
              "      <th>var_172</th>\n",
              "      <th>var_173</th>\n",
              "      <th>var_174</th>\n",
              "      <th>var_175</th>\n",
              "      <th>var_176</th>\n",
              "      <th>var_177</th>\n",
              "      <th>var_178</th>\n",
              "      <th>var_179</th>\n",
              "      <th>var_180</th>\n",
              "      <th>var_181</th>\n",
              "      <th>var_182</th>\n",
              "      <th>var_183</th>\n",
              "      <th>var_184</th>\n",
              "      <th>var_185</th>\n",
              "      <th>var_186</th>\n",
              "      <th>var_187</th>\n",
              "      <th>var_188</th>\n",
              "      <th>var_189</th>\n",
              "      <th>var_190</th>\n",
              "      <th>var_191</th>\n",
              "      <th>var_192</th>\n",
              "      <th>var_193</th>\n",
              "      <th>var_194</th>\n",
              "      <th>var_195</th>\n",
              "      <th>var_196</th>\n",
              "      <th>var_197</th>\n",
              "      <th>var_198</th>\n",
              "      <th>var_199</th>\n",
              "    </tr>\n",
              "  </thead>\n",
              "  <tbody>\n",
              "    <tr>\n",
              "      <th>86709</th>\n",
              "      <td>-1.910471</td>\n",
              "      <td>0.884936</td>\n",
              "      <td>1.123375</td>\n",
              "      <td>0.339336</td>\n",
              "      <td>1.204369</td>\n",
              "      <td>-1.050175</td>\n",
              "      <td>1.325115</td>\n",
              "      <td>1.219271</td>\n",
              "      <td>-0.502085</td>\n",
              "      <td>0.311047</td>\n",
              "      <td>-0.735649</td>\n",
              "      <td>0.279770</td>\n",
              "      <td>0.416304</td>\n",
              "      <td>1.625462</td>\n",
              "      <td>-1.470885</td>\n",
              "      <td>-1.503061</td>\n",
              "      <td>0.785768</td>\n",
              "      <td>0.685716</td>\n",
              "      <td>-0.806245</td>\n",
              "      <td>1.511808</td>\n",
              "      <td>0.904372</td>\n",
              "      <td>1.566931</td>\n",
              "      <td>-1.084861</td>\n",
              "      <td>0.376472</td>\n",
              "      <td>-1.950447</td>\n",
              "      <td>-1.341329</td>\n",
              "      <td>0.713407</td>\n",
              "      <td>-0.695403</td>\n",
              "      <td>-0.491443</td>\n",
              "      <td>0.595629</td>\n",
              "      <td>0.024788</td>\n",
              "      <td>1.120733</td>\n",
              "      <td>-0.119102</td>\n",
              "      <td>-1.182502</td>\n",
              "      <td>-0.949663</td>\n",
              "      <td>0.107500</td>\n",
              "      <td>0.038613</td>\n",
              "      <td>-0.338708</td>\n",
              "      <td>0.488764</td>\n",
              "      <td>0.230003</td>\n",
              "      <td>...</td>\n",
              "      <td>0.610878</td>\n",
              "      <td>-0.967673</td>\n",
              "      <td>0.931809</td>\n",
              "      <td>-1.907618</td>\n",
              "      <td>0.147259</td>\n",
              "      <td>0.923644</td>\n",
              "      <td>1.966993</td>\n",
              "      <td>1.016498</td>\n",
              "      <td>-1.453205</td>\n",
              "      <td>-0.325113</td>\n",
              "      <td>0.566866</td>\n",
              "      <td>0.406690</td>\n",
              "      <td>1.164415</td>\n",
              "      <td>1.217024</td>\n",
              "      <td>0.742183</td>\n",
              "      <td>-0.904864</td>\n",
              "      <td>0.053845</td>\n",
              "      <td>0.347168</td>\n",
              "      <td>-0.170743</td>\n",
              "      <td>-0.449506</td>\n",
              "      <td>0.879883</td>\n",
              "      <td>-0.241583</td>\n",
              "      <td>0.103843</td>\n",
              "      <td>-0.742425</td>\n",
              "      <td>0.498744</td>\n",
              "      <td>-0.949226</td>\n",
              "      <td>1.100439</td>\n",
              "      <td>1.156882</td>\n",
              "      <td>1.247156</td>\n",
              "      <td>0.784997</td>\n",
              "      <td>-1.705898</td>\n",
              "      <td>-0.521757</td>\n",
              "      <td>1.847961</td>\n",
              "      <td>-0.319456</td>\n",
              "      <td>0.536087</td>\n",
              "      <td>1.141545</td>\n",
              "      <td>1.235923</td>\n",
              "      <td>1.381413</td>\n",
              "      <td>-1.026597</td>\n",
              "      <td>-0.184208</td>\n",
              "    </tr>\n",
              "    <tr>\n",
              "      <th>102029</th>\n",
              "      <td>2.203221</td>\n",
              "      <td>-0.921419</td>\n",
              "      <td>-2.095770</td>\n",
              "      <td>-0.574963</td>\n",
              "      <td>0.608797</td>\n",
              "      <td>-0.952276</td>\n",
              "      <td>1.061558</td>\n",
              "      <td>-0.472182</td>\n",
              "      <td>1.894044</td>\n",
              "      <td>-0.089255</td>\n",
              "      <td>0.473326</td>\n",
              "      <td>-0.732584</td>\n",
              "      <td>-1.542564</td>\n",
              "      <td>0.523193</td>\n",
              "      <td>0.670978</td>\n",
              "      <td>0.973437</td>\n",
              "      <td>0.452307</td>\n",
              "      <td>-0.388504</td>\n",
              "      <td>-1.567452</td>\n",
              "      <td>-1.619319</td>\n",
              "      <td>1.149171</td>\n",
              "      <td>0.684596</td>\n",
              "      <td>1.606794</td>\n",
              "      <td>-1.042224</td>\n",
              "      <td>-0.999355</td>\n",
              "      <td>-0.006640</td>\n",
              "      <td>2.285729</td>\n",
              "      <td>1.504359</td>\n",
              "      <td>-1.826708</td>\n",
              "      <td>-0.039708</td>\n",
              "      <td>-1.075024</td>\n",
              "      <td>-0.384440</td>\n",
              "      <td>-0.563027</td>\n",
              "      <td>0.084874</td>\n",
              "      <td>0.556210</td>\n",
              "      <td>1.061541</td>\n",
              "      <td>2.260974</td>\n",
              "      <td>-0.779740</td>\n",
              "      <td>-0.133967</td>\n",
              "      <td>-1.427204</td>\n",
              "      <td>...</td>\n",
              "      <td>0.127019</td>\n",
              "      <td>1.021886</td>\n",
              "      <td>0.974215</td>\n",
              "      <td>0.285921</td>\n",
              "      <td>1.134897</td>\n",
              "      <td>1.735420</td>\n",
              "      <td>0.045620</td>\n",
              "      <td>0.471936</td>\n",
              "      <td>-0.466173</td>\n",
              "      <td>-0.545990</td>\n",
              "      <td>-0.781275</td>\n",
              "      <td>-0.883568</td>\n",
              "      <td>0.245569</td>\n",
              "      <td>-2.079310</td>\n",
              "      <td>-1.367407</td>\n",
              "      <td>0.804619</td>\n",
              "      <td>0.847225</td>\n",
              "      <td>0.917143</td>\n",
              "      <td>0.927151</td>\n",
              "      <td>-1.529732</td>\n",
              "      <td>1.050033</td>\n",
              "      <td>0.796133</td>\n",
              "      <td>0.675255</td>\n",
              "      <td>0.415363</td>\n",
              "      <td>-0.342894</td>\n",
              "      <td>1.095321</td>\n",
              "      <td>-0.048115</td>\n",
              "      <td>-0.327928</td>\n",
              "      <td>0.332157</td>\n",
              "      <td>0.854952</td>\n",
              "      <td>-1.223827</td>\n",
              "      <td>0.818748</td>\n",
              "      <td>-0.620824</td>\n",
              "      <td>-1.108279</td>\n",
              "      <td>0.542371</td>\n",
              "      <td>-0.874310</td>\n",
              "      <td>0.051439</td>\n",
              "      <td>0.127213</td>\n",
              "      <td>0.592101</td>\n",
              "      <td>-1.190101</td>\n",
              "    </tr>\n",
              "    <tr>\n",
              "      <th>147754</th>\n",
              "      <td>0.649197</td>\n",
              "      <td>-0.638039</td>\n",
              "      <td>0.034651</td>\n",
              "      <td>-1.579214</td>\n",
              "      <td>0.058693</td>\n",
              "      <td>1.432489</td>\n",
              "      <td>0.335968</td>\n",
              "      <td>0.499390</td>\n",
              "      <td>0.987971</td>\n",
              "      <td>-1.272997</td>\n",
              "      <td>0.484433</td>\n",
              "      <td>-0.552675</td>\n",
              "      <td>-0.384501</td>\n",
              "      <td>-1.278694</td>\n",
              "      <td>-0.258110</td>\n",
              "      <td>1.801446</td>\n",
              "      <td>-0.248557</td>\n",
              "      <td>0.608026</td>\n",
              "      <td>-0.731838</td>\n",
              "      <td>1.032246</td>\n",
              "      <td>0.221112</td>\n",
              "      <td>0.528859</td>\n",
              "      <td>1.898898</td>\n",
              "      <td>0.632312</td>\n",
              "      <td>-0.498592</td>\n",
              "      <td>-1.020878</td>\n",
              "      <td>0.273502</td>\n",
              "      <td>1.607594</td>\n",
              "      <td>2.191086</td>\n",
              "      <td>1.011771</td>\n",
              "      <td>0.278279</td>\n",
              "      <td>-0.459722</td>\n",
              "      <td>-1.922780</td>\n",
              "      <td>-0.123047</td>\n",
              "      <td>-1.424356</td>\n",
              "      <td>-0.158411</td>\n",
              "      <td>0.611695</td>\n",
              "      <td>-0.410228</td>\n",
              "      <td>1.169782</td>\n",
              "      <td>1.243045</td>\n",
              "      <td>...</td>\n",
              "      <td>0.886194</td>\n",
              "      <td>-0.010978</td>\n",
              "      <td>-0.463717</td>\n",
              "      <td>0.724306</td>\n",
              "      <td>-0.654112</td>\n",
              "      <td>-0.549992</td>\n",
              "      <td>1.131143</td>\n",
              "      <td>-1.490260</td>\n",
              "      <td>0.623017</td>\n",
              "      <td>0.388678</td>\n",
              "      <td>-0.406824</td>\n",
              "      <td>0.411413</td>\n",
              "      <td>0.164270</td>\n",
              "      <td>1.044348</td>\n",
              "      <td>-0.384532</td>\n",
              "      <td>1.776211</td>\n",
              "      <td>2.108538</td>\n",
              "      <td>-0.858094</td>\n",
              "      <td>0.151538</td>\n",
              "      <td>-0.830827</td>\n",
              "      <td>-0.319380</td>\n",
              "      <td>0.489687</td>\n",
              "      <td>-0.538635</td>\n",
              "      <td>-0.538823</td>\n",
              "      <td>-0.671411</td>\n",
              "      <td>0.532313</td>\n",
              "      <td>-0.651297</td>\n",
              "      <td>1.239304</td>\n",
              "      <td>-0.791152</td>\n",
              "      <td>-2.239137</td>\n",
              "      <td>-1.126939</td>\n",
              "      <td>0.600540</td>\n",
              "      <td>0.258223</td>\n",
              "      <td>0.550956</td>\n",
              "      <td>0.422664</td>\n",
              "      <td>-0.656941</td>\n",
              "      <td>-1.097020</td>\n",
              "      <td>1.677521</td>\n",
              "      <td>-1.147722</td>\n",
              "      <td>0.309354</td>\n",
              "    </tr>\n",
              "    <tr>\n",
              "      <th>99242</th>\n",
              "      <td>0.074238</td>\n",
              "      <td>-0.262067</td>\n",
              "      <td>-2.182596</td>\n",
              "      <td>0.174213</td>\n",
              "      <td>-0.052942</td>\n",
              "      <td>-0.823296</td>\n",
              "      <td>1.200491</td>\n",
              "      <td>0.854679</td>\n",
              "      <td>0.925648</td>\n",
              "      <td>0.788349</td>\n",
              "      <td>1.763743</td>\n",
              "      <td>1.557257</td>\n",
              "      <td>-0.731762</td>\n",
              "      <td>-2.467825</td>\n",
              "      <td>-1.311092</td>\n",
              "      <td>-0.773908</td>\n",
              "      <td>1.777082</td>\n",
              "      <td>1.055170</td>\n",
              "      <td>0.912160</td>\n",
              "      <td>1.582625</td>\n",
              "      <td>-0.711049</td>\n",
              "      <td>0.829706</td>\n",
              "      <td>1.274801</td>\n",
              "      <td>0.515210</td>\n",
              "      <td>1.166964</td>\n",
              "      <td>-0.985505</td>\n",
              "      <td>-1.764762</td>\n",
              "      <td>-0.862757</td>\n",
              "      <td>0.785356</td>\n",
              "      <td>-0.650924</td>\n",
              "      <td>-0.868287</td>\n",
              "      <td>-0.589497</td>\n",
              "      <td>-0.744995</td>\n",
              "      <td>-2.195918</td>\n",
              "      <td>1.529599</td>\n",
              "      <td>1.545136</td>\n",
              "      <td>1.639205</td>\n",
              "      <td>-0.867839</td>\n",
              "      <td>-0.233222</td>\n",
              "      <td>1.280402</td>\n",
              "      <td>...</td>\n",
              "      <td>-0.320931</td>\n",
              "      <td>-0.356490</td>\n",
              "      <td>1.834592</td>\n",
              "      <td>0.793576</td>\n",
              "      <td>1.997319</td>\n",
              "      <td>-0.991219</td>\n",
              "      <td>-0.747761</td>\n",
              "      <td>1.232567</td>\n",
              "      <td>0.206755</td>\n",
              "      <td>0.339143</td>\n",
              "      <td>2.483216</td>\n",
              "      <td>0.828501</td>\n",
              "      <td>0.861907</td>\n",
              "      <td>1.566566</td>\n",
              "      <td>0.180612</td>\n",
              "      <td>-1.773627</td>\n",
              "      <td>-0.065520</td>\n",
              "      <td>-1.524878</td>\n",
              "      <td>1.251577</td>\n",
              "      <td>-0.010770</td>\n",
              "      <td>-0.224555</td>\n",
              "      <td>1.912064</td>\n",
              "      <td>0.573955</td>\n",
              "      <td>-0.194973</td>\n",
              "      <td>1.987509</td>\n",
              "      <td>1.262998</td>\n",
              "      <td>1.438929</td>\n",
              "      <td>1.147776</td>\n",
              "      <td>0.268196</td>\n",
              "      <td>0.713506</td>\n",
              "      <td>-0.114594</td>\n",
              "      <td>0.492081</td>\n",
              "      <td>0.041978</td>\n",
              "      <td>-1.874483</td>\n",
              "      <td>-1.396481</td>\n",
              "      <td>-0.423762</td>\n",
              "      <td>2.085409</td>\n",
              "      <td>0.139799</td>\n",
              "      <td>-0.415625</td>\n",
              "      <td>0.490165</td>\n",
              "    </tr>\n",
              "    <tr>\n",
              "      <th>159060</th>\n",
              "      <td>0.911298</td>\n",
              "      <td>1.021676</td>\n",
              "      <td>-2.029277</td>\n",
              "      <td>-0.031042</td>\n",
              "      <td>0.170759</td>\n",
              "      <td>0.331150</td>\n",
              "      <td>0.294426</td>\n",
              "      <td>-1.068864</td>\n",
              "      <td>0.882619</td>\n",
              "      <td>-0.663070</td>\n",
              "      <td>-0.026804</td>\n",
              "      <td>-0.385044</td>\n",
              "      <td>0.997177</td>\n",
              "      <td>0.997854</td>\n",
              "      <td>-1.982517</td>\n",
              "      <td>-0.830015</td>\n",
              "      <td>1.085876</td>\n",
              "      <td>-1.212626</td>\n",
              "      <td>0.072686</td>\n",
              "      <td>-1.466693</td>\n",
              "      <td>0.624448</td>\n",
              "      <td>-1.164025</td>\n",
              "      <td>0.166600</td>\n",
              "      <td>-0.237126</td>\n",
              "      <td>-1.282843</td>\n",
              "      <td>0.072860</td>\n",
              "      <td>0.263202</td>\n",
              "      <td>0.103502</td>\n",
              "      <td>0.557365</td>\n",
              "      <td>2.634097</td>\n",
              "      <td>0.130937</td>\n",
              "      <td>0.960771</td>\n",
              "      <td>-1.051314</td>\n",
              "      <td>-2.075496</td>\n",
              "      <td>-0.367513</td>\n",
              "      <td>-1.299650</td>\n",
              "      <td>-0.973352</td>\n",
              "      <td>2.084300</td>\n",
              "      <td>1.564276</td>\n",
              "      <td>-1.940447</td>\n",
              "      <td>...</td>\n",
              "      <td>-1.161703</td>\n",
              "      <td>0.529543</td>\n",
              "      <td>-0.154829</td>\n",
              "      <td>0.479705</td>\n",
              "      <td>-1.460339</td>\n",
              "      <td>1.277195</td>\n",
              "      <td>0.134885</td>\n",
              "      <td>0.107265</td>\n",
              "      <td>-1.236623</td>\n",
              "      <td>-1.523697</td>\n",
              "      <td>-0.179301</td>\n",
              "      <td>1.268368</td>\n",
              "      <td>-1.374094</td>\n",
              "      <td>2.217969</td>\n",
              "      <td>2.153481</td>\n",
              "      <td>1.513190</td>\n",
              "      <td>0.743485</td>\n",
              "      <td>-1.058635</td>\n",
              "      <td>0.163345</td>\n",
              "      <td>0.754732</td>\n",
              "      <td>0.952623</td>\n",
              "      <td>-0.786975</td>\n",
              "      <td>-0.127397</td>\n",
              "      <td>0.511231</td>\n",
              "      <td>1.052120</td>\n",
              "      <td>2.042655</td>\n",
              "      <td>-1.781259</td>\n",
              "      <td>0.934181</td>\n",
              "      <td>0.094617</td>\n",
              "      <td>-1.644368</td>\n",
              "      <td>-0.868798</td>\n",
              "      <td>0.582943</td>\n",
              "      <td>-1.549654</td>\n",
              "      <td>-0.504174</td>\n",
              "      <td>0.155564</td>\n",
              "      <td>-1.149187</td>\n",
              "      <td>-1.103217</td>\n",
              "      <td>2.029400</td>\n",
              "      <td>-0.802680</td>\n",
              "      <td>-1.810297</td>\n",
              "    </tr>\n",
              "  </tbody>\n",
              "</table>\n",
              "<p>5 rows × 200 columns</p>\n",
              "</div>"
            ],
            "text/plain": [
              "           var_0     var_1     var_2  ...   var_197   var_198   var_199\n",
              "86709  -1.910471  0.884936  1.123375  ...  1.381413 -1.026597 -0.184208\n",
              "102029  2.203221 -0.921419 -2.095770  ...  0.127213  0.592101 -1.190101\n",
              "147754  0.649197 -0.638039  0.034651  ...  1.677521 -1.147722  0.309354\n",
              "99242   0.074238 -0.262067 -2.182596  ...  0.139799 -0.415625  0.490165\n",
              "159060  0.911298  1.021676 -2.029277  ...  2.029400 -0.802680 -1.810297\n",
              "\n",
              "[5 rows x 200 columns]"
            ]
          },
          "metadata": {
            "tags": []
          },
          "execution_count": 19
        }
      ]
    },
    {
      "cell_type": "code",
      "metadata": {
        "id": "fwdmBg3u36xv",
        "colab_type": "code",
        "outputId": "d3166b09-6c34-4dde-a6f4-a117a3208429",
        "colab": {
          "base_uri": "https://localhost:8080/",
          "height": 34
        }
      },
      "source": [
        "x_train.shape, y_train.shape"
      ],
      "execution_count": 0,
      "outputs": [
        {
          "output_type": "execute_result",
          "data": {
            "text/plain": [
              "((19577, 200), (19577,))"
            ]
          },
          "metadata": {
            "tags": []
          },
          "execution_count": 20
        }
      ]
    },
    {
      "cell_type": "code",
      "metadata": {
        "id": "tuUvaSQeu40H",
        "colab_type": "code",
        "outputId": "85a9442a-6c81-4084-9bbd-31d16dde2398",
        "colab": {
          "base_uri": "https://localhost:8080/",
          "height": 863
        }
      },
      "source": [
        "#Rank the features and select the important ones\n",
        "sel=SelectFromModel(RandomForestClassifier(n_estimators=60,max_depth=30))\n",
        "sel.fit(x_train,y_train)\n",
        "\n",
        "#Which features are important \n",
        "sel.get_support()\n",
        "\n",
        "#make list and count the selected features\n",
        "selected_feat=x_train.columns[(sel.get_support())]\n",
        "len(selected_feat)\n",
        "\n",
        "#The name of the selected features\n",
        "print(selected_feat)\n",
        "\n",
        "#Ploting the distribution of importance top 20\n",
        "feat_importances=pd.Series(sel.estimator_.feature_importances_)\n",
        "feat_importances.nlargest(20).plot(kind='bar')\n",
        "\n",
        "importances_df = pd.DataFrame(sel.estimator_.feature_importances_, columns=['Feature_Importance'],\n",
        "                             index=x_train.columns)\n",
        "importances_df.sort_values(by=['Feature_Importance'], ascending=False, inplace=True)\n",
        "importances_df"
      ],
      "execution_count": 0,
      "outputs": [
        {
          "output_type": "stream",
          "text": [
            "Index(['var_0', 'var_1', 'var_2', 'var_6', 'var_9', 'var_12', 'var_13',\n",
            "       'var_18', 'var_21', 'var_22', 'var_26', 'var_33', 'var_34', 'var_40',\n",
            "       'var_44', 'var_53', 'var_67', 'var_75', 'var_76', 'var_78', 'var_80',\n",
            "       'var_81', 'var_86', 'var_91', 'var_92', 'var_94', 'var_95', 'var_99',\n",
            "       'var_108', 'var_109', 'var_110', 'var_112', 'var_115', 'var_118',\n",
            "       'var_121', 'var_122', 'var_123', 'var_127', 'var_133', 'var_139',\n",
            "       'var_146', 'var_147', 'var_148', 'var_149', 'var_154', 'var_164',\n",
            "       'var_165', 'var_166', 'var_169', 'var_170', 'var_172', 'var_173',\n",
            "       'var_174', 'var_177', 'var_179', 'var_180', 'var_184', 'var_188',\n",
            "       'var_190', 'var_191', 'var_192', 'var_198'],\n",
            "      dtype='object')\n"
          ],
          "name": "stdout"
        },
        {
          "output_type": "execute_result",
          "data": {
            "text/html": [
              "<div>\n",
              "<style scoped>\n",
              "    .dataframe tbody tr th:only-of-type {\n",
              "        vertical-align: middle;\n",
              "    }\n",
              "\n",
              "    .dataframe tbody tr th {\n",
              "        vertical-align: top;\n",
              "    }\n",
              "\n",
              "    .dataframe thead th {\n",
              "        text-align: right;\n",
              "    }\n",
              "</style>\n",
              "<table border=\"1\" class=\"dataframe\">\n",
              "  <thead>\n",
              "    <tr style=\"text-align: right;\">\n",
              "      <th></th>\n",
              "      <th>Feature_Importance</th>\n",
              "    </tr>\n",
              "  </thead>\n",
              "  <tbody>\n",
              "    <tr>\n",
              "      <th>var_81</th>\n",
              "      <td>0.015675</td>\n",
              "    </tr>\n",
              "    <tr>\n",
              "      <th>var_53</th>\n",
              "      <td>0.012075</td>\n",
              "    </tr>\n",
              "    <tr>\n",
              "      <th>var_110</th>\n",
              "      <td>0.011822</td>\n",
              "    </tr>\n",
              "    <tr>\n",
              "      <th>var_139</th>\n",
              "      <td>0.011700</td>\n",
              "    </tr>\n",
              "    <tr>\n",
              "      <th>var_12</th>\n",
              "      <td>0.010499</td>\n",
              "    </tr>\n",
              "    <tr>\n",
              "      <th>...</th>\n",
              "      <td>...</td>\n",
              "    </tr>\n",
              "    <tr>\n",
              "      <th>var_38</th>\n",
              "      <td>0.003527</td>\n",
              "    </tr>\n",
              "    <tr>\n",
              "      <th>var_136</th>\n",
              "      <td>0.003473</td>\n",
              "    </tr>\n",
              "    <tr>\n",
              "      <th>var_25</th>\n",
              "      <td>0.003450</td>\n",
              "    </tr>\n",
              "    <tr>\n",
              "      <th>var_100</th>\n",
              "      <td>0.003437</td>\n",
              "    </tr>\n",
              "    <tr>\n",
              "      <th>var_103</th>\n",
              "      <td>0.003359</td>\n",
              "    </tr>\n",
              "  </tbody>\n",
              "</table>\n",
              "<p>200 rows × 1 columns</p>\n",
              "</div>"
            ],
            "text/plain": [
              "         Feature_Importance\n",
              "var_81             0.015675\n",
              "var_53             0.012075\n",
              "var_110            0.011822\n",
              "var_139            0.011700\n",
              "var_12             0.010499\n",
              "...                     ...\n",
              "var_38             0.003527\n",
              "var_136            0.003473\n",
              "var_25             0.003450\n",
              "var_100            0.003437\n",
              "var_103            0.003359\n",
              "\n",
              "[200 rows x 1 columns]"
            ]
          },
          "metadata": {
            "tags": []
          },
          "execution_count": 21
        },
        {
          "output_type": "display_data",
          "data": {
            "image/png": "[encoded data removed]",
            "text/plain": [
              "<Figure size 432x288 with 1 Axes>"
            ]
          },
          "metadata": {
            "tags": []
          }
        }
      ]
    },
    {
      "cell_type": "code",
      "metadata": {
        "id": "jbGDETTh4NMS",
        "colab_type": "code",
        "outputId": "ba692899-ecbb-4c27-ce97-b0db58413385",
        "colab": {
          "base_uri": "https://localhost:8080/",
          "height": 34
        }
      },
      "source": [
        "len(selected_feat)"
      ],
      "execution_count": 0,
      "outputs": [
        {
          "output_type": "execute_result",
          "data": {
            "text/plain": [
              "62"
            ]
          },
          "metadata": {
            "tags": []
          },
          "execution_count": 22
        }
      ]
    },
    {
      "cell_type": "code",
      "metadata": {
        "id": "8i5gmLtE4Vcn",
        "colab_type": "code",
        "outputId": "53a14e50-8c87-4fa8-f0ba-c746f6ec846c",
        "colab": {
          "base_uri": "https://localhost:8080/",
          "height": 224
        }
      },
      "source": [
        "#Selecting the important features\n",
        "features_x_new=f[selected_feat]\n",
        "features_x_new.shape\n",
        "features_x_new.head()"
      ],
      "execution_count": 0,
      "outputs": [
        {
          "output_type": "execute_result",
          "data": {
            "text/html": [
              "<div>\n",
              "<style scoped>\n",
              "    .dataframe tbody tr th:only-of-type {\n",
              "        vertical-align: middle;\n",
              "    }\n",
              "\n",
              "    .dataframe tbody tr th {\n",
              "        vertical-align: top;\n",
              "    }\n",
              "\n",
              "    .dataframe thead th {\n",
              "        text-align: right;\n",
              "    }\n",
              "</style>\n",
              "<table border=\"1\" class=\"dataframe\">\n",
              "  <thead>\n",
              "    <tr style=\"text-align: right;\">\n",
              "      <th></th>\n",
              "      <th>var_0</th>\n",
              "      <th>var_1</th>\n",
              "      <th>var_2</th>\n",
              "      <th>var_6</th>\n",
              "      <th>var_9</th>\n",
              "      <th>var_12</th>\n",
              "      <th>var_13</th>\n",
              "      <th>var_18</th>\n",
              "      <th>var_21</th>\n",
              "      <th>var_22</th>\n",
              "      <th>var_26</th>\n",
              "      <th>var_33</th>\n",
              "      <th>var_34</th>\n",
              "      <th>var_40</th>\n",
              "      <th>var_44</th>\n",
              "      <th>var_53</th>\n",
              "      <th>var_67</th>\n",
              "      <th>var_75</th>\n",
              "      <th>var_76</th>\n",
              "      <th>var_78</th>\n",
              "      <th>var_80</th>\n",
              "      <th>var_81</th>\n",
              "      <th>var_86</th>\n",
              "      <th>var_91</th>\n",
              "      <th>var_92</th>\n",
              "      <th>var_94</th>\n",
              "      <th>var_95</th>\n",
              "      <th>var_99</th>\n",
              "      <th>var_108</th>\n",
              "      <th>var_109</th>\n",
              "      <th>var_110</th>\n",
              "      <th>var_112</th>\n",
              "      <th>var_115</th>\n",
              "      <th>var_118</th>\n",
              "      <th>var_121</th>\n",
              "      <th>var_122</th>\n",
              "      <th>var_123</th>\n",
              "      <th>var_127</th>\n",
              "      <th>var_133</th>\n",
              "      <th>var_139</th>\n",
              "      <th>var_146</th>\n",
              "      <th>var_147</th>\n",
              "      <th>var_148</th>\n",
              "      <th>var_149</th>\n",
              "      <th>var_154</th>\n",
              "      <th>var_164</th>\n",
              "      <th>var_165</th>\n",
              "      <th>var_166</th>\n",
              "      <th>var_169</th>\n",
              "      <th>var_170</th>\n",
              "      <th>var_172</th>\n",
              "      <th>var_173</th>\n",
              "      <th>var_174</th>\n",
              "      <th>var_177</th>\n",
              "      <th>var_179</th>\n",
              "      <th>var_180</th>\n",
              "      <th>var_184</th>\n",
              "      <th>var_188</th>\n",
              "      <th>var_190</th>\n",
              "      <th>var_191</th>\n",
              "      <th>var_192</th>\n",
              "      <th>var_198</th>\n",
              "    </tr>\n",
              "  </thead>\n",
              "  <tbody>\n",
              "    <tr>\n",
              "      <th>126710</th>\n",
              "      <td>1.598788</td>\n",
              "      <td>-0.046241</td>\n",
              "      <td>-0.488658</td>\n",
              "      <td>0.370355</td>\n",
              "      <td>0.124255</td>\n",
              "      <td>0.382630</td>\n",
              "      <td>-0.223414</td>\n",
              "      <td>0.410998</td>\n",
              "      <td>-1.042303</td>\n",
              "      <td>-1.364501</td>\n",
              "      <td>-2.930681</td>\n",
              "      <td>0.325972</td>\n",
              "      <td>0.288306</td>\n",
              "      <td>1.924211</td>\n",
              "      <td>-2.105432</td>\n",
              "      <td>-0.335101</td>\n",
              "      <td>-0.267590</td>\n",
              "      <td>0.975139</td>\n",
              "      <td>1.418853</td>\n",
              "      <td>-0.346867</td>\n",
              "      <td>-0.371366</td>\n",
              "      <td>-1.043340</td>\n",
              "      <td>-0.041718</td>\n",
              "      <td>0.924124</td>\n",
              "      <td>-0.060049</td>\n",
              "      <td>0.438258</td>\n",
              "      <td>-1.695243</td>\n",
              "      <td>-1.088405</td>\n",
              "      <td>0.559730</td>\n",
              "      <td>1.675170</td>\n",
              "      <td>-0.940756</td>\n",
              "      <td>-1.416662</td>\n",
              "      <td>0.808241</td>\n",
              "      <td>0.349204</td>\n",
              "      <td>-2.292384</td>\n",
              "      <td>-0.702120</td>\n",
              "      <td>-0.668022</td>\n",
              "      <td>0.782424</td>\n",
              "      <td>-0.995921</td>\n",
              "      <td>-0.434727</td>\n",
              "      <td>-0.396477</td>\n",
              "      <td>0.893758</td>\n",
              "      <td>0.492863</td>\n",
              "      <td>0.522437</td>\n",
              "      <td>-0.137989</td>\n",
              "      <td>-0.434755</td>\n",
              "      <td>-0.666111</td>\n",
              "      <td>1.015368</td>\n",
              "      <td>1.174741</td>\n",
              "      <td>0.195489</td>\n",
              "      <td>0.101140</td>\n",
              "      <td>1.145711</td>\n",
              "      <td>-0.190583</td>\n",
              "      <td>0.756733</td>\n",
              "      <td>2.370017</td>\n",
              "      <td>2.324089</td>\n",
              "      <td>-1.258355</td>\n",
              "      <td>1.799076</td>\n",
              "      <td>-0.773335</td>\n",
              "      <td>0.524596</td>\n",
              "      <td>-0.492173</td>\n",
              "      <td>0.832458</td>\n",
              "    </tr>\n",
              "    <tr>\n",
              "      <th>120307</th>\n",
              "      <td>1.478856</td>\n",
              "      <td>0.461310</td>\n",
              "      <td>0.110155</td>\n",
              "      <td>-0.649487</td>\n",
              "      <td>1.806674</td>\n",
              "      <td>1.738000</td>\n",
              "      <td>-1.168230</td>\n",
              "      <td>1.066388</td>\n",
              "      <td>0.226293</td>\n",
              "      <td>0.597612</td>\n",
              "      <td>0.701941</td>\n",
              "      <td>-1.221185</td>\n",
              "      <td>1.051951</td>\n",
              "      <td>0.845863</td>\n",
              "      <td>-1.032141</td>\n",
              "      <td>-0.125490</td>\n",
              "      <td>0.973793</td>\n",
              "      <td>1.059495</td>\n",
              "      <td>-1.018775</td>\n",
              "      <td>1.192465</td>\n",
              "      <td>-0.553691</td>\n",
              "      <td>-0.308678</td>\n",
              "      <td>-0.854206</td>\n",
              "      <td>0.029209</td>\n",
              "      <td>0.943429</td>\n",
              "      <td>0.733660</td>\n",
              "      <td>0.095382</td>\n",
              "      <td>0.219429</td>\n",
              "      <td>1.237733</td>\n",
              "      <td>0.142617</td>\n",
              "      <td>0.061299</td>\n",
              "      <td>-1.074334</td>\n",
              "      <td>-1.637556</td>\n",
              "      <td>-1.805242</td>\n",
              "      <td>0.546782</td>\n",
              "      <td>1.754199</td>\n",
              "      <td>0.767674</td>\n",
              "      <td>-1.002528</td>\n",
              "      <td>1.154490</td>\n",
              "      <td>0.981343</td>\n",
              "      <td>-0.205877</td>\n",
              "      <td>-1.005091</td>\n",
              "      <td>-1.186422</td>\n",
              "      <td>-0.012098</td>\n",
              "      <td>1.630067</td>\n",
              "      <td>2.076710</td>\n",
              "      <td>-0.535482</td>\n",
              "      <td>-2.132459</td>\n",
              "      <td>-0.166222</td>\n",
              "      <td>0.781394</td>\n",
              "      <td>-0.113878</td>\n",
              "      <td>-0.256732</td>\n",
              "      <td>-1.622241</td>\n",
              "      <td>-1.323728</td>\n",
              "      <td>0.254473</td>\n",
              "      <td>-0.632634</td>\n",
              "      <td>-0.213804</td>\n",
              "      <td>-0.011731</td>\n",
              "      <td>0.935953</td>\n",
              "      <td>0.378628</td>\n",
              "      <td>0.251797</td>\n",
              "      <td>0.272998</td>\n",
              "    </tr>\n",
              "    <tr>\n",
              "      <th>187832</th>\n",
              "      <td>0.749590</td>\n",
              "      <td>0.822566</td>\n",
              "      <td>0.693482</td>\n",
              "      <td>0.960012</td>\n",
              "      <td>-1.546181</td>\n",
              "      <td>1.170281</td>\n",
              "      <td>-0.169766</td>\n",
              "      <td>-0.424718</td>\n",
              "      <td>0.557749</td>\n",
              "      <td>0.823423</td>\n",
              "      <td>0.344202</td>\n",
              "      <td>0.263621</td>\n",
              "      <td>0.224607</td>\n",
              "      <td>-0.116858</td>\n",
              "      <td>0.435048</td>\n",
              "      <td>0.729690</td>\n",
              "      <td>2.098869</td>\n",
              "      <td>1.142480</td>\n",
              "      <td>-1.434857</td>\n",
              "      <td>-1.106025</td>\n",
              "      <td>0.171091</td>\n",
              "      <td>1.094503</td>\n",
              "      <td>0.471202</td>\n",
              "      <td>-0.135885</td>\n",
              "      <td>-0.908495</td>\n",
              "      <td>0.205643</td>\n",
              "      <td>0.206149</td>\n",
              "      <td>-0.590216</td>\n",
              "      <td>0.190335</td>\n",
              "      <td>0.757700</td>\n",
              "      <td>-1.154344</td>\n",
              "      <td>-0.644838</td>\n",
              "      <td>-0.534096</td>\n",
              "      <td>-0.563840</td>\n",
              "      <td>-1.272151</td>\n",
              "      <td>0.777313</td>\n",
              "      <td>0.334576</td>\n",
              "      <td>1.042139</td>\n",
              "      <td>2.051715</td>\n",
              "      <td>-2.388460</td>\n",
              "      <td>-0.948589</td>\n",
              "      <td>0.954837</td>\n",
              "      <td>-0.772248</td>\n",
              "      <td>-0.162120</td>\n",
              "      <td>0.817033</td>\n",
              "      <td>0.095296</td>\n",
              "      <td>-0.599592</td>\n",
              "      <td>0.838460</td>\n",
              "      <td>-1.482011</td>\n",
              "      <td>0.049374</td>\n",
              "      <td>-1.355740</td>\n",
              "      <td>0.946973</td>\n",
              "      <td>-0.595773</td>\n",
              "      <td>0.449797</td>\n",
              "      <td>-1.362170</td>\n",
              "      <td>0.457871</td>\n",
              "      <td>-1.129039</td>\n",
              "      <td>0.256332</td>\n",
              "      <td>0.866390</td>\n",
              "      <td>-0.459638</td>\n",
              "      <td>0.849462</td>\n",
              "      <td>0.788618</td>\n",
              "    </tr>\n",
              "    <tr>\n",
              "      <th>107811</th>\n",
              "      <td>0.232328</td>\n",
              "      <td>-1.460081</td>\n",
              "      <td>-0.784582</td>\n",
              "      <td>0.047601</td>\n",
              "      <td>0.997002</td>\n",
              "      <td>0.953506</td>\n",
              "      <td>-0.733768</td>\n",
              "      <td>1.266557</td>\n",
              "      <td>1.304625</td>\n",
              "      <td>-1.361305</td>\n",
              "      <td>-1.063857</td>\n",
              "      <td>-0.917552</td>\n",
              "      <td>-0.141152</td>\n",
              "      <td>-1.497408</td>\n",
              "      <td>0.373046</td>\n",
              "      <td>-0.792897</td>\n",
              "      <td>-0.729824</td>\n",
              "      <td>-1.066508</td>\n",
              "      <td>-1.341387</td>\n",
              "      <td>0.118077</td>\n",
              "      <td>-0.569706</td>\n",
              "      <td>0.573316</td>\n",
              "      <td>-0.063585</td>\n",
              "      <td>0.917573</td>\n",
              "      <td>0.262675</td>\n",
              "      <td>1.031338</td>\n",
              "      <td>-1.869605</td>\n",
              "      <td>2.210414</td>\n",
              "      <td>-0.142821</td>\n",
              "      <td>1.907408</td>\n",
              "      <td>-0.629972</td>\n",
              "      <td>1.710291</td>\n",
              "      <td>-1.056820</td>\n",
              "      <td>-0.974228</td>\n",
              "      <td>0.722177</td>\n",
              "      <td>-0.075977</td>\n",
              "      <td>0.802649</td>\n",
              "      <td>0.235682</td>\n",
              "      <td>-0.878776</td>\n",
              "      <td>-0.289419</td>\n",
              "      <td>-0.119687</td>\n",
              "      <td>1.541770</td>\n",
              "      <td>2.509510</td>\n",
              "      <td>0.540366</td>\n",
              "      <td>-0.316155</td>\n",
              "      <td>0.512060</td>\n",
              "      <td>1.060742</td>\n",
              "      <td>-0.185388</td>\n",
              "      <td>1.304398</td>\n",
              "      <td>-1.949604</td>\n",
              "      <td>0.411442</td>\n",
              "      <td>-0.242553</td>\n",
              "      <td>0.490474</td>\n",
              "      <td>-1.091957</td>\n",
              "      <td>-0.044318</td>\n",
              "      <td>1.565198</td>\n",
              "      <td>0.457416</td>\n",
              "      <td>-0.440520</td>\n",
              "      <td>-1.204923</td>\n",
              "      <td>-0.224925</td>\n",
              "      <td>-1.751153</td>\n",
              "      <td>1.097924</td>\n",
              "    </tr>\n",
              "    <tr>\n",
              "      <th>67786</th>\n",
              "      <td>1.076987</td>\n",
              "      <td>-0.863444</td>\n",
              "      <td>-1.876374</td>\n",
              "      <td>-0.492668</td>\n",
              "      <td>-0.106420</td>\n",
              "      <td>-0.549713</td>\n",
              "      <td>1.643524</td>\n",
              "      <td>0.679525</td>\n",
              "      <td>-0.228850</td>\n",
              "      <td>2.192057</td>\n",
              "      <td>-0.077027</td>\n",
              "      <td>-2.003151</td>\n",
              "      <td>0.888181</td>\n",
              "      <td>-0.366434</td>\n",
              "      <td>0.948307</td>\n",
              "      <td>-1.911039</td>\n",
              "      <td>1.930005</td>\n",
              "      <td>-0.061687</td>\n",
              "      <td>-1.271762</td>\n",
              "      <td>-0.889152</td>\n",
              "      <td>0.963847</td>\n",
              "      <td>0.058957</td>\n",
              "      <td>0.211936</td>\n",
              "      <td>-0.411041</td>\n",
              "      <td>0.458340</td>\n",
              "      <td>0.859415</td>\n",
              "      <td>1.241370</td>\n",
              "      <td>0.989182</td>\n",
              "      <td>1.944960</td>\n",
              "      <td>-0.298093</td>\n",
              "      <td>1.532511</td>\n",
              "      <td>0.307546</td>\n",
              "      <td>0.981516</td>\n",
              "      <td>2.285586</td>\n",
              "      <td>-1.139861</td>\n",
              "      <td>0.082349</td>\n",
              "      <td>-0.747276</td>\n",
              "      <td>0.780225</td>\n",
              "      <td>0.627071</td>\n",
              "      <td>0.096249</td>\n",
              "      <td>-1.219185</td>\n",
              "      <td>0.530518</td>\n",
              "      <td>-0.801366</td>\n",
              "      <td>1.295226</td>\n",
              "      <td>-1.021725</td>\n",
              "      <td>-1.638305</td>\n",
              "      <td>-0.197934</td>\n",
              "      <td>-0.183765</td>\n",
              "      <td>-1.434101</td>\n",
              "      <td>-0.388472</td>\n",
              "      <td>0.016752</td>\n",
              "      <td>0.334671</td>\n",
              "      <td>0.377168</td>\n",
              "      <td>-0.077574</td>\n",
              "      <td>0.279589</td>\n",
              "      <td>-0.495765</td>\n",
              "      <td>-0.979419</td>\n",
              "      <td>1.256866</td>\n",
              "      <td>-0.216000</td>\n",
              "      <td>0.646385</td>\n",
              "      <td>-0.056167</td>\n",
              "      <td>0.934685</td>\n",
              "    </tr>\n",
              "  </tbody>\n",
              "</table>\n",
              "</div>"
            ],
            "text/plain": [
              "           var_0     var_1     var_2  ...   var_191   var_192   var_198\n",
              "126710  1.598788 -0.046241 -0.488658  ...  0.524596 -0.492173  0.832458\n",
              "120307  1.478856  0.461310  0.110155  ...  0.378628  0.251797  0.272998\n",
              "187832  0.749590  0.822566  0.693482  ... -0.459638  0.849462  0.788618\n",
              "107811  0.232328 -1.460081 -0.784582  ... -0.224925 -1.751153  1.097924\n",
              "67786   1.076987 -0.863444 -1.876374  ...  0.646385 -0.056167  0.934685\n",
              "\n",
              "[5 rows x 62 columns]"
            ]
          },
          "metadata": {
            "tags": []
          },
          "execution_count": 23
        }
      ]
    },
    {
      "cell_type": "code",
      "metadata": {
        "id": "ylH6cfHHvXpE",
        "colab_type": "code",
        "outputId": "841ce59a-7172-40df-9bbe-54816e631d9a",
        "colab": {
          "base_uri": "https://localhost:8080/",
          "height": 34
        }
      },
      "source": [
        "#Split the data again after selecting the features\n",
        "x_NewTrain, x_NewTest, y_NewTrain, y_NewTest = train_test_split(features_x_new, t,  test_size = .3, random_state = 0 )\n",
        "x_NewTrain.shape , y_NewTrain.shape"
      ],
      "execution_count": 0,
      "outputs": [
        {
          "output_type": "execute_result",
          "data": {
            "text/plain": [
              "((19577, 62), (19577,))"
            ]
          },
          "metadata": {
            "tags": []
          },
          "execution_count": 24
        }
      ]
    },
    {
      "cell_type": "markdown",
      "metadata": {
        "id": "CO1b7VbivkPm",
        "colab_type": "text"
      },
      "source": [
        "##Using Scikit-learn to do the predictions\n",
        "**First Support Vector Machine (SVM)**"
      ]
    },
    {
      "cell_type": "code",
      "metadata": {
        "id": "y1KPpgn9veQ7",
        "colab_type": "code",
        "colab": {}
      },
      "source": [
        "acc = []; pre = [] ; rec = [] ; f = [] ; ro = []"
      ],
      "execution_count": 0,
      "outputs": []
    },
    {
      "cell_type": "code",
      "metadata": {
        "id": "P_B70dkLzCnU",
        "colab_type": "code",
        "colab": {}
      },
      "source": [
        "#1) with linear kernel\n",
        "clf1_1 = svm.LinearSVC()\n",
        "clf1_1.fit(x_NewTrain, y_NewTrain)\n",
        "\n",
        "y_pred1_1 = clf1_1.predict(x_NewTest)\n"
      ],
      "execution_count": 0,
      "outputs": []
    },
    {
      "cell_type": "code",
      "metadata": {
        "id": "WEjOgW0Tiu_V",
        "colab_type": "code",
        "outputId": "d1a62ed5-be7e-4c14-d376-826a83e86a18",
        "colab": {
          "base_uri": "https://localhost:8080/",
          "height": 119
        }
      },
      "source": [
        "#evaluaion \n",
        "Accuracy1_1 = metrics.accuracy_score(y_NewTest, y_pred1_1)\n",
        "Precision1_1 = metrics.precision_score(y_NewTest , y_pred1_1)\n",
        "Recall1_1 = metrics.recall_score(y_NewTest , y_pred1_1)\n",
        "F1_Score1_1 = metrics.f1_score(y_NewTest , y_pred1_1)\n",
        "Roc_1 = metrics.roc_auc_score(y_NewTest, y_pred1_1)\n",
        "\n",
        "print(\" Support Vectore Machine with linear kernel\")\n",
        "print (\"Accuracy = \" ,  Accuracy1_1 )\n",
        "print (\"Precision = \" , Precision1_1)\n",
        "print (\"Recall = \" , Recall1_1 )\n",
        "print (\"F1_Score = \" , F1_Score1_1)\n",
        "print (\"ROC_Curve = \" , Roc_1)\n",
        "\n",
        "ro.append(Roc_1)\n",
        "acc.append(Accuracy1_1)\n",
        "pre.append(Precision1_1) \n",
        "rec.append(Recall1_1)\n",
        "f.append(F1_Score1_1)"
      ],
      "execution_count": 0,
      "outputs": [
        {
          "output_type": "stream",
          "text": [
            " Support Vectore Machine with linear kernel\n",
            "Accuracy =  0.7390060779406507\n",
            "Precision =  0.7441523993248131\n",
            "Recall =  0.73214709371293\n",
            "F1_Score =  0.7381009327911983\n",
            "ROC_Curve =  0.7390381062434381\n"
          ],
          "name": "stdout"
        }
      ]
    },
    {
      "cell_type": "code",
      "metadata": {
        "id": "KNwqyifUzK7L",
        "colab_type": "code",
        "colab": {}
      },
      "source": [
        "#2) with poly kernel \n",
        "params1_2 = [ {'C': [0.001, 0.01, 0.1], 'kernel': ['poly'],\n",
        "                'degree': [3, 10, 20],\n",
        "                'gamma': [0.1, 0.2, 0.3, 0.4]}]\n",
        "clf1_2 = GridSearchCV(estimator = svm.SVC(),\n",
        "                         param_grid = params1_2,\n",
        "                         scoring = 'neg_mean_squared_error',verbose=2,cv=2)\n",
        "                         \n",
        "clf1_2.fit(x_NewTrain, y_NewTrain)\n",
        "\n",
        "y_pred1_2 = clf1_2.predict(x_NewTest)\n",
        "best_params1_2 = clf1_2.best_params_ \n",
        "\n",
        "print(\"By GridSearch, the best parameters are: \") \n",
        "print(best_params1_2)\n"
      ],
      "execution_count": 0,
      "outputs": []
    },
    {
      "cell_type": "code",
      "metadata": {
        "id": "EC6wMPr9i2rZ",
        "colab_type": "code",
        "outputId": "3f1ac34d-e4a3-43c8-f0b1-f2e99a7055a4",
        "colab": {
          "base_uri": "https://localhost:8080/",
          "height": 119
        }
      },
      "source": [
        "#evaluaion \n",
        "Accuracy1_2 = metrics.accuracy_score(y_NewTest, y_pred1_2)\n",
        "Precision1_2 = metrics.precision_score(y_NewTest , y_pred1_2)\n",
        "Recall1_2 = metrics.recall_score(y_NewTest , y_pred1_2)\n",
        "F1_Score1_2 = metrics.f1_score(y_NewTest , y_pred1_2)\n",
        "Roc_2 = metrics.roc_auc_score(y_NewTest, y_pred1_2)\n",
        "\n",
        "\n",
        "print(\" Support Vectore Machine with poly kernel \")\n",
        "print (\"Accuracy = \" ,  Accuracy1_2 )\n",
        "print (\"Precision = \" , Precision1_2)\n",
        "print (\"Recall = \" , Recall1_2 )\n",
        "print (\"F1_Score = \" , F1_Score1_2)\n",
        "print (\"ROC_Curve = \" , Roc_2)\n",
        "ro.append(Roc_2)\n",
        "acc.append(Accuracy1_2)\n",
        "pre.append(Precision1_2) \n",
        "rec.append(Recall1_2)\n",
        "f.append(F1_Score1_2)"
      ],
      "execution_count": 0,
      "outputs": [
        {
          "output_type": "stream",
          "text": [
            " Support Vectore Machine with poly kernel \n",
            "Accuracy =  0.740555356930044\n",
            "Precision =  0.7846368715083799\n",
            "Recall =  0.666429418742586\n",
            "F1_Score =  0.7207184092366902\n",
            "ROC_Curve =  0.7409014909804883\n"
          ],
          "name": "stdout"
        }
      ]
    },
    {
      "cell_type": "code",
      "metadata": {
        "id": "N-OqMSnQzXYY",
        "colab_type": "code",
        "colab": {}
      },
      "source": [
        "#3) with Radial basis function (RBF) kernel\n",
        "\n",
        "params1_3 = [ {'C': [0.001, 0.01, 0.1], 'kernel': ['rbf'],\n",
        "              'gamma': [0.5, 0.2, 0.6, 0.9]}]\n",
        "clf1_3 = GridSearchCV(estimator = svm.SVC(),\n",
        "                         param_grid = params1_3,\n",
        "                         scoring = 'neg_mean_squared_error',verbose=2,cv=2)\n",
        "                        \n",
        "clf1_3.fit(x_NewTrain, y_NewTrain)\n",
        "\n",
        "y_pred1_3 = clf1_3.predict(x_NewTest)\n",
        "\n"
      ],
      "execution_count": 0,
      "outputs": []
    },
    {
      "cell_type": "code",
      "metadata": {
        "id": "1SMYRjC6i-aw",
        "colab_type": "code",
        "outputId": "758e5c44-51ee-43ea-f494-84e0da5a48c4",
        "colab": {
          "base_uri": "https://localhost:8080/",
          "height": 241
        }
      },
      "source": [
        "best_params1_3 = clf1_3.best_params_ \n",
        "print(\"By GridSearch, the best parameters are: \") \n",
        "print(best_params1_3)\n",
        "#evaluaion \n",
        "Accuracy1_3 = metrics.accuracy_score(y_NewTest, y_pred1_3)\n",
        "Precision1_3 = metrics.precision_score(y_NewTest , y_pred1_3)\n",
        "Recall1_3 = metrics.recall_score(y_NewTest , y_pred1_3)\n",
        "F1_Score1_3 = metrics.f1_score(y_NewTest , y_pred1_3)\n",
        "Roc_3 = metrics.roc_auc_score(y_NewTest, y_pred1_3)\n",
        "\n",
        "print(\" Support Vectore Machine with Radial basis function (RFB) kernel \")\n",
        "print (\"Accuracy = \" ,  Accuracy1_3 )\n",
        "print (\"Precision = \" , Precision1_3)\n",
        "print (\"Recall = \" , Recall1_3 )\n",
        "print (\"F1_Score = \" , F1_Score1_3)\n",
        "print (\"ROC_Curve = \" , Roc_3)\n",
        "ro.append(Roc_3)\n",
        "acc.append(Accuracy1_3)\n",
        "pre.append(Precision1_3) \n",
        "rec.append(Recall1_3)\n",
        "f.append(F1_Score1_3)"
      ],
      "execution_count": 0,
      "outputs": [
        {
          "output_type": "stream",
          "text": [
            "By GridSearch, the best parameters are: \n",
            "{'C': 0.001, 'gamma': 0.5, 'kernel': 'rbf'}\n",
            " Support Vectore Machine with Radial basis function (RFB) kernel \n",
            "Accuracy =  0.4976760815159099\n",
            "Precision =  0.0\n",
            "Recall =  0.0\n",
            "F1_Score =  0.0\n",
            "ROC_Curve =  0.5\n"
          ],
          "name": "stdout"
        },
        {
          "output_type": "stream",
          "text": [
            "/usr/local/lib/python3.6/dist-packages/sklearn/metrics/classification.py:1437: UndefinedMetricWarning: Precision is ill-defined and being set to 0.0 due to no predicted samples.\n",
            "  'precision', 'predicted', average, warn_for)\n",
            "/usr/local/lib/python3.6/dist-packages/sklearn/metrics/classification.py:1437: UndefinedMetricWarning: F-score is ill-defined and being set to 0.0 due to no predicted samples.\n",
            "  'precision', 'predicted', average, warn_for)\n"
          ],
          "name": "stderr"
        }
      ]
    },
    {
      "cell_type": "markdown",
      "metadata": {
        "id": "vfkjvLm7zwPb",
        "colab_type": "text"
      },
      "source": [
        "**Second Naive Bayes (NB)**\n"
      ]
    },
    {
      "cell_type": "code",
      "metadata": {
        "id": "hHmxS5tazsNw",
        "colab_type": "code",
        "colab": {}
      },
      "source": [
        "clf2 = GaussianNB()\n",
        "clf2.fit(x_NewTrain, y_NewTrain)\n",
        "\n",
        "y_pred2 = clf2.predict(x_NewTest)\n"
      ],
      "execution_count": 0,
      "outputs": []
    },
    {
      "cell_type": "code",
      "metadata": {
        "id": "-dSw3uAxjCuS",
        "colab_type": "code",
        "outputId": "e9a9be85-23ac-4aab-da75-3a4406b9f5ca",
        "colab": {
          "base_uri": "https://localhost:8080/",
          "height": 119
        }
      },
      "source": [
        "#evaluaion \n",
        "Accuracy2 = metrics.accuracy_score(y_NewTest, y_pred2)\n",
        "Precision2 = metrics.precision_score(y_NewTest , y_pred2)\n",
        "Recall2 = metrics.recall_score(y_NewTest , y_pred2)\n",
        "F1_Score2 = metrics.f1_score(y_NewTest , y_pred2)\n",
        "Roc2 = metrics.roc_auc_score(y_NewTest, y_pred2)\n",
        "\n",
        "print(\" Gaussian Naive Bayes\")\n",
        "print (\"Accuracy = \" ,  Accuracy2 )\n",
        "print (\"Precision = \" , Precision2 )\n",
        "print (\"Recall = \" , Recall2 )\n",
        "print (\"F1_Score = \" , F1_Score2)\n",
        "print (\"ROC_Curve = \" , Roc2)\n",
        "\n",
        "ro.append(Roc2)\n",
        "acc.append(Accuracy2)\n",
        "pre.append(Precision2) \n",
        "rec.append(Recall2)\n",
        "f.append(F1_Score2)"
      ],
      "execution_count": 0,
      "outputs": [
        {
          "output_type": "stream",
          "text": [
            " Gaussian Naive Bayes\n",
            "Accuracy =  0.7671314503634847\n",
            "Precision =  0.7757989753598439\n",
            "Recall =  0.7544483985765125\n",
            "F1_Score =  0.7649747414000483\n",
            "ROC_Curve =  0.7671906743840416\n"
          ],
          "name": "stdout"
        }
      ]
    },
    {
      "cell_type": "markdown",
      "metadata": {
        "id": "TOB1Mr6s0hDp",
        "colab_type": "text"
      },
      "source": [
        "**Third Logistic Regression**\n"
      ]
    },
    {
      "cell_type": "code",
      "metadata": {
        "id": "vroonbdC0dGV",
        "colab_type": "code",
        "colab": {}
      },
      "source": [
        "clf3 = LogisticRegression()\n",
        "clf3.fit(x_NewTrain, y_NewTrain)\n",
        "\n",
        "y_pred3 = clf3.predict(x_NewTest)\n"
      ],
      "execution_count": 0,
      "outputs": []
    },
    {
      "cell_type": "code",
      "metadata": {
        "id": "wc6v_USUjG5G",
        "colab_type": "code",
        "outputId": "3d22fbc0-a758-46c1-c1b7-ae410ce1ecc9",
        "colab": {
          "base_uri": "https://localhost:8080/",
          "height": 119
        }
      },
      "source": [
        "#evaluaion \n",
        "Accuracy3 = metrics.accuracy_score(y_NewTest, y_pred3)\n",
        "Precision3 = metrics.precision_score(y_NewTest , y_pred3)\n",
        "Recall3 = metrics.recall_score(y_NewTest , y_pred3)\n",
        "F1_Score3 = metrics.f1_score(y_NewTest , y_pred3)\n",
        "Roc3 = metrics.roc_auc_score(y_NewTest, y_pred3)\n",
        "\n",
        "print(\"Logistic regression\")\n",
        "print (\"Accuracy = \" ,  Accuracy3 )\n",
        "print (\"Precision = \" , Precision3 )\n",
        "print (\"Recall = \" , Recall3 )\n",
        "print (\"F1_Score = \" , F1_Score3)\n",
        "print (\"ROC_Curve = \" , Roc3)\n",
        "\n",
        "ro.append(Roc3)\n",
        "acc.append(Accuracy3)\n",
        "pre.append(Precision3) \n",
        "rec.append(Recall3)\n",
        "f.append(F1_Score3)"
      ],
      "execution_count": 0,
      "outputs": [
        {
          "output_type": "stream",
          "text": [
            "Logistic regression\n",
            "Accuracy =  0.7380526754856394\n",
            "Precision =  0.7422531828008647\n",
            "Recall =  0.7330960854092526\n",
            "F1_Score =  0.7376462162807352\n",
            "ROC_Curve =  0.7380758204824042\n"
          ],
          "name": "stdout"
        }
      ]
    },
    {
      "cell_type": "markdown",
      "metadata": {
        "id": "sAFqSBFD0usn",
        "colab_type": "text"
      },
      "source": [
        "**Forth Decision tree**\n"
      ]
    },
    {
      "cell_type": "code",
      "metadata": {
        "id": "B2XIuwBi0lFA",
        "colab_type": "code",
        "colab": {}
      },
      "source": [
        "#1 ) Dicision tree with all defult hyperparameter\n",
        "clf4_1 = DecisionTreeClassifier()\n",
        "clf4_1.fit(x_NewTrain, y_NewTrain)\n",
        "\n",
        "y_pred4_1 = clf4_1.predict(x_NewTest)\n"
      ],
      "execution_count": 0,
      "outputs": []
    },
    {
      "cell_type": "code",
      "metadata": {
        "id": "PACgAxRbjKkQ",
        "colab_type": "code",
        "outputId": "2a356ebe-4ff0-4083-9466-ef71577b12a3",
        "colab": {
          "base_uri": "https://localhost:8080/",
          "height": 119
        }
      },
      "source": [
        "#evaluaion \n",
        "Accuracy4_1 = metrics.accuracy_score(y_NewTest, y_pred4_1)\n",
        "Precision4_1 = metrics.precision_score(y_NewTest , y_pred4_1)\n",
        "Recall4_1 = metrics.recall_score(y_NewTest , y_pred4_1)\n",
        "F1_Score4_1 = metrics.f1_score(y_NewTest , y_pred4_1)\n",
        "Roc4_1 = metrics.roc_auc_score(y_NewTest, y_pred4_1)\n",
        "\n",
        "print(\"Dicision tree with all defult hyperparameter\")\n",
        "print (\"Accuracy = \" ,  Accuracy4_1 )\n",
        "print (\"Precision = \" , Precision4_1 )\n",
        "print (\"Recall = \" , Recall4_1 )\n",
        "print (\"F1_Score = \" , F1_Score4_1)\n",
        "print (\"ROC_Curve = \" , Roc4_1)\n",
        "\n",
        "ro.append(Roc4_1)\n",
        "acc.append(Accuracy4_1)\n",
        "pre.append(Precision4_1) \n",
        "rec.append(Recall4_1)\n",
        "f.append(F1_Score4_1)"
      ],
      "execution_count": 0,
      "outputs": [
        {
          "output_type": "stream",
          "text": [
            "Dicision tree with all defult hyperparameter\n",
            "Accuracy =  0.5923012751757836\n",
            "Precision =  0.5942992874109264\n",
            "Recall =  0.5935943060498221\n",
            "F1_Score =  0.5939465875370921\n",
            "ROC_Curve =  0.5922952373160988\n"
          ],
          "name": "stdout"
        }
      ]
    },
    {
      "cell_type": "code",
      "metadata": {
        "id": "TigN-af00xs6",
        "colab_type": "code",
        "colab": {}
      },
      "source": [
        "#2)  Dicision tree with criterion = entropy and  max_depth = 20 \n",
        "clf4_2 = DecisionTreeClassifier(criterion='entropy',max_depth = 20)\n",
        "clf4_2.fit(x_NewTrain, y_NewTrain)\n",
        "\n",
        "y_pred4_2 = clf4_2.predict(x_NewTest)\n"
      ],
      "execution_count": 0,
      "outputs": []
    },
    {
      "cell_type": "code",
      "metadata": {
        "id": "HihXsCGCjOpv",
        "colab_type": "code",
        "outputId": "6c22794e-8599-43ac-cc25-e2903b7bff9e",
        "colab": {
          "base_uri": "https://localhost:8080/",
          "height": 119
        }
      },
      "source": [
        "#evaluaion \n",
        "Accuracy4_2 = metrics.accuracy_score(y_NewTest, y_pred4_2)\n",
        "Precision4_2 = metrics.precision_score(y_NewTest , y_pred4_2)\n",
        "Recall4_2 = metrics.recall_score(y_NewTest , y_pred4_2)\n",
        "F1_Score4_2 = metrics.f1_score(y_NewTest , y_pred4_2)\n",
        "Roc4_2 = metrics.roc_auc_score(y_NewTest, y_pred4_2)\n",
        "\n",
        "print(\"Dicision tree with criterion = entropy and  max_depth = 20\")\n",
        "print (\"Accuracy = \" ,  Accuracy4_2 )\n",
        "print (\"Precision = \" , Precision4_2 )\n",
        "print (\"Recall = \" , Recall4_2 )\n",
        "print (\"F1_Score = \" , F1_Score4_2)\n",
        "print (\"ROC_Curve = \" , Roc4_2)\n",
        "\n",
        "ro.append(Roc4_2)\n",
        "acc.append(Accuracy4_2)\n",
        "pre.append(Precision4_2) \n",
        "rec.append(Recall4_2)\n",
        "f.append(F1_Score4_2)"
      ],
      "execution_count": 0,
      "outputs": [
        {
          "output_type": "stream",
          "text": [
            "Dicision tree with criterion = entropy and  max_depth = 20\n",
            "Accuracy =  0.6204266475986175\n",
            "Precision =  0.6379217996786288\n",
            "Recall =  0.5651245551601424\n",
            "F1_Score =  0.5993206692665745\n",
            "ROC_Curve =  0.6206848829440558\n"
          ],
          "name": "stdout"
        }
      ]
    },
    {
      "cell_type": "code",
      "metadata": {
        "id": "3UKdCk6i02nN",
        "colab_type": "code",
        "colab": {}
      },
      "source": [
        "#3)  Dicision tree with max_depth = 18 \n",
        "clf4_3 = DecisionTreeClassifier( max_depth = 18)\n",
        "clf4_3.fit(x_NewTrain, y_NewTrain)\n",
        "\n",
        "y_pred4_3 = clf4_3.predict(x_NewTest)\n"
      ],
      "execution_count": 0,
      "outputs": []
    },
    {
      "cell_type": "code",
      "metadata": {
        "id": "Q1ohRzH3jSkF",
        "colab_type": "code",
        "outputId": "682478c7-60a0-43c5-fc1f-3a98d7a6b123",
        "colab": {
          "base_uri": "https://localhost:8080/",
          "height": 119
        }
      },
      "source": [
        "#evaluaion \n",
        "Accuracy4_3 = metrics.accuracy_score(y_NewTest, y_pred4_3)\n",
        "Precision4_3 = metrics.precision_score(y_NewTest , y_pred4_3)\n",
        "Recall4_3 = metrics.recall_score(y_NewTest , y_pred4_3)\n",
        "F1_Score4_3 = metrics.f1_score(y_NewTest , y_pred4_3)\n",
        "Roc4_3 = metrics.roc_auc_score(y_NewTest, y_pred4_3)\n",
        "\n",
        "print(\"Dicision tree with max_depth = 18 \")\n",
        "print (\"Accuracy = \" ,  Accuracy4_3 )\n",
        "print (\"Precision = \" , Precision4_3 )\n",
        "print (\"Recall = \" , Recall4_3 )\n",
        "print (\"F1_Score = \" , F1_Score4_3 )\n",
        "print (\"ROC_Curve = \" , Roc4_3)\n",
        "\n",
        "ro.append(Roc4_3)\n",
        "acc.append(Accuracy4_3)\n",
        "pre.append(Precision4_3) \n",
        "rec.append(Recall4_3)\n",
        "f.append(F1_Score4_3)"
      ],
      "execution_count": 0,
      "outputs": [
        {
          "output_type": "stream",
          "text": [
            "Dicision tree with max_depth = 18 \n",
            "Accuracy =  0.6033845787152902\n",
            "Precision =  0.6172349986782977\n",
            "Recall =  0.5539739027283511\n",
            "F1_Score =  0.5838959739934984\n",
            "ROC_Curve =  0.603615303854597\n"
          ],
          "name": "stdout"
        }
      ]
    },
    {
      "cell_type": "markdown",
      "metadata": {
        "id": "jn7Cqh8r1Hkw",
        "colab_type": "text"
      },
      "source": [
        "**Fifth Random Forest**"
      ]
    },
    {
      "cell_type": "code",
      "metadata": {
        "id": "7hduK0iX07pC",
        "colab_type": "code",
        "outputId": "5b6d3898-e0fe-4e6e-b551-a1b499f9403c",
        "colab": {
          "base_uri": "https://localhost:8080/",
          "height": 1000
        }
      },
      "source": [
        "#Random Forest with best (criterion , Max feature , Max depth , Number of trees)\n",
        "#Determine the best using GridSearch\n",
        "params5 = [{'criterion': ['gini' , 'entropy'] ,\n",
        "           'max_features': ['auto', 'log2'],\n",
        "           'max_depth': [15, 25],\n",
        "           'n_estimators': [100, 150] }]\n",
        "clf5 = GridSearchCV(estimator = RandomForestClassifier(),\n",
        "                            param_grid = params5,\n",
        "                            scoring = 'neg_mean_squared_error',verbose=2,cv=2)\n",
        "                            \n",
        "clf5.fit(x_NewTrain, y_NewTrain)\n",
        "\n",
        "y_pred5 = clf5.predict(x_NewTest)"
      ],
      "execution_count": 0,
      "outputs": [
        {
          "output_type": "stream",
          "text": [
            "Fitting 2 folds for each of 16 candidates, totalling 32 fits\n",
            "[CV] criterion=gini, max_depth=15, max_features=auto, n_estimators=100 \n"
          ],
          "name": "stdout"
        },
        {
          "output_type": "stream",
          "text": [
            "[Parallel(n_jobs=1)]: Using backend SequentialBackend with 1 concurrent workers.\n"
          ],
          "name": "stderr"
        },
        {
          "output_type": "stream",
          "text": [
            "[CV]  criterion=gini, max_depth=15, max_features=auto, n_estimators=100, total=   7.7s\n",
            "[CV] criterion=gini, max_depth=15, max_features=auto, n_estimators=100 \n"
          ],
          "name": "stdout"
        },
        {
          "output_type": "stream",
          "text": [
            "[Parallel(n_jobs=1)]: Done   1 out of   1 | elapsed:    7.7s remaining:    0.0s\n"
          ],
          "name": "stderr"
        },
        {
          "output_type": "stream",
          "text": [
            "[CV]  criterion=gini, max_depth=15, max_features=auto, n_estimators=100, total=   7.6s\n",
            "[CV] criterion=gini, max_depth=15, max_features=auto, n_estimators=150 \n",
            "[CV]  criterion=gini, max_depth=15, max_features=auto, n_estimators=150, total=  10.8s\n",
            "[CV] criterion=gini, max_depth=15, max_features=auto, n_estimators=150 \n",
            "[CV]  criterion=gini, max_depth=15, max_features=auto, n_estimators=150, total=  10.8s\n",
            "[CV] criterion=gini, max_depth=15, max_features=log2, n_estimators=100 \n",
            "[CV]  criterion=gini, max_depth=15, max_features=log2, n_estimators=100, total=   6.1s\n",
            "[CV] criterion=gini, max_depth=15, max_features=log2, n_estimators=100 \n",
            "[CV]  criterion=gini, max_depth=15, max_features=log2, n_estimators=100, total=   5.2s\n",
            "[CV] criterion=gini, max_depth=15, max_features=log2, n_estimators=150 \n",
            "[CV]  criterion=gini, max_depth=15, max_features=log2, n_estimators=150, total=   8.1s\n",
            "[CV] criterion=gini, max_depth=15, max_features=log2, n_estimators=150 \n",
            "[CV]  criterion=gini, max_depth=15, max_features=log2, n_estimators=150, total=   8.6s\n",
            "[CV] criterion=gini, max_depth=25, max_features=auto, n_estimators=100 \n",
            "[CV]  criterion=gini, max_depth=25, max_features=auto, n_estimators=100, total=   9.0s\n",
            "[CV] criterion=gini, max_depth=25, max_features=auto, n_estimators=100 \n",
            "[CV]  criterion=gini, max_depth=25, max_features=auto, n_estimators=100, total=   9.0s\n",
            "[CV] criterion=gini, max_depth=25, max_features=auto, n_estimators=150 \n",
            "[CV]  criterion=gini, max_depth=25, max_features=auto, n_estimators=150, total=  12.6s\n",
            "[CV] criterion=gini, max_depth=25, max_features=auto, n_estimators=150 \n",
            "[CV]  criterion=gini, max_depth=25, max_features=auto, n_estimators=150, total=  12.6s\n",
            "[CV] criterion=gini, max_depth=25, max_features=log2, n_estimators=100 \n",
            "[CV]  criterion=gini, max_depth=25, max_features=log2, n_estimators=100, total=   5.6s\n",
            "[CV] criterion=gini, max_depth=25, max_features=log2, n_estimators=100 \n",
            "[CV]  criterion=gini, max_depth=25, max_features=log2, n_estimators=100, total=   5.5s\n",
            "[CV] criterion=gini, max_depth=25, max_features=log2, n_estimators=150 \n",
            "[CV]  criterion=gini, max_depth=25, max_features=log2, n_estimators=150, total=   8.2s\n",
            "[CV] criterion=gini, max_depth=25, max_features=log2, n_estimators=150 \n",
            "[CV]  criterion=gini, max_depth=25, max_features=log2, n_estimators=150, total=   8.2s\n",
            "[CV] criterion=entropy, max_depth=15, max_features=auto, n_estimators=100 \n",
            "[CV]  criterion=entropy, max_depth=15, max_features=auto, n_estimators=100, total=  12.6s\n",
            "[CV] criterion=entropy, max_depth=15, max_features=auto, n_estimators=100 \n",
            "[CV]  criterion=entropy, max_depth=15, max_features=auto, n_estimators=100, total=  12.6s\n",
            "[CV] criterion=entropy, max_depth=15, max_features=auto, n_estimators=150 \n",
            "[CV]  criterion=entropy, max_depth=15, max_features=auto, n_estimators=150, total=  18.8s\n",
            "[CV] criterion=entropy, max_depth=15, max_features=auto, n_estimators=150 \n",
            "[CV]  criterion=entropy, max_depth=15, max_features=auto, n_estimators=150, total=  18.9s\n",
            "[CV] criterion=entropy, max_depth=15, max_features=log2, n_estimators=100 \n",
            "[CV]  criterion=entropy, max_depth=15, max_features=log2, n_estimators=100, total=   9.3s\n",
            "[CV] criterion=entropy, max_depth=15, max_features=log2, n_estimators=100 \n",
            "[CV]  criterion=entropy, max_depth=15, max_features=log2, n_estimators=100, total=   9.2s\n",
            "[CV] criterion=entropy, max_depth=15, max_features=log2, n_estimators=150 \n",
            "[CV]  criterion=entropy, max_depth=15, max_features=log2, n_estimators=150, total=  13.8s\n",
            "[CV] criterion=entropy, max_depth=15, max_features=log2, n_estimators=150 \n",
            "[CV]  criterion=entropy, max_depth=15, max_features=log2, n_estimators=150, total=  13.8s\n",
            "[CV] criterion=entropy, max_depth=25, max_features=auto, n_estimators=100 \n",
            "[CV]  criterion=entropy, max_depth=25, max_features=auto, n_estimators=100, total=  14.5s\n",
            "[CV] criterion=entropy, max_depth=25, max_features=auto, n_estimators=100 \n",
            "[CV]  criterion=entropy, max_depth=25, max_features=auto, n_estimators=100, total=  14.3s\n",
            "[CV] criterion=entropy, max_depth=25, max_features=auto, n_estimators=150 \n",
            "[CV]  criterion=entropy, max_depth=25, max_features=auto, n_estimators=150, total=  21.7s\n",
            "[CV] criterion=entropy, max_depth=25, max_features=auto, n_estimators=150 \n",
            "[CV]  criterion=entropy, max_depth=25, max_features=auto, n_estimators=150, total=  21.6s\n",
            "[CV] criterion=entropy, max_depth=25, max_features=log2, n_estimators=100 \n",
            "[CV]  criterion=entropy, max_depth=25, max_features=log2, n_estimators=100, total=  10.8s\n",
            "[CV] criterion=entropy, max_depth=25, max_features=log2, n_estimators=100 \n",
            "[CV]  criterion=entropy, max_depth=25, max_features=log2, n_estimators=100, total=  10.7s\n",
            "[CV] criterion=entropy, max_depth=25, max_features=log2, n_estimators=150 \n",
            "[CV]  criterion=entropy, max_depth=25, max_features=log2, n_estimators=150, total=  16.2s\n",
            "[CV] criterion=entropy, max_depth=25, max_features=log2, n_estimators=150 \n",
            "[CV]  criterion=entropy, max_depth=25, max_features=log2, n_estimators=150, total=  15.9s\n"
          ],
          "name": "stdout"
        },
        {
          "output_type": "stream",
          "text": [
            "[Parallel(n_jobs=1)]: Done  32 out of  32 | elapsed:  6.2min finished\n"
          ],
          "name": "stderr"
        }
      ]
    },
    {
      "cell_type": "code",
      "metadata": {
        "id": "6XUhO78ijXbl",
        "colab_type": "code",
        "outputId": "11c63d9a-ab85-44ba-fd38-fe627c30badc",
        "colab": {
          "base_uri": "https://localhost:8080/",
          "height": 170
        }
      },
      "source": [
        "best_params5 = clf5.best_params_ #Determine which parameters used by the model\n",
        "print(\"By GridSearch, the best parameters are: \") \n",
        "print(best_params5)\n",
        "#evaluaion \n",
        "Accuracy5 = metrics.accuracy_score(y_NewTest, y_pred5)\n",
        "Precision5 = metrics.precision_score(y_NewTest , y_pred5)\n",
        "Recall5 = metrics.recall_score(y_NewTest , y_pred5)\n",
        "F1_Score5 = metrics.f1_score(y_NewTest , y_pred5)\n",
        "Roc5 = metrics.roc_auc_score(y_NewTest, y_pred5)\n",
        "\n",
        "print(\" \\nRandom Forest with best (criterion , Max feature , Max depth , Number of trees) \")\n",
        "print (\"Accuracy = \" ,  Accuracy5 )\n",
        "print (\"Precision = \" , Precision5 )\n",
        "print (\"Recall = \" , Recall5 )\n",
        "print (\"F1_Score = \" , F1_Score5 )\n",
        "print (\"ROC_Curve = \" , Roc5)\n",
        "\n",
        "ro.append(Roc5)\n",
        "acc.append(Accuracy5)\n",
        "pre.append(Precision5) \n",
        "rec.append(Recall5)\n",
        "f.append(F1_Score5)"
      ],
      "execution_count": 0,
      "outputs": [
        {
          "output_type": "stream",
          "text": [
            "By GridSearch, the best parameters are: \n",
            "{'criterion': 'gini', 'max_depth': 25, 'max_features': 'log2', 'n_estimators': 150}\n",
            " \n",
            "Random Forest with best (criterion , Max feature , Max depth , Number of trees) \n",
            "Accuracy =  0.7515194851626743\n",
            "Precision =  0.7495313964386129\n",
            "Recall =  0.7589561091340451\n",
            "F1_Score =  0.7542143109748909\n",
            "ROC_Curve =  0.7514847595478653\n"
          ],
          "name": "stdout"
        }
      ]
    },
    {
      "cell_type": "markdown",
      "metadata": {
        "id": "Bt32C7W61XE-",
        "colab_type": "text"
      },
      "source": [
        "**Sixth Gradient Boosting Classifier**"
      ]
    },
    {
      "cell_type": "code",
      "metadata": {
        "id": "biZroK1o1M3Y",
        "colab_type": "code",
        "colab": {}
      },
      "source": [
        "#Gradient Boosting Classifier (GridSearchCV for Hyperparameter Tuning)\n",
        "params6 = [{'subsample': [1.0 , 0.5] ,\n",
        "           'max_depth': [3, 10],\n",
        "           'learning_rate': [0.1,0.05],\n",
        "           'n_estimators': [10, 60] }]\n",
        "clf6 = GridSearchCV(GradientBoostingClassifier(n_iter_no_change=5, tol=0.01),\n",
        "                            param_grid = params6,\n",
        "                            scoring = 'neg_mean_squared_error',verbose=2,cv=2)\n",
        "clf6.fit(x_NewTrain, y_NewTrain) #train the model using trainning dataSets\n",
        "\n",
        "y_pred6= clf6.predict(x_NewTest)\n",
        "\n"
      ],
      "execution_count": 0,
      "outputs": []
    },
    {
      "cell_type": "code",
      "metadata": {
        "id": "Pg1Sq2vAjfHf",
        "colab_type": "code",
        "outputId": "cca043f0-bac6-49d8-bb39-8310e2745f60",
        "colab": {
          "base_uri": "https://localhost:8080/",
          "height": 170
        }
      },
      "source": [
        "best_params6 = clf6.best_params_  #Determine which parameters used by the model \n",
        "print(\"By GridSearch, the best parameters are: \") \n",
        "print(best_params6)\n",
        "#evaluaion \n",
        "Accuracy6 = metrics.accuracy_score(y_NewTest, y_pred6)\n",
        "Precision6 = metrics.precision_score(y_NewTest , y_pred6)\n",
        "Recall6 = metrics.recall_score(y_NewTest , y_pred6)\n",
        "F1_Score6 = metrics.f1_score(y_NewTest , y_pred6)\n",
        "Roc6 = metrics.roc_auc_score(y_NewTest, y_pred6)\n",
        "\n",
        "print(\" \\nGradient Boosting Classifier (GridSearchCV for Hyperparameter Tuning) \")\n",
        "print (\"Accuracy = \" ,  Accuracy6 )\n",
        "print (\"Precision = \" , Precision6 )\n",
        "print (\"Recall = \" , Recall6 )\n",
        "print (\"F1_Score = \" , F1_Score6 )\n",
        "print (\"ROC_Curve = \" , Roc6)\n",
        "\n",
        "ro.append(Roc6)\n",
        "acc.append(Accuracy6)\n",
        "pre.append(Precision6) \n",
        "rec.append(Recall6)\n",
        "f.append(F1_Score6)"
      ],
      "execution_count": 0,
      "outputs": [
        {
          "output_type": "stream",
          "text": [
            "By GridSearch, the best parameters are: \n",
            "{'learning_rate': 0.1, 'max_depth': 3, 'n_estimators': 60, 'subsample': 0.5}\n",
            " \n",
            "Gradient Boosting Classifier (GridSearchCV for Hyperparameter Tuning) \n",
            "Accuracy =  0.7335240138243356\n",
            "Precision =  0.749810653875284\n",
            "Recall =  0.7046263345195729\n",
            "F1_Score =  0.7265166340508806\n",
            "ROC_Curve =  0.7336589527003995\n"
          ],
          "name": "stdout"
        }
      ]
    },
    {
      "cell_type": "markdown",
      "metadata": {
        "id": "fX3K5Y0D1mfL",
        "colab_type": "text"
      },
      "source": [
        "**Seventh BaggingClassifier**"
      ]
    },
    {
      "cell_type": "code",
      "metadata": {
        "id": "mezk5RUN1b9o",
        "colab_type": "code",
        "colab": {}
      },
      "source": [
        "#1) BaggingClassifier with NaÃ¯ve bayes\n",
        "params7_1 = [{'n_estimators': [10, 50, 90 ],\n",
        "             'oob_score': ['True' , 'False'] }]\n",
        "clf7_1 = GridSearchCV(estimator = BaggingClassifier(base_estimator=clf2) ,\n",
        "                            param_grid = params7_1,\n",
        "                            scoring = 'neg_mean_squared_error')\n",
        "                            \n",
        "clf7_1.fit(x_NewTrain, y_NewTrain)\n",
        "\n",
        "y_pred7_1 = clf7_1.predict(x_NewTest)\n",
        "\n"
      ],
      "execution_count": 0,
      "outputs": []
    },
    {
      "cell_type": "code",
      "metadata": {
        "id": "wZm1pMtmjk2z",
        "colab_type": "code",
        "outputId": "809ad361-27cd-4af9-fdd9-57bb85dd3915",
        "colab": {
          "base_uri": "https://localhost:8080/",
          "height": 170
        }
      },
      "source": [
        "best_params7_1= clf7_1.best_params_ #Determine which parameters used by the model\n",
        "print(\"By GridSearch, the best parameters are: \") \n",
        "print(best_params7_1)\n",
        "#evaluaion \n",
        "Accuracy7_1 = metrics.accuracy_score(y_NewTest, y_pred7_1)\n",
        "Precision7_1 = metrics.precision_score(y_NewTest , y_pred7_1)\n",
        "Recall7_1 = metrics.recall_score(y_NewTest , y_pred7_1)\n",
        "F1_Score7_1 = metrics.f1_score(y_NewTest , y_pred7_1)\n",
        "Roc7_1 = metrics.roc_auc_score(y_NewTest, y_pred7_1)\n",
        "\n",
        "print(\" \\nBaggingClassifier with NaÃ¯ve bayes \")\n",
        "print (\"Accuracy = \" ,  Accuracy7_1)\n",
        "print (\"Precision = \" , Precision7_1)\n",
        "print (\"Recall = \" , Recall7_1)\n",
        "print (\"F1_Score = \" , F1_Score7_1)\n",
        "print (\"ROC_Curve = \" , Roc7_1)\n",
        "\n",
        "ro.append(Roc7_1)\n",
        "acc.append(Accuracy7_1)\n",
        "pre.append(Precision7_1) \n",
        "rec.append(Recall7_1)\n",
        "f.append(F1_Score7_1)"
      ],
      "execution_count": 0,
      "outputs": [
        {
          "output_type": "stream",
          "text": [
            "By GridSearch, the best parameters are: \n",
            "{'n_estimators': 10, 'oob_score': 'False'}\n",
            " \n",
            "BaggingClassifier with NaÃ¯ve bayes \n",
            "Accuracy =  0.7654629960672149\n",
            "Precision =  0.7750305997552019\n",
            "Recall =  0.7511269276393832\n",
            "F1_Score =  0.7628915662650603\n",
            "ROC_Curve =  0.765529938915477\n"
          ],
          "name": "stdout"
        }
      ]
    },
    {
      "cell_type": "code",
      "metadata": {
        "id": "q6ksV7ZM1q8T",
        "colab_type": "code",
        "colab": {}
      },
      "source": [
        "#2)  BaggingClassifier with decision trees\n",
        "params7_2 = [{'base_estimator': [clf4_1, clf4_2, clf4_3] }]\n",
        "clf7_2 = GridSearchCV(estimator = BaggingClassifier() ,\n",
        "                            param_grid = params7_2,\n",
        "                            scoring = 'neg_mean_squared_error')\n",
        "                             \n",
        "clf7_2.fit(x_NewTrain, y_NewTrain)\n",
        "\n",
        "y_pred7_2 = clf7_2.predict(x_NewTest)\n",
        "\n"
      ],
      "execution_count": 0,
      "outputs": []
    },
    {
      "cell_type": "code",
      "metadata": {
        "id": "pjXZ__xgjp5O",
        "colab_type": "code",
        "outputId": "9cff4e85-77e7-46f1-b92f-fc5f5749e8f1",
        "colab": {
          "base_uri": "https://localhost:8080/",
          "height": 255
        }
      },
      "source": [
        "best_params7_2= clf7_2.best_params_ #Determine which parameters used by the model \n",
        "print(\"By GridSearch, the best parameters are: \")\n",
        "print(best_params7_2)\n",
        "#evaluaion \n",
        "Accuracy7_2 = metrics.accuracy_score(y_NewTest, y_pred7_2)\n",
        "Precision7_2 = metrics.precision_score(y_NewTest , y_pred7_2)\n",
        "Recall7_2 = metrics.recall_score(y_NewTest , y_pred7_2)\n",
        "F1_Score7_2 = metrics.f1_score(y_NewTest , y_pred7_2)\n",
        "Roc7_2 = metrics.roc_auc_score(y_NewTest, y_pred7_2)\n",
        "\n",
        "print(\" \\nBaggingClassifier with decision trees \")\n",
        "print (\"Accuracy = \" ,  Accuracy7_2)\n",
        "print (\"Precision = \" , Precision7_2)\n",
        "print (\"Recall = \" , Recall7_2)\n",
        "print (\"F1_Score = \" , F1_Score7_2)\n",
        "print (\"ROC_Curve = \" , Roc7_2)\n",
        "\n",
        "ro.append(Roc7_2)\n",
        "acc.append(Accuracy7_2)\n",
        "pre.append(Precision7_2) \n",
        "rec.append(Recall7_2)\n",
        "f.append(F1_Score7_2)"
      ],
      "execution_count": 0,
      "outputs": [
        {
          "output_type": "stream",
          "text": [
            "By GridSearch, the best parameters are: \n",
            "{'base_estimator': DecisionTreeClassifier(class_weight=None, criterion='entropy', max_depth=20,\n",
            "                       max_features=None, max_leaf_nodes=None,\n",
            "                       min_impurity_decrease=0.0, min_impurity_split=None,\n",
            "                       min_samples_leaf=1, min_samples_split=2,\n",
            "                       min_weight_fraction_leaf=0.0, presort=False,\n",
            "                       random_state=None, splitter='best')}\n",
            " \n",
            "BaggingClassifier with decision trees \n",
            "Accuracy =  0.6696460493385771\n",
            "Precision =  0.6847631241997439\n",
            "Recall =  0.6344009489916963\n",
            "F1_Score =  0.6586206896551724\n",
            "ROC_Curve =  0.6698106277525531\n"
          ],
          "name": "stdout"
        }
      ]
    },
    {
      "cell_type": "markdown",
      "metadata": {
        "id": "7b7oHPDw16FZ",
        "colab_type": "text"
      },
      "source": [
        "**Eighth AdaBoosting**\n"
      ]
    },
    {
      "cell_type": "code",
      "metadata": {
        "id": "xm7MxSdD1xnZ",
        "colab_type": "code",
        "colab": {}
      },
      "source": [
        "#Adaptive Boosting Classifier (GridSearchCV for Hyperparameter Tuning)\n",
        "params8 = [{'n_estimators': [10 ,20 , 50] ,\n",
        "           'algorithm': ['SAMME' ,  'SAMME.R' ],\n",
        "           'learning_rate': [0.1, 0.05, 0.02]}]\n",
        "clf8 = GridSearchCV(estimator = AdaBoostClassifier(),\n",
        "                            param_grid = params8,\n",
        "                            scoring = 'neg_mean_squared_error')\n",
        "                            \n",
        "clf8.fit(x_NewTrain, y_NewTrain)\n",
        "\n",
        "y_pred8= clf8.predict(x_NewTest)\n",
        "\n"
      ],
      "execution_count": 0,
      "outputs": []
    },
    {
      "cell_type": "code",
      "metadata": {
        "id": "QQ1DyLU-juC4",
        "colab_type": "code",
        "outputId": "9604e0a7-2c06-4364-c30c-cd82b6bf8828",
        "colab": {
          "base_uri": "https://localhost:8080/",
          "height": 170
        }
      },
      "source": [
        "best_params8 = clf8.best_params_ #Determine which parameters used by the model\n",
        "print(\"By GridSearch, the best parameters are: \")  \n",
        "print(best_params8)\n",
        "#evaluaion \n",
        "Accuracy8 = metrics.accuracy_score(y_NewTest, y_pred8)\n",
        "Precision8 = metrics.precision_score(y_NewTest , y_pred8)\n",
        "Recall8 = metrics.recall_score(y_NewTest , y_pred8)\n",
        "F1_Score8 = metrics.f1_score(y_NewTest , y_pred8)\n",
        "Roc8 = metrics.roc_auc_score(y_NewTest, y_pred8)\n",
        "\n",
        "print(\" \\nAdaptive Boosting Classifier (GridSearchCV for Hyperparameter Tuning) \")\n",
        "print (\"Accuracy = \" ,  Accuracy8)\n",
        "print (\"Precision = \" , Precision8 )\n",
        "print (\"Recall = \" , Recall8 )\n",
        "print (\"F1_Score = \" , F1_Score8 )\n",
        "print (\"ROC_Curve = \" , Roc8)\n",
        "\n",
        "ro.append(Roc8)\n",
        "acc.append(Accuracy8)\n",
        "pre.append(Precision8) \n",
        "rec.append(Recall8)\n",
        "f.append(F1_Score8)"
      ],
      "execution_count": 0,
      "outputs": [
        {
          "output_type": "stream",
          "text": [
            "By GridSearch, the best parameters are: \n",
            "{'algorithm': 'SAMME.R', 'learning_rate': 0.1, 'n_estimators': 50}\n",
            " \n",
            "Adaptive Boosting Classifier (GridSearchCV for Hyperparameter Tuning) \n",
            "Accuracy =  0.6804910022643308\n",
            "Precision =  0.703232644409115\n",
            "Recall =  0.629655990510083\n",
            "F1_Score =  0.6644135686569033\n",
            "ROC_Curve =  0.6807283783968039\n"
          ],
          "name": "stdout"
        }
      ]
    },
    {
      "cell_type": "markdown",
      "metadata": {
        "id": "dYEDqCaf2Frb",
        "colab_type": "text"
      },
      "source": [
        "**Ninth Voting-Ensembling**"
      ]
    },
    {
      "cell_type": "code",
      "metadata": {
        "id": "u98AYbBa19oc",
        "colab_type": "code",
        "colab": {}
      },
      "source": [
        "#Hard Voting-Ensembling  for 5 previous-methods\n",
        "clf9 = VotingClassifier(estimators=[('bc', clf7_2), ('nb', clf2), ('lr', clf3), ('dt',clf4_3), ('rf', clf5) ], voting='hard')\n",
        "clf9=clf9.fit(x_NewTrain, y_NewTrain)\n",
        "\n",
        "y_pred9 = clf9.predict(x_NewTest)\n",
        "\n"
      ],
      "execution_count": 0,
      "outputs": []
    },
    {
      "cell_type": "code",
      "metadata": {
        "id": "W2KiICoyj0Co",
        "colab_type": "code",
        "outputId": "f9785bc8-9f2b-46fc-e104-d496c9cec3cc",
        "colab": {
          "base_uri": "https://localhost:8080/",
          "height": 136
        }
      },
      "source": [
        "#evaluaion \n",
        "Accuracy9 = metrics.accuracy_score(y_NewTest, y_pred9)\n",
        "Precision9 = metrics.precision_score(y_NewTest , y_pred9)\n",
        "Recall9 = metrics.recall_score(y_NewTest , y_pred9)\n",
        "F1_Score9 = metrics.f1_score(y_NewTest , y_pred9)\n",
        "Roc9 = metrics.roc_auc_score(y_NewTest, y_pred9)\n",
        "\n",
        "\n",
        "print(\" \\nHard Voting-Ensembling  \")\n",
        "print (\"Accuracy = \" ,  Accuracy9)\n",
        "print (\"Precision = \" , Precision9)\n",
        "print (\"Recall = \" , Recall9)\n",
        "print (\"F1_Score = \" , F1_Score9)\n",
        "print (\"ROC_Curve = \" , Roc9)\n",
        "\n",
        "ro.append(Roc9)\n",
        "acc.append(Accuracy9)\n",
        "pre.append(Precision9) \n",
        "rec.append(Recall9)\n",
        "f.append(F1_Score9)"
      ],
      "execution_count": 0,
      "outputs": [
        {
          "output_type": "stream",
          "text": [
            " \n",
            "Hard Voting-Ensembling  \n",
            "Accuracy =  0.7537838159933262\n",
            "Precision =  0.7608642874484098\n",
            "Recall =  0.7435349940688019\n",
            "F1_Score =  0.752099832013439\n",
            "ROC_Curve =  0.7538316732796116\n"
          ],
          "name": "stdout"
        }
      ]
    },
    {
      "cell_type": "markdown",
      "metadata": {
        "id": "EeVq5OWJcOxX",
        "colab_type": "text"
      },
      "source": [
        "##Ploting the comparision between classifiers methods\n"
      ]
    },
    {
      "cell_type": "code",
      "metadata": {
        "id": "5mPrJajVcL3H",
        "colab_type": "code",
        "outputId": "0fca394f-fa94-4488-fa50-039592339c26",
        "colab": {
          "base_uri": "https://localhost:8080/",
          "height": 264
        }
      },
      "source": [
        "lab = ['SVM1', 'SVM2','SVM3','NB', 'LR', 'DT1', 'DT2', 'DT3', 'RF', 'GB', 'B_NB', 'B_DT','AB', 'HV' ]\n",
        "plt.pie(acc,autopct='%.1f%%',labels=lab,)\n",
        "plt.title('Accuaracy')\n",
        "plt.show()"
      ],
      "execution_count": 0,
      "outputs": [
        {
          "output_type": "display_data",
          "data": {
            "image/png": "[encoded data removed]",
            "text/plain": [
              "<Figure size 432x288 with 1 Axes>"
            ]
          },
          "metadata": {
            "tags": []
          }
        }
      ]
    },
    {
      "cell_type": "code",
      "metadata": {
        "id": "i6h9zPG3cc21",
        "colab_type": "code",
        "outputId": "1b443024-1408-4744-8d89-7a9f347c3a1d",
        "colab": {
          "base_uri": "https://localhost:8080/",
          "height": 264
        }
      },
      "source": [
        "lab = ['SVM1', 'SVM2','SVM3','NB', 'LR', 'DT1', 'DT2', 'DT3', 'RF', 'GB', 'B_NB', 'B_DT','AB', 'HV' ]\n",
        "plt.pie(pre,autopct='%.1f%%',labels=lab,)\n",
        "plt.title('Precision')\n",
        "plt.show()"
      ],
      "execution_count": 0,
      "outputs": [
        {
          "output_type": "display_data",
          "data": {
            "image/png": "[encoded data removed]",
            "text/plain": [
              "<Figure size 432x288 with 1 Axes>"
            ]
          },
          "metadata": {
            "tags": []
          }
        }
      ]
    },
    {
      "cell_type": "code",
      "metadata": {
        "id": "Jk3v4dcAcgus",
        "colab_type": "code",
        "outputId": "fab7b2cf-ddd4-4355-9e7f-38e4c81beff7",
        "colab": {
          "base_uri": "https://localhost:8080/",
          "height": 264
        }
      },
      "source": [
        "lab = ['SVM1', 'SVM2','SVM3','NB', 'LR', 'DT1', 'DT2', 'DT3', 'RF', 'GB', 'B_NB', 'B_DT','AB', 'HV' ]\n",
        "plt.pie(rec,autopct='%.1f%%',labels=lab,)\n",
        "plt.title('Recall')\n",
        "plt.show()"
      ],
      "execution_count": 0,
      "outputs": [
        {
          "output_type": "display_data",
          "data": {
            "image/png": "[encoded data removed]",
            "text/plain": [
              "<Figure size 432x288 with 1 Axes>"
            ]
          },
          "metadata": {
            "tags": []
          }
        }
      ]
    },
    {
      "cell_type": "code",
      "metadata": {
        "id": "mrAn10Stclvl",
        "colab_type": "code",
        "outputId": "0fd119f4-4c21-41d8-9ddc-430c1c0825fa",
        "colab": {
          "base_uri": "https://localhost:8080/",
          "height": 264
        }
      },
      "source": [
        "lab = ['SVM1', 'SVM2','SVM3','NB', 'LR', 'DT1', 'DT2', 'DT3', 'RF', 'GB', 'B_NB', 'B_DT','AB', 'HV' ]\n",
        "plt.pie(f,autopct='%.1f%%',labels=lab,)\n",
        "plt.title('F1 Score')\n",
        "plt.show()"
      ],
      "execution_count": 0,
      "outputs": [
        {
          "output_type": "display_data",
          "data": {
            "image/png": "[encoded data removed]",
            "text/plain": [
              "<Figure size 432x288 with 1 Axes>"
            ]
          },
          "metadata": {
            "tags": []
          }
        }
      ]
    },
    {
      "cell_type": "code",
      "metadata": {
        "id": "eLQwwEIjct-d",
        "colab_type": "code",
        "outputId": "39db1797-7869-4547-e96e-2f76bba363f0",
        "colab": {
          "base_uri": "https://localhost:8080/",
          "height": 264
        }
      },
      "source": [
        "lab = ['SVM1','SVM2','SVM3', 'NB', 'LR', 'DT1', 'DT2', 'DT3', 'RF', 'GB', 'B_NB', 'B_DT','AB', 'HV' ]\n",
        "plt.pie(ro,autopct='%.1f%%',labels=lab,)\n",
        "plt.title('ROC_Score')\n",
        "plt.show()"
      ],
      "execution_count": 0,
      "outputs": [
        {
          "output_type": "display_data",
          "data": {
            "image/png": "[encoded data removed]",
            "text/plain": [
              "<Figure size 432x288 with 1 Axes>"
            ]
          },
          "metadata": {
            "tags": []
          }
        }
      ]
    }
  ]
}